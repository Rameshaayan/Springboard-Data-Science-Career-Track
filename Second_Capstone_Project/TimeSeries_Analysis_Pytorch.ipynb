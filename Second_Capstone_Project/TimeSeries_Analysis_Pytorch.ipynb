{
 "cells": [
  {
   "cell_type": "code",
   "execution_count": 1,
   "metadata": {
    "colab": {},
    "colab_type": "code",
    "id": "YSx7t-M5N0sx"
   },
   "outputs": [],
   "source": [
    "#Import Libraries\n",
    "import pandas as pd\n",
    "import numpy as np\n",
    "import matplotlib.pyplot as plt\n",
    "%matplotlib inline\n",
    "import torch\n",
    "import torch.nn as nn\n",
    "#import plotly.graph_objects as go\n",
    "from torch.autograd import Variable"
   ]
  },
  {
   "cell_type": "code",
   "execution_count": 2,
   "metadata": {
    "colab": {},
    "colab_type": "code",
    "id": "dpBZPvJdOBUr"
   },
   "outputs": [],
   "source": [
    "#Data Sources\n",
    "base_url = 'https://raw.githubusercontent.com/CSSEGISandData/COVID-19/master/csse_covid_19_data/csse_covid_19_time_series/'\n",
    "confirmed_cases_data_url = base_url + 'time_series_covid19_confirmed_global.csv'\n",
    "death_cases_data_url = base_url + 'time_series_covid19_deaths_global.csv'\n",
    "recovery_cases_data_url = base_url+ 'time_series_covid19_recovered_global.csv'\n",
    "name_country = \"US\""
   ]
  },
  {
   "cell_type": "code",
   "execution_count": 3,
   "metadata": {
    "colab": {},
    "colab_type": "code",
    "id": "v5_hVWf2OfW5"
   },
   "outputs": [],
   "source": [
    "raw_conf_df = pd.read_csv(confirmed_cases_data_url, index_col=\"Country/Region\")\n",
    "raw_death_df = pd.read_csv(death_cases_data_url, index_col=\"Country/Region\") \n",
    "raw_rec_df = pd.read_csv(recovery_cases_data_url, index_col=\"Country/Region\")\n"
   ]
  },
  {
   "cell_type": "code",
   "execution_count": 4,
   "metadata": {
    "colab": {
     "base_uri": "https://localhost:8080/",
     "height": 284
    },
    "colab_type": "code",
    "id": "rXLZ9u9-Ozf-",
    "outputId": "4ebd3870-6dae-43f4-9ec6-727184d213a0"
   },
   "outputs": [
    {
     "data": {
      "text/html": [
       "<div>\n",
       "<style scoped>\n",
       "    .dataframe tbody tr th:only-of-type {\n",
       "        vertical-align: middle;\n",
       "    }\n",
       "\n",
       "    .dataframe tbody tr th {\n",
       "        vertical-align: top;\n",
       "    }\n",
       "\n",
       "    .dataframe thead th {\n",
       "        text-align: right;\n",
       "    }\n",
       "</style>\n",
       "<table border=\"1\" class=\"dataframe\">\n",
       "  <thead>\n",
       "    <tr style=\"text-align: right;\">\n",
       "      <th></th>\n",
       "      <th>Province/State</th>\n",
       "      <th>Lat</th>\n",
       "      <th>Long</th>\n",
       "      <th>1/22/20</th>\n",
       "      <th>1/23/20</th>\n",
       "      <th>1/24/20</th>\n",
       "      <th>1/25/20</th>\n",
       "      <th>1/26/20</th>\n",
       "      <th>1/27/20</th>\n",
       "      <th>1/28/20</th>\n",
       "      <th>...</th>\n",
       "      <th>6/29/20</th>\n",
       "      <th>6/30/20</th>\n",
       "      <th>7/1/20</th>\n",
       "      <th>7/2/20</th>\n",
       "      <th>7/3/20</th>\n",
       "      <th>7/4/20</th>\n",
       "      <th>7/5/20</th>\n",
       "      <th>7/6/20</th>\n",
       "      <th>7/7/20</th>\n",
       "      <th>7/8/20</th>\n",
       "    </tr>\n",
       "    <tr>\n",
       "      <th>Country/Region</th>\n",
       "      <th></th>\n",
       "      <th></th>\n",
       "      <th></th>\n",
       "      <th></th>\n",
       "      <th></th>\n",
       "      <th></th>\n",
       "      <th></th>\n",
       "      <th></th>\n",
       "      <th></th>\n",
       "      <th></th>\n",
       "      <th></th>\n",
       "      <th></th>\n",
       "      <th></th>\n",
       "      <th></th>\n",
       "      <th></th>\n",
       "      <th></th>\n",
       "      <th></th>\n",
       "      <th></th>\n",
       "      <th></th>\n",
       "      <th></th>\n",
       "      <th></th>\n",
       "    </tr>\n",
       "  </thead>\n",
       "  <tbody>\n",
       "    <tr>\n",
       "      <th>Afghanistan</th>\n",
       "      <td>NaN</td>\n",
       "      <td>33.0000</td>\n",
       "      <td>65.0000</td>\n",
       "      <td>0</td>\n",
       "      <td>0</td>\n",
       "      <td>0</td>\n",
       "      <td>0</td>\n",
       "      <td>0</td>\n",
       "      <td>0</td>\n",
       "      <td>0</td>\n",
       "      <td>...</td>\n",
       "      <td>31238</td>\n",
       "      <td>31517</td>\n",
       "      <td>31836</td>\n",
       "      <td>32022</td>\n",
       "      <td>32324</td>\n",
       "      <td>32672</td>\n",
       "      <td>32951</td>\n",
       "      <td>33190</td>\n",
       "      <td>33384</td>\n",
       "      <td>33594</td>\n",
       "    </tr>\n",
       "    <tr>\n",
       "      <th>Albania</th>\n",
       "      <td>NaN</td>\n",
       "      <td>41.1533</td>\n",
       "      <td>20.1683</td>\n",
       "      <td>0</td>\n",
       "      <td>0</td>\n",
       "      <td>0</td>\n",
       "      <td>0</td>\n",
       "      <td>0</td>\n",
       "      <td>0</td>\n",
       "      <td>0</td>\n",
       "      <td>...</td>\n",
       "      <td>2466</td>\n",
       "      <td>2535</td>\n",
       "      <td>2580</td>\n",
       "      <td>2662</td>\n",
       "      <td>2752</td>\n",
       "      <td>2819</td>\n",
       "      <td>2893</td>\n",
       "      <td>2964</td>\n",
       "      <td>3038</td>\n",
       "      <td>3106</td>\n",
       "    </tr>\n",
       "    <tr>\n",
       "      <th>Algeria</th>\n",
       "      <td>NaN</td>\n",
       "      <td>28.0339</td>\n",
       "      <td>1.6596</td>\n",
       "      <td>0</td>\n",
       "      <td>0</td>\n",
       "      <td>0</td>\n",
       "      <td>0</td>\n",
       "      <td>0</td>\n",
       "      <td>0</td>\n",
       "      <td>0</td>\n",
       "      <td>...</td>\n",
       "      <td>13571</td>\n",
       "      <td>13907</td>\n",
       "      <td>14272</td>\n",
       "      <td>14657</td>\n",
       "      <td>15070</td>\n",
       "      <td>15500</td>\n",
       "      <td>15941</td>\n",
       "      <td>16404</td>\n",
       "      <td>16879</td>\n",
       "      <td>17348</td>\n",
       "    </tr>\n",
       "    <tr>\n",
       "      <th>Andorra</th>\n",
       "      <td>NaN</td>\n",
       "      <td>42.5063</td>\n",
       "      <td>1.5218</td>\n",
       "      <td>0</td>\n",
       "      <td>0</td>\n",
       "      <td>0</td>\n",
       "      <td>0</td>\n",
       "      <td>0</td>\n",
       "      <td>0</td>\n",
       "      <td>0</td>\n",
       "      <td>...</td>\n",
       "      <td>855</td>\n",
       "      <td>855</td>\n",
       "      <td>855</td>\n",
       "      <td>855</td>\n",
       "      <td>855</td>\n",
       "      <td>855</td>\n",
       "      <td>855</td>\n",
       "      <td>855</td>\n",
       "      <td>855</td>\n",
       "      <td>855</td>\n",
       "    </tr>\n",
       "    <tr>\n",
       "      <th>Angola</th>\n",
       "      <td>NaN</td>\n",
       "      <td>-11.2027</td>\n",
       "      <td>17.8739</td>\n",
       "      <td>0</td>\n",
       "      <td>0</td>\n",
       "      <td>0</td>\n",
       "      <td>0</td>\n",
       "      <td>0</td>\n",
       "      <td>0</td>\n",
       "      <td>0</td>\n",
       "      <td>...</td>\n",
       "      <td>276</td>\n",
       "      <td>284</td>\n",
       "      <td>291</td>\n",
       "      <td>315</td>\n",
       "      <td>328</td>\n",
       "      <td>346</td>\n",
       "      <td>346</td>\n",
       "      <td>346</td>\n",
       "      <td>386</td>\n",
       "      <td>386</td>\n",
       "    </tr>\n",
       "  </tbody>\n",
       "</table>\n",
       "<p>5 rows × 172 columns</p>\n",
       "</div>"
      ],
      "text/plain": [
       "               Province/State      Lat     Long  1/22/20  1/23/20  1/24/20  \\\n",
       "Country/Region                                                               \n",
       "Afghanistan               NaN  33.0000  65.0000        0        0        0   \n",
       "Albania                   NaN  41.1533  20.1683        0        0        0   \n",
       "Algeria                   NaN  28.0339   1.6596        0        0        0   \n",
       "Andorra                   NaN  42.5063   1.5218        0        0        0   \n",
       "Angola                    NaN -11.2027  17.8739        0        0        0   \n",
       "\n",
       "                1/25/20  1/26/20  1/27/20  1/28/20  ...  6/29/20  6/30/20  \\\n",
       "Country/Region                                      ...                     \n",
       "Afghanistan           0        0        0        0  ...    31238    31517   \n",
       "Albania               0        0        0        0  ...     2466     2535   \n",
       "Algeria               0        0        0        0  ...    13571    13907   \n",
       "Andorra               0        0        0        0  ...      855      855   \n",
       "Angola                0        0        0        0  ...      276      284   \n",
       "\n",
       "                7/1/20  7/2/20  7/3/20  7/4/20  7/5/20  7/6/20  7/7/20  7/8/20  \n",
       "Country/Region                                                                  \n",
       "Afghanistan      31836   32022   32324   32672   32951   33190   33384   33594  \n",
       "Albania           2580    2662    2752    2819    2893    2964    3038    3106  \n",
       "Algeria          14272   14657   15070   15500   15941   16404   16879   17348  \n",
       "Andorra            855     855     855     855     855     855     855     855  \n",
       "Angola             291     315     328     346     346     346     386     386  \n",
       "\n",
       "[5 rows x 172 columns]"
      ]
     },
     "execution_count": 4,
     "metadata": {},
     "output_type": "execute_result"
    }
   ],
   "source": [
    "raw_conf_df.head()"
   ]
  },
  {
   "cell_type": "code",
   "execution_count": 5,
   "metadata": {
    "colab": {
     "base_uri": "https://localhost:8080/",
     "height": 284
    },
    "colab_type": "code",
    "id": "DtvxSwzVO2Ov",
    "outputId": "fdde4f57-8842-4b6c-d665-ef3dc010f0b3"
   },
   "outputs": [
    {
     "data": {
      "text/html": [
       "<div>\n",
       "<style scoped>\n",
       "    .dataframe tbody tr th:only-of-type {\n",
       "        vertical-align: middle;\n",
       "    }\n",
       "\n",
       "    .dataframe tbody tr th {\n",
       "        vertical-align: top;\n",
       "    }\n",
       "\n",
       "    .dataframe thead th {\n",
       "        text-align: right;\n",
       "    }\n",
       "</style>\n",
       "<table border=\"1\" class=\"dataframe\">\n",
       "  <thead>\n",
       "    <tr style=\"text-align: right;\">\n",
       "      <th></th>\n",
       "      <th>Province/State</th>\n",
       "      <th>Lat</th>\n",
       "      <th>Long</th>\n",
       "      <th>1/22/20</th>\n",
       "      <th>1/23/20</th>\n",
       "      <th>1/24/20</th>\n",
       "      <th>1/25/20</th>\n",
       "      <th>1/26/20</th>\n",
       "      <th>1/27/20</th>\n",
       "      <th>1/28/20</th>\n",
       "      <th>...</th>\n",
       "      <th>6/29/20</th>\n",
       "      <th>6/30/20</th>\n",
       "      <th>7/1/20</th>\n",
       "      <th>7/2/20</th>\n",
       "      <th>7/3/20</th>\n",
       "      <th>7/4/20</th>\n",
       "      <th>7/5/20</th>\n",
       "      <th>7/6/20</th>\n",
       "      <th>7/7/20</th>\n",
       "      <th>7/8/20</th>\n",
       "    </tr>\n",
       "    <tr>\n",
       "      <th>Country/Region</th>\n",
       "      <th></th>\n",
       "      <th></th>\n",
       "      <th></th>\n",
       "      <th></th>\n",
       "      <th></th>\n",
       "      <th></th>\n",
       "      <th></th>\n",
       "      <th></th>\n",
       "      <th></th>\n",
       "      <th></th>\n",
       "      <th></th>\n",
       "      <th></th>\n",
       "      <th></th>\n",
       "      <th></th>\n",
       "      <th></th>\n",
       "      <th></th>\n",
       "      <th></th>\n",
       "      <th></th>\n",
       "      <th></th>\n",
       "      <th></th>\n",
       "      <th></th>\n",
       "    </tr>\n",
       "  </thead>\n",
       "  <tbody>\n",
       "    <tr>\n",
       "      <th>Afghanistan</th>\n",
       "      <td>NaN</td>\n",
       "      <td>33.0000</td>\n",
       "      <td>65.0000</td>\n",
       "      <td>0</td>\n",
       "      <td>0</td>\n",
       "      <td>0</td>\n",
       "      <td>0</td>\n",
       "      <td>0</td>\n",
       "      <td>0</td>\n",
       "      <td>0</td>\n",
       "      <td>...</td>\n",
       "      <td>733</td>\n",
       "      <td>746</td>\n",
       "      <td>774</td>\n",
       "      <td>807</td>\n",
       "      <td>819</td>\n",
       "      <td>826</td>\n",
       "      <td>864</td>\n",
       "      <td>898</td>\n",
       "      <td>920</td>\n",
       "      <td>936</td>\n",
       "    </tr>\n",
       "    <tr>\n",
       "      <th>Albania</th>\n",
       "      <td>NaN</td>\n",
       "      <td>41.1533</td>\n",
       "      <td>20.1683</td>\n",
       "      <td>0</td>\n",
       "      <td>0</td>\n",
       "      <td>0</td>\n",
       "      <td>0</td>\n",
       "      <td>0</td>\n",
       "      <td>0</td>\n",
       "      <td>0</td>\n",
       "      <td>...</td>\n",
       "      <td>58</td>\n",
       "      <td>62</td>\n",
       "      <td>65</td>\n",
       "      <td>69</td>\n",
       "      <td>72</td>\n",
       "      <td>74</td>\n",
       "      <td>76</td>\n",
       "      <td>79</td>\n",
       "      <td>81</td>\n",
       "      <td>83</td>\n",
       "    </tr>\n",
       "    <tr>\n",
       "      <th>Algeria</th>\n",
       "      <td>NaN</td>\n",
       "      <td>28.0339</td>\n",
       "      <td>1.6596</td>\n",
       "      <td>0</td>\n",
       "      <td>0</td>\n",
       "      <td>0</td>\n",
       "      <td>0</td>\n",
       "      <td>0</td>\n",
       "      <td>0</td>\n",
       "      <td>0</td>\n",
       "      <td>...</td>\n",
       "      <td>905</td>\n",
       "      <td>912</td>\n",
       "      <td>920</td>\n",
       "      <td>928</td>\n",
       "      <td>937</td>\n",
       "      <td>946</td>\n",
       "      <td>952</td>\n",
       "      <td>959</td>\n",
       "      <td>968</td>\n",
       "      <td>978</td>\n",
       "    </tr>\n",
       "    <tr>\n",
       "      <th>Andorra</th>\n",
       "      <td>NaN</td>\n",
       "      <td>42.5063</td>\n",
       "      <td>1.5218</td>\n",
       "      <td>0</td>\n",
       "      <td>0</td>\n",
       "      <td>0</td>\n",
       "      <td>0</td>\n",
       "      <td>0</td>\n",
       "      <td>0</td>\n",
       "      <td>0</td>\n",
       "      <td>...</td>\n",
       "      <td>52</td>\n",
       "      <td>52</td>\n",
       "      <td>52</td>\n",
       "      <td>52</td>\n",
       "      <td>52</td>\n",
       "      <td>52</td>\n",
       "      <td>52</td>\n",
       "      <td>52</td>\n",
       "      <td>52</td>\n",
       "      <td>52</td>\n",
       "    </tr>\n",
       "    <tr>\n",
       "      <th>Angola</th>\n",
       "      <td>NaN</td>\n",
       "      <td>-11.2027</td>\n",
       "      <td>17.8739</td>\n",
       "      <td>0</td>\n",
       "      <td>0</td>\n",
       "      <td>0</td>\n",
       "      <td>0</td>\n",
       "      <td>0</td>\n",
       "      <td>0</td>\n",
       "      <td>0</td>\n",
       "      <td>...</td>\n",
       "      <td>11</td>\n",
       "      <td>13</td>\n",
       "      <td>15</td>\n",
       "      <td>17</td>\n",
       "      <td>18</td>\n",
       "      <td>19</td>\n",
       "      <td>19</td>\n",
       "      <td>19</td>\n",
       "      <td>21</td>\n",
       "      <td>21</td>\n",
       "    </tr>\n",
       "  </tbody>\n",
       "</table>\n",
       "<p>5 rows × 172 columns</p>\n",
       "</div>"
      ],
      "text/plain": [
       "               Province/State      Lat     Long  1/22/20  1/23/20  1/24/20  \\\n",
       "Country/Region                                                               \n",
       "Afghanistan               NaN  33.0000  65.0000        0        0        0   \n",
       "Albania                   NaN  41.1533  20.1683        0        0        0   \n",
       "Algeria                   NaN  28.0339   1.6596        0        0        0   \n",
       "Andorra                   NaN  42.5063   1.5218        0        0        0   \n",
       "Angola                    NaN -11.2027  17.8739        0        0        0   \n",
       "\n",
       "                1/25/20  1/26/20  1/27/20  1/28/20  ...  6/29/20  6/30/20  \\\n",
       "Country/Region                                      ...                     \n",
       "Afghanistan           0        0        0        0  ...      733      746   \n",
       "Albania               0        0        0        0  ...       58       62   \n",
       "Algeria               0        0        0        0  ...      905      912   \n",
       "Andorra               0        0        0        0  ...       52       52   \n",
       "Angola                0        0        0        0  ...       11       13   \n",
       "\n",
       "                7/1/20  7/2/20  7/3/20  7/4/20  7/5/20  7/6/20  7/7/20  7/8/20  \n",
       "Country/Region                                                                  \n",
       "Afghanistan        774     807     819     826     864     898     920     936  \n",
       "Albania             65      69      72      74      76      79      81      83  \n",
       "Algeria            920     928     937     946     952     959     968     978  \n",
       "Andorra             52      52      52      52      52      52      52      52  \n",
       "Angola              15      17      18      19      19      19      21      21  \n",
       "\n",
       "[5 rows x 172 columns]"
      ]
     },
     "execution_count": 5,
     "metadata": {},
     "output_type": "execute_result"
    }
   ],
   "source": [
    "raw_death_df.head()"
   ]
  },
  {
   "cell_type": "code",
   "execution_count": 6,
   "metadata": {
    "colab": {
     "base_uri": "https://localhost:8080/",
     "height": 284
    },
    "colab_type": "code",
    "id": "Ye4P3XlxPQ8M",
    "outputId": "52a8fb5a-6b06-411c-e7e6-d06e8f1c277d"
   },
   "outputs": [
    {
     "data": {
      "text/html": [
       "<div>\n",
       "<style scoped>\n",
       "    .dataframe tbody tr th:only-of-type {\n",
       "        vertical-align: middle;\n",
       "    }\n",
       "\n",
       "    .dataframe tbody tr th {\n",
       "        vertical-align: top;\n",
       "    }\n",
       "\n",
       "    .dataframe thead th {\n",
       "        text-align: right;\n",
       "    }\n",
       "</style>\n",
       "<table border=\"1\" class=\"dataframe\">\n",
       "  <thead>\n",
       "    <tr style=\"text-align: right;\">\n",
       "      <th></th>\n",
       "      <th>Province/State</th>\n",
       "      <th>Lat</th>\n",
       "      <th>Long</th>\n",
       "      <th>1/22/20</th>\n",
       "      <th>1/23/20</th>\n",
       "      <th>1/24/20</th>\n",
       "      <th>1/25/20</th>\n",
       "      <th>1/26/20</th>\n",
       "      <th>1/27/20</th>\n",
       "      <th>1/28/20</th>\n",
       "      <th>...</th>\n",
       "      <th>6/29/20</th>\n",
       "      <th>6/30/20</th>\n",
       "      <th>7/1/20</th>\n",
       "      <th>7/2/20</th>\n",
       "      <th>7/3/20</th>\n",
       "      <th>7/4/20</th>\n",
       "      <th>7/5/20</th>\n",
       "      <th>7/6/20</th>\n",
       "      <th>7/7/20</th>\n",
       "      <th>7/8/20</th>\n",
       "    </tr>\n",
       "    <tr>\n",
       "      <th>Country/Region</th>\n",
       "      <th></th>\n",
       "      <th></th>\n",
       "      <th></th>\n",
       "      <th></th>\n",
       "      <th></th>\n",
       "      <th></th>\n",
       "      <th></th>\n",
       "      <th></th>\n",
       "      <th></th>\n",
       "      <th></th>\n",
       "      <th></th>\n",
       "      <th></th>\n",
       "      <th></th>\n",
       "      <th></th>\n",
       "      <th></th>\n",
       "      <th></th>\n",
       "      <th></th>\n",
       "      <th></th>\n",
       "      <th></th>\n",
       "      <th></th>\n",
       "      <th></th>\n",
       "    </tr>\n",
       "  </thead>\n",
       "  <tbody>\n",
       "    <tr>\n",
       "      <th>Afghanistan</th>\n",
       "      <td>NaN</td>\n",
       "      <td>33.0000</td>\n",
       "      <td>65.0000</td>\n",
       "      <td>0</td>\n",
       "      <td>0</td>\n",
       "      <td>0</td>\n",
       "      <td>0</td>\n",
       "      <td>0</td>\n",
       "      <td>0</td>\n",
       "      <td>0</td>\n",
       "      <td>...</td>\n",
       "      <td>13934</td>\n",
       "      <td>14131</td>\n",
       "      <td>15651</td>\n",
       "      <td>16041</td>\n",
       "      <td>17331</td>\n",
       "      <td>19164</td>\n",
       "      <td>19366</td>\n",
       "      <td>20103</td>\n",
       "      <td>20179</td>\n",
       "      <td>20700</td>\n",
       "    </tr>\n",
       "    <tr>\n",
       "      <th>Albania</th>\n",
       "      <td>NaN</td>\n",
       "      <td>41.1533</td>\n",
       "      <td>20.1683</td>\n",
       "      <td>0</td>\n",
       "      <td>0</td>\n",
       "      <td>0</td>\n",
       "      <td>0</td>\n",
       "      <td>0</td>\n",
       "      <td>0</td>\n",
       "      <td>0</td>\n",
       "      <td>...</td>\n",
       "      <td>1438</td>\n",
       "      <td>1459</td>\n",
       "      <td>1516</td>\n",
       "      <td>1559</td>\n",
       "      <td>1592</td>\n",
       "      <td>1637</td>\n",
       "      <td>1657</td>\n",
       "      <td>1702</td>\n",
       "      <td>1744</td>\n",
       "      <td>1791</td>\n",
       "    </tr>\n",
       "    <tr>\n",
       "      <th>Algeria</th>\n",
       "      <td>NaN</td>\n",
       "      <td>28.0339</td>\n",
       "      <td>1.6596</td>\n",
       "      <td>0</td>\n",
       "      <td>0</td>\n",
       "      <td>0</td>\n",
       "      <td>0</td>\n",
       "      <td>0</td>\n",
       "      <td>0</td>\n",
       "      <td>0</td>\n",
       "      <td>...</td>\n",
       "      <td>9674</td>\n",
       "      <td>9897</td>\n",
       "      <td>10040</td>\n",
       "      <td>10342</td>\n",
       "      <td>10832</td>\n",
       "      <td>11181</td>\n",
       "      <td>11492</td>\n",
       "      <td>11884</td>\n",
       "      <td>12094</td>\n",
       "      <td>12329</td>\n",
       "    </tr>\n",
       "    <tr>\n",
       "      <th>Andorra</th>\n",
       "      <td>NaN</td>\n",
       "      <td>42.5063</td>\n",
       "      <td>1.5218</td>\n",
       "      <td>0</td>\n",
       "      <td>0</td>\n",
       "      <td>0</td>\n",
       "      <td>0</td>\n",
       "      <td>0</td>\n",
       "      <td>0</td>\n",
       "      <td>0</td>\n",
       "      <td>...</td>\n",
       "      <td>799</td>\n",
       "      <td>799</td>\n",
       "      <td>799</td>\n",
       "      <td>800</td>\n",
       "      <td>800</td>\n",
       "      <td>800</td>\n",
       "      <td>800</td>\n",
       "      <td>800</td>\n",
       "      <td>800</td>\n",
       "      <td>802</td>\n",
       "    </tr>\n",
       "    <tr>\n",
       "      <th>Angola</th>\n",
       "      <td>NaN</td>\n",
       "      <td>-11.2027</td>\n",
       "      <td>17.8739</td>\n",
       "      <td>0</td>\n",
       "      <td>0</td>\n",
       "      <td>0</td>\n",
       "      <td>0</td>\n",
       "      <td>0</td>\n",
       "      <td>0</td>\n",
       "      <td>0</td>\n",
       "      <td>...</td>\n",
       "      <td>93</td>\n",
       "      <td>93</td>\n",
       "      <td>97</td>\n",
       "      <td>97</td>\n",
       "      <td>107</td>\n",
       "      <td>108</td>\n",
       "      <td>108</td>\n",
       "      <td>108</td>\n",
       "      <td>117</td>\n",
       "      <td>117</td>\n",
       "    </tr>\n",
       "  </tbody>\n",
       "</table>\n",
       "<p>5 rows × 172 columns</p>\n",
       "</div>"
      ],
      "text/plain": [
       "               Province/State      Lat     Long  1/22/20  1/23/20  1/24/20  \\\n",
       "Country/Region                                                               \n",
       "Afghanistan               NaN  33.0000  65.0000        0        0        0   \n",
       "Albania                   NaN  41.1533  20.1683        0        0        0   \n",
       "Algeria                   NaN  28.0339   1.6596        0        0        0   \n",
       "Andorra                   NaN  42.5063   1.5218        0        0        0   \n",
       "Angola                    NaN -11.2027  17.8739        0        0        0   \n",
       "\n",
       "                1/25/20  1/26/20  1/27/20  1/28/20  ...  6/29/20  6/30/20  \\\n",
       "Country/Region                                      ...                     \n",
       "Afghanistan           0        0        0        0  ...    13934    14131   \n",
       "Albania               0        0        0        0  ...     1438     1459   \n",
       "Algeria               0        0        0        0  ...     9674     9897   \n",
       "Andorra               0        0        0        0  ...      799      799   \n",
       "Angola                0        0        0        0  ...       93       93   \n",
       "\n",
       "                7/1/20  7/2/20  7/3/20  7/4/20  7/5/20  7/6/20  7/7/20  7/8/20  \n",
       "Country/Region                                                                  \n",
       "Afghanistan      15651   16041   17331   19164   19366   20103   20179   20700  \n",
       "Albania           1516    1559    1592    1637    1657    1702    1744    1791  \n",
       "Algeria          10040   10342   10832   11181   11492   11884   12094   12329  \n",
       "Andorra            799     800     800     800     800     800     800     802  \n",
       "Angola              97      97     107     108     108     108     117     117  \n",
       "\n",
       "[5 rows x 172 columns]"
      ]
     },
     "execution_count": 6,
     "metadata": {},
     "output_type": "execute_result"
    }
   ],
   "source": [
    "raw_rec_df.head()\n"
   ]
  },
  {
   "cell_type": "code",
   "execution_count": 7,
   "metadata": {
    "colab": {},
    "colab_type": "code",
    "id": "QmW2Pr7iPTY_"
   },
   "outputs": [],
   "source": [
    "us_conf = raw_conf_df.loc[name_country]\n",
    "us_deaths = raw_death_df.loc[name_country]\n",
    "us_rec = raw_rec_df.loc[name_country]"
   ]
  },
  {
   "cell_type": "code",
   "execution_count": 8,
   "metadata": {
    "colab": {
     "base_uri": "https://localhost:8080/",
     "height": 221
    },
    "colab_type": "code",
    "id": "EBJbbPZqQTR5",
    "outputId": "743434dc-1efd-43f3-c968-98e018c5d302"
   },
   "outputs": [
    {
     "data": {
      "text/plain": [
       "Province/State        NaN\n",
       "Lat               37.0902\n",
       "Long             -95.7129\n",
       "1/22/20                 1\n",
       "1/23/20                 1\n",
       "                   ...   \n",
       "7/4/20            2841241\n",
       "7/5/20            2891124\n",
       "7/6/20            2936077\n",
       "7/7/20            2996098\n",
       "7/8/20            3054699\n",
       "Name: US, Length: 172, dtype: object"
      ]
     },
     "execution_count": 8,
     "metadata": {},
     "output_type": "execute_result"
    }
   ],
   "source": [
    "us_conf"
   ]
  },
  {
   "cell_type": "code",
   "execution_count": 9,
   "metadata": {
    "colab": {
     "base_uri": "https://localhost:8080/",
     "height": 221
    },
    "colab_type": "code",
    "id": "3S8rQH1MRNpG",
    "outputId": "78bbc4b6-e49e-43f3-ea3a-0cdfd1d7f631"
   },
   "outputs": [
    {
     "data": {
      "text/plain": [
       "1/22/20          1\n",
       "1/23/20          1\n",
       "1/24/20          2\n",
       "1/25/20          2\n",
       "1/26/20          5\n",
       "            ...   \n",
       "7/4/20     2841241\n",
       "7/5/20     2891124\n",
       "7/6/20     2936077\n",
       "7/7/20     2996098\n",
       "7/8/20     3054699\n",
       "Name: US, Length: 169, dtype: object"
      ]
     },
     "execution_count": 9,
     "metadata": {},
     "output_type": "execute_result"
    }
   ],
   "source": [
    "us_conf[3:]"
   ]
  },
  {
   "cell_type": "code",
   "execution_count": 10,
   "metadata": {
    "colab": {
     "base_uri": "https://localhost:8080/",
     "height": 584
    },
    "colab_type": "code",
    "id": "FXbTs76vSPCs",
    "outputId": "ea39c722-deda-4ab0-dbb5-c6363797352a"
   },
   "outputs": [
    {
     "data": {
      "text/plain": [
       "[<matplotlib.lines.Line2D at 0x1f230c2e860>]"
      ]
     },
     "execution_count": 10,
     "metadata": {},
     "output_type": "execute_result"
    },
    {
     "data": {
      "image/png": "[encoded data removed]",
      "text/plain": [
       "<Figure size 2160x648 with 1 Axes>"
      ]
     },
     "metadata": {
      "needs_background": "light"
     },
     "output_type": "display_data"
    }
   ],
   "source": [
    "plt.figure(figsize=(30,9))\n",
    "plt.title(\"Confirmed Cases in the US\")\n",
    "plt.xlabel(\"Time\")\n",
    "plt.ylabel(\"Confirmed Cases\")\n",
    "plt.plot(raw_conf_df.columns[3:], us_conf[3:])"
   ]
  },
  {
   "cell_type": "code",
   "execution_count": 11,
   "metadata": {
    "colab": {
     "base_uri": "https://localhost:8080/",
     "height": 542
    },
    "colab_type": "code",
    "id": "cG0hKxC_TYWm",
    "outputId": "a8d1c50a-5507-4249-a3f7-10a60d6908f5"
   },
   "outputs": [
    {
     "data": {
      "text/plain": [
       "'fig = go.Figure(data=[\\n    go.Scatter(\\n        name=\"Confirmed Cases\",\\n        x=raw_conf_df.columns[3:],\\n        y=us_conf[3:]\\n    ),\\n    go.Scatter(\\n        name=\"Confirmed Deaths\",\\n        x=raw_death_df.columns[3:],\\n        y=us_deaths[3:]\\n    ),\\n    go.Scatter(\\n        name=\"Confirmed Recoveries\",\\n        x=raw_rec_df.columns[3:],\\n        y=us_rec[3:]\\n    )\\n\\n])\\n# fig.update_yaxes(type=\"log\")\\n\\nfig.show()'"
      ]
     },
     "execution_count": 11,
     "metadata": {},
     "output_type": "execute_result"
    }
   ],
   "source": [
    "\"\"\"fig = go.Figure(data=[\n",
    "    go.Scatter(\n",
    "        name=\"Confirmed Cases\",\n",
    "        x=raw_conf_df.columns[3:],\n",
    "        y=us_conf[3:]\n",
    "    ),\n",
    "    go.Scatter(\n",
    "        name=\"Confirmed Deaths\",\n",
    "        x=raw_death_df.columns[3:],\n",
    "        y=us_deaths[3:]\n",
    "    ),\n",
    "    go.Scatter(\n",
    "        name=\"Confirmed Recoveries\",\n",
    "        x=raw_rec_df.columns[3:],\n",
    "        y=us_rec[3:]\n",
    "    )\n",
    "\n",
    "])\n",
    "# fig.update_yaxes(type=\"log\")\n",
    "\n",
    "fig.show()\"\"\""
   ]
  },
  {
   "cell_type": "code",
   "execution_count": 12,
   "metadata": {
    "colab": {
     "base_uri": "https://localhost:8080/",
     "height": 85
    },
    "colab_type": "code",
    "id": "J291kqLmWNCJ",
    "outputId": "48e769a4-e8c7-4ac9-ffb6-fe9de1d18ec0"
   },
   "outputs": [],
   "source": [
    "from statsmodels.tsa.stattools import adfuller"
   ]
  },
  {
   "cell_type": "code",
   "execution_count": 13,
   "metadata": {
    "colab": {},
    "colab_type": "code",
    "id": "3IHQtIte_fyg"
   },
   "outputs": [],
   "source": [
    "result = adfuller(us_conf[3:].values)"
   ]
  },
  {
   "cell_type": "code",
   "execution_count": 14,
   "metadata": {
    "colab": {
     "base_uri": "https://localhost:8080/",
     "height": 153
    },
    "colab_type": "code",
    "id": "jXAAU4JS_1Ez",
    "outputId": "26419b0f-27b3-4082-eb28-c4589faa5e1e"
   },
   "outputs": [
    {
     "data": {
      "text/plain": [
       "(2.5970863779098403,\n",
       " 0.9990746105663427,\n",
       " 10,\n",
       " 158,\n",
       " {'1%': -3.4724305215713156,\n",
       "  '5%': -2.8800127935315465,\n",
       "  '10%': -2.576619230892485},\n",
       " 2805.1127971910646)"
      ]
     },
     "execution_count": 14,
     "metadata": {},
     "output_type": "execute_result"
    }
   ],
   "source": [
    "result"
   ]
  },
  {
   "cell_type": "code",
   "execution_count": 15,
   "metadata": {
    "colab": {},
    "colab_type": "code",
    "id": "73pA3rGm_2cq"
   },
   "outputs": [],
   "source": [
    "# Comparing the test statistic to the critical values, \n",
    "#it looks like we would have to fail to reject the null hypothesis that the time series is non-stationary and \n",
    "#does have time-dependent structure.\n",
    "#Non-Stationary"
   ]
  },
  {
   "cell_type": "code",
   "execution_count": 16,
   "metadata": {
    "colab": {},
    "colab_type": "code",
    "id": "mem3JU4Sf8mH"
   },
   "outputs": [],
   "source": [
    "import math\n",
    "from sklearn.preprocessing import MinMaxScaler\n",
    "#Preprocess Data\n",
    "train_size = 0.9\n",
    "total_data = np.array(us_conf[3:].values).reshape(-1,1)\n",
    "scaler = MinMaxScaler()\n",
    "data_norm = scaler.fit_transform(total_data)\n",
    "#train_data = data_norm[:math.floor(train_size*len(total_data))]"
   ]
  },
  {
   "cell_type": "code",
   "execution_count": 17,
   "metadata": {
    "colab": {
     "base_uri": "https://localhost:8080/",
     "height": 51
    },
    "colab_type": "code",
    "id": "_ELLeRQzjPoj",
    "outputId": "f3ea9077-7960-4bd6-9d76-38b7a3fc171b"
   },
   "outputs": [
    {
     "name": "stdout",
     "output_type": "stream",
     "text": [
      "(125, 30, 1)\n",
      "(125, 1)\n"
     ]
    }
   ],
   "source": [
    "def sliding_window(data, seq_length,out_seq_length):\n",
    "  x = []\n",
    "  y = []\n",
    "\n",
    "  for i in range(len(data)-seq_length-1):\n",
    "    if ((i+seq_length+out_seq_length)<len(data)):\n",
    "      _x = data[i:(i+seq_length)]\n",
    "      _y = data[i+seq_length+out_seq_length]\n",
    "      x.append(_x)\n",
    "      y.append(_y)\n",
    "\n",
    "  return np.array(x), np.array(y)\n",
    "\n",
    "X, y = sliding_window(data_norm, 30, 14)\n",
    "\n",
    "#X = X.reshape(122,30)\n",
    "#y = y.reshape(122)\n",
    "print(X.shape)\n",
    "print(y.shape)"
   ]
  },
  {
   "cell_type": "code",
   "execution_count": 18,
   "metadata": {
    "colab": {
     "base_uri": "https://localhost:8080/",
     "height": 34
    },
    "colab_type": "code",
    "id": "1GEtU0JkmpCe",
    "outputId": "2e26e989-a153-4de6-aa5f-4807c131141c"
   },
   "outputs": [
    {
     "name": "stdout",
     "output_type": "stream",
     "text": [
      "torch.Size([15, 1])\n"
     ]
    }
   ],
   "source": [
    "dataX = Variable(torch.Tensor(np.array(X)))\n",
    "dataY = Variable(torch.Tensor(np.array(y)))\n",
    "\n",
    "trainX = Variable(torch.Tensor(np.array(X[0:math.floor(train_size*123)])))\n",
    "trainY = Variable(torch.Tensor(np.array(y[0:math.floor(train_size*123)])))\n",
    "\n",
    "testX = Variable(torch.Tensor(np.array(X[math.floor(train_size*123):len(X)])))\n",
    "testY = Variable(torch.Tensor(np.array(y[math.floor(train_size*123):len(y)])))\n",
    "print(testY.size())"
   ]
  },
  {
   "cell_type": "code",
   "execution_count": 19,
   "metadata": {
    "colab": {
     "base_uri": "https://localhost:8080/",
     "height": 85
    },
    "colab_type": "code",
    "id": "zsVC6hDIA1lf",
    "outputId": "f01e5aec-5742-419f-c556-7be64caa8afa"
   },
   "outputs": [
    {
     "name": "stdout",
     "output_type": "stream",
     "text": [
      "LSTM(\n",
      "  (lstm): LSTM(1, 128, batch_first=True)\n",
      "  (fc): Linear(in_features=128, out_features=1, bias=True)\n",
      ")\n"
     ]
    }
   ],
   "source": [
    "\"\"\"\n",
    "class LSTM(nn.Module):\n",
    " \n",
    "    def __init__(self, input_dim, hidden_dim, batch_size, output_dim=1,\n",
    "                    num_layers=2):\n",
    "      super(LSTM, self).__init__()\n",
    "      self.input_dim = input_dim\n",
    "      self.hidden_dim = hidden_dim\n",
    "      self.batch_size = batch_size\n",
    "      self.num_layers = num_layers\n",
    "\n",
    "      # Define the LSTM layer\n",
    "      self.lstm = nn.LSTM(self.input_dim, self.hidden_dim, self.num_layers)\n",
    "\n",
    "      # Define the output layer\n",
    "      self.linear = nn.Linear(self.hidden_dim, output_dim)\n",
    "\n",
    "    def init_hidden(self):\n",
    "      return (torch.zeros(self.num_layers, self.batch_size, self.hidden_dim),\n",
    "              torch.zeros(self.num_layers, self.batch_size, self.hidden_dim))\n",
    "      \n",
    "    def forward(self, input):\n",
    "      lstm_out, _ = self.lstm((self.input_dim, self.batch_size, -1))\n",
    "      y_pred = self.linear(lstm_out[-1].view(self.batch_size, -1))\n",
    "      return y_pred.view(-1)\n",
    "\"\"\"\n",
    "class LSTM(nn.Module):\n",
    "\n",
    "    def __init__(self, num_classes, input_size, hidden_size, num_layers, seq_length):\n",
    "        super(LSTM, self).__init__()\n",
    "        \n",
    "        self.num_classes = num_classes\n",
    "        self.num_layers = num_layers\n",
    "        self.input_size = input_size\n",
    "        self.hidden_size = hidden_size\n",
    "        self.seq_length = seq_length\n",
    "        \n",
    "        self.lstm = nn.LSTM(input_size=input_size, hidden_size=hidden_size,\n",
    "                            num_layers=num_layers, batch_first=True)\n",
    "        \n",
    "        self.fc = nn.Linear(hidden_size, num_classes)\n",
    "\n",
    "    def forward(self, x):\n",
    "        #print(x.view())\n",
    "        h_0 = Variable(torch.zeros(\n",
    "            self.num_layers, x.size(0), self.hidden_size))\n",
    "        \n",
    "        c_0 = Variable(torch.zeros(\n",
    "            self.num_layers, x.size(0), self.hidden_size))\n",
    "        \n",
    "        # Propagate input through LSTM\n",
    "        ula, (h_out, _) = self.lstm(x, (h_0, c_0))\n",
    "        \n",
    "        h_out = h_out.view(-1, self.hidden_size)\n",
    "        \n",
    "        out = self.fc(h_out)\n",
    "        \n",
    "        return out\n",
    "\n",
    "h1 = 128\n",
    "lstm_input_size = 1\n",
    "output_dim = 1\n",
    "num_layers = 1\n",
    "batch_size = 4\n",
    "model = LSTM(output_dim, lstm_input_size, h1,num_layers, 30)\n",
    "print(model)"
   ]
  },
  {
   "cell_type": "code",
   "execution_count": 20,
   "metadata": {
    "colab": {
     "base_uri": "https://localhost:8080/",
     "height": 935
    },
    "colab_type": "code",
    "id": "kU-zMItUayFq",
    "outputId": "30ccb903-570b-4315-992b-156c1b62b096"
   },
   "outputs": [
    {
     "name": "stderr",
     "output_type": "stream",
     "text": [
      "C:\\Users\\Rsumi\\Anaconda3\\lib\\site-packages\\torch\\nn\\_reduction.py:43: UserWarning: size_average and reduce args will be deprecated, please use reduction='sum' instead.\n",
      "  warnings.warn(warning.format(ret))\n"
     ]
    },
    {
     "name": "stdout",
     "output_type": "stream",
     "text": [
      "Epoch  0 MSE:  25.013168334960938\n",
      "Epoch  100 MSE:  0.4538770318031311\n",
      "Epoch  200 MSE:  0.18441197276115417\n",
      "Epoch  300 MSE:  0.139550119638443\n",
      "Epoch  400 MSE:  0.1667891889810562\n",
      "Epoch  500 MSE:  0.08905468881130219\n",
      "Epoch  600 MSE:  0.13314323127269745\n",
      "Epoch  700 MSE:  0.22650185227394104\n",
      "Epoch  800 MSE:  0.17441122233867645\n",
      "Epoch  900 MSE:  0.13625690340995789\n",
      "Epoch  1000 MSE:  0.12384631484746933\n",
      "Epoch  1100 MSE:  0.11569909006357193\n",
      "Epoch  1200 MSE:  0.10627476871013641\n",
      "Epoch  1300 MSE:  0.08632457256317139\n",
      "Epoch  1400 MSE:  0.10642701387405396\n",
      "Epoch  1500 MSE:  0.093479223549366\n",
      "Epoch  1600 MSE:  0.06882600486278534\n",
      "Epoch  1700 MSE:  0.3603956401348114\n",
      "Epoch  1800 MSE:  0.1479877382516861\n",
      "Epoch  1900 MSE:  0.19987007975578308\n",
      "Epoch  2000 MSE:  0.11529591679573059\n",
      "Epoch  2100 MSE:  0.09901576489210129\n",
      "Epoch  2200 MSE:  0.08898507058620453\n",
      "Epoch  2300 MSE:  0.07756809145212173\n",
      "Epoch  2400 MSE:  0.7981275320053101\n",
      "Epoch  2500 MSE:  0.2254413515329361\n",
      "Epoch  2600 MSE:  0.17566202580928802\n",
      "Epoch  2700 MSE:  0.13751369714736938\n",
      "Epoch  2800 MSE:  0.10013535618782043\n",
      "Epoch  2900 MSE:  0.08599810302257538\n",
      "Epoch  3000 MSE:  0.07473299652338028\n",
      "Epoch  3100 MSE:  0.05982251092791557\n",
      "Epoch  3200 MSE:  0.046621374785900116\n",
      "Epoch  3300 MSE:  0.03805600106716156\n",
      "Epoch  3400 MSE:  0.03475961834192276\n",
      "Epoch  3500 MSE:  0.05305347219109535\n",
      "Epoch  3600 MSE:  0.03074507974088192\n",
      "Epoch  3700 MSE:  0.03493886440992355\n",
      "Epoch  3800 MSE:  0.02759633958339691\n",
      "Epoch  3900 MSE:  0.04520335793495178\n",
      "Epoch  4000 MSE:  0.03729492798447609\n",
      "Epoch  4100 MSE:  0.03076077252626419\n",
      "Epoch  4200 MSE:  0.02332352288067341\n",
      "Epoch  4300 MSE:  0.07844065874814987\n",
      "Epoch  4400 MSE:  0.053872209042310715\n",
      "Epoch  4500 MSE:  0.03522147238254547\n",
      "Epoch  4600 MSE:  0.052552759647369385\n",
      "Epoch  4700 MSE:  0.03509799763560295\n",
      "Epoch  4800 MSE:  0.023832587525248528\n",
      "Epoch  4900 MSE:  0.021455751731991768\n"
     ]
    }
   ],
   "source": [
    "loss_fn = torch.nn.MSELoss(size_average=False)\n",
    "learning_rate = 0.001\n",
    "optimiser = torch.optim.Adam(model.parameters(), lr=learning_rate)\n",
    "\n",
    "#####################\n",
    "# Train model\n",
    "#####################\n",
    "num_epochs = 5000\n",
    "hist = np.zeros(num_epochs)\n",
    "\n",
    "for t in range(num_epochs):\n",
    "    # Clear stored gradient\n",
    "    model.zero_grad()\n",
    "    \n",
    "    # Initialise hidden state\n",
    "    # Don't do this if you want your LSTM to be stateful\n",
    "    #model.hidden = model.init_hidden()\n",
    "    \n",
    "    # Forward pass\n",
    "    y_pred = model.forward(trainX)\n",
    "    #print(y_pred)\n",
    "\n",
    "    loss = loss_fn(y_pred, trainY)\n",
    "    #print(loss)\n",
    "    if t % 100 == 0:\n",
    "        print(\"Epoch \", t, \"MSE: \", loss.item())\n",
    "    hist[t] = loss.item()\n",
    "\n",
    "    # Zero out gradient, else they will accumulate between epochs\n",
    "    optimiser.zero_grad()\n",
    "\n",
    "    # Backward pass\n",
    "    loss.backward()\n",
    "\n",
    "    # Update parameters\n",
    "    optimiser.step()"
   ]
  },
  {
   "cell_type": "code",
   "execution_count": 22,
   "metadata": {
    "colab": {
     "base_uri": "https://localhost:8080/",
     "height": 293
    },
    "colab_type": "code",
    "id": "MeeWiitUHYDV",
    "outputId": "8d4b7cad-c16f-4305-dd85-0d42697e180b"
   },
   "outputs": [
    {
     "data": {
      "text/plain": [
       "<matplotlib.legend.Legend at 0x1f23c674898>"
      ]
     },
     "execution_count": 22,
     "metadata": {},
     "output_type": "execute_result"
    },
    {
     "data": {
      "image/png": "[encoded data removed]",
      "text/plain": [
       "<Figure size 432x288 with 1 Axes>"
      ]
     },
     "metadata": {
      "needs_background": "light"
     },
     "output_type": "display_data"
    }
   ],
   "source": [
    "pred_data = model(dataX).data.numpy()\n",
    "plt.plot(range(dataX.size(0)), scaler.inverse_transform(pred_data), label=\"Predictions\")\n",
    "plt.plot(range(dataX.size(0)), scaler.inverse_transform(dataY.data.numpy()), label=\"Actual\")\n",
    "plt.legend()"
   ]
  },
  {
   "cell_type": "code",
   "execution_count": 24,
   "metadata": {
    "colab": {
     "base_uri": "https://localhost:8080/",
     "height": 204
    },
    "colab_type": "code",
    "id": "4xX0qEeWyMQM",
    "outputId": "290f01b6-1c01-44e3-8050-52ae15a6ff4d"
   },
   "outputs": [
    {
     "data": {
      "text/html": [
       "<div>\n",
       "<style scoped>\n",
       "    .dataframe tbody tr th:only-of-type {\n",
       "        vertical-align: middle;\n",
       "    }\n",
       "\n",
       "    .dataframe tbody tr th {\n",
       "        vertical-align: top;\n",
       "    }\n",
       "\n",
       "    .dataframe thead th {\n",
       "        text-align: right;\n",
       "    }\n",
       "</style>\n",
       "<table border=\"1\" class=\"dataframe\">\n",
       "  <thead>\n",
       "    <tr style=\"text-align: right;\">\n",
       "      <th></th>\n",
       "      <th>Confirmed</th>\n",
       "      <th>Deaths</th>\n",
       "      <th>Recovered</th>\n",
       "    </tr>\n",
       "  </thead>\n",
       "  <tbody>\n",
       "    <tr>\n",
       "      <th>2020-01-22</th>\n",
       "      <td>1.0</td>\n",
       "      <td>0.0</td>\n",
       "      <td>0.0</td>\n",
       "    </tr>\n",
       "    <tr>\n",
       "      <th>2020-01-23</th>\n",
       "      <td>1.0</td>\n",
       "      <td>0.0</td>\n",
       "      <td>0.0</td>\n",
       "    </tr>\n",
       "    <tr>\n",
       "      <th>2020-01-24</th>\n",
       "      <td>2.0</td>\n",
       "      <td>0.0</td>\n",
       "      <td>0.0</td>\n",
       "    </tr>\n",
       "    <tr>\n",
       "      <th>2020-01-25</th>\n",
       "      <td>2.0</td>\n",
       "      <td>0.0</td>\n",
       "      <td>0.0</td>\n",
       "    </tr>\n",
       "    <tr>\n",
       "      <th>2020-01-26</th>\n",
       "      <td>5.0</td>\n",
       "      <td>0.0</td>\n",
       "      <td>0.0</td>\n",
       "    </tr>\n",
       "  </tbody>\n",
       "</table>\n",
       "</div>"
      ],
      "text/plain": [
       "            Confirmed  Deaths  Recovered\n",
       "2020-01-22        1.0     0.0        0.0\n",
       "2020-01-23        1.0     0.0        0.0\n",
       "2020-01-24        2.0     0.0        0.0\n",
       "2020-01-25        2.0     0.0        0.0\n",
       "2020-01-26        5.0     0.0        0.0"
      ]
     },
     "execution_count": 24,
     "metadata": {},
     "output_type": "execute_result"
    }
   ],
   "source": [
    "#Vector Auto Regressive Model\n",
    "from statsmodels.tsa.api import VAR\n",
    "from statsmodels.tsa.base.datetools import dates_from_str\n",
    "dt = {\n",
    "    \"Confirmed\" : us_conf[3:],\n",
    "    \"Deaths\" : us_deaths[3:],\n",
    "    \"Recovered\" : us_rec[3:]\n",
    "}\n",
    "df = pd.DataFrame(dt, columns=[\"Confirmed\", \"Deaths\", \"Recovered\"])\n",
    "df.index = pd.DatetimeIndex(dates_from_str(df.index))\n",
    "df = df.astype(\"float\")\n",
    "df.head()"
   ]
  },
  {
   "cell_type": "code",
   "execution_count": 25,
   "metadata": {
    "colab": {},
    "colab_type": "code",
    "id": "AIcCR2vbKQiO"
   },
   "outputs": [],
   "source": [
    "model = VAR(np.array(df))\n",
    "results = model.fit()"
   ]
  },
  {
   "cell_type": "code",
   "execution_count": 26,
   "metadata": {
    "colab": {
     "base_uri": "https://localhost:8080/",
     "height": 833
    },
    "colab_type": "code",
    "id": "w3luiZSnKdwe",
    "outputId": "f1c1c2dd-e300-43cb-b32b-59bb011d7ba0"
   },
   "outputs": [
    {
     "data": {
      "text/plain": [
       "  Summary of Regression Results   \n",
       "==================================\n",
       "Model:                         VAR\n",
       "Method:                        OLS\n",
       "Date:           Thu, 09, Jul, 2020\n",
       "Time:                     17:54:47\n",
       "--------------------------------------------------------------------\n",
       "No. of Equations:         3.00000    BIC:                    46.6224\n",
       "Nobs:                     168.000    HQIC:                   46.4898\n",
       "Log likelihood:          -4600.68    FPE:                1.41562e+20\n",
       "AIC:                      46.3992    Det(Omega_mle):     1.31914e+20\n",
       "--------------------------------------------------------------------\n",
       "Results for equation y1\n",
       "========================================================================\n",
       "           coefficient       std. error           t-stat            prob\n",
       "------------------------------------------------------------------------\n",
       "const      2196.310701       503.049627            4.366           0.000\n",
       "L1.y1         1.125734         0.004334          259.741           0.000\n",
       "L1.y2        -1.371804         0.057484          -23.864           0.000\n",
       "L1.y3        -0.147945         0.006358          -23.268           0.000\n",
       "========================================================================\n",
       "\n",
       "Results for equation y2\n",
       "========================================================================\n",
       "           coefficient       std. error           t-stat            prob\n",
       "------------------------------------------------------------------------\n",
       "const        90.832610        45.715395            1.987           0.047\n",
       "L1.y1         0.006130         0.000394           15.564           0.000\n",
       "L1.y2         0.953585         0.005224          182.542           0.000\n",
       "L1.y3        -0.012585         0.000578          -21.781           0.000\n",
       "========================================================================\n",
       "\n",
       "Results for equation y3\n",
       "========================================================================\n",
       "           coefficient       std. error           t-stat            prob\n",
       "------------------------------------------------------------------------\n",
       "const      -974.842203      1066.254390           -0.914           0.361\n",
       "L1.y1         0.034666         0.009186            3.774           0.000\n",
       "L1.y2        -0.368810         0.121841           -3.027           0.002\n",
       "L1.y3         0.968045         0.013477           71.829           0.000\n",
       "========================================================================\n",
       "\n",
       "Correlation matrix of residuals\n",
       "            y1        y2        y3\n",
       "y1    1.000000  0.506991 -0.252554\n",
       "y2    0.506991  1.000000 -0.306459\n",
       "y3   -0.252554 -0.306459  1.000000\n",
       "\n"
      ]
     },
     "execution_count": 26,
     "metadata": {},
     "output_type": "execute_result"
    }
   ],
   "source": [
    "results.summary()"
   ]
  },
  {
   "cell_type": "code",
   "execution_count": 27,
   "metadata": {
    "colab": {},
    "colab_type": "code",
    "id": "ylk4w8pUPhY1"
   },
   "outputs": [],
   "source": [
    "!pip freeze > requirements.txt"
   ]
  },
  {
   "cell_type": "code",
   "execution_count": 28,
   "metadata": {
    "colab": {
     "base_uri": "https://localhost:8080/",
     "height": 1000
    },
    "colab_type": "code",
    "id": "5k-TCYcfP2Bq",
    "outputId": "6ea9207f-2484-4b86-ed78-2280d791348c"
   },
   "outputs": [
    {
     "data": {
      "image/png": "[encoded data removed]",
      "text/plain": [
       "<Figure size 720x720 with 3 Axes>"
      ]
     },
     "execution_count": 28,
     "metadata": {},
     "output_type": "execute_result"
    },
    {
     "data": {
      "image/png": "[encoded data removed]",
      "text/plain": [
       "<Figure size 720x720 with 3 Axes>"
      ]
     },
     "metadata": {
      "needs_background": "light"
     },
     "output_type": "display_data"
    }
   ],
   "source": [
    "results.plot()"
   ]
  },
  {
   "cell_type": "code",
   "execution_count": 29,
   "metadata": {
    "colab": {
     "base_uri": "https://localhost:8080/",
     "height": 1000
    },
    "colab_type": "code",
    "id": "vrq7Zrj0QorH",
    "outputId": "27cebd49-20d4-449d-8f58-510be73d4591"
   },
   "outputs": [
    {
     "data": {
      "image/png": "[encoded data removed]",
      "text/plain": [
       "<Figure size 720x720 with 3 Axes>"
      ]
     },
     "execution_count": 29,
     "metadata": {},
     "output_type": "execute_result"
    },
    {
     "data": {
      "image/png": "[encoded data removed]",
      "text/plain": [
       "<Figure size 720x720 with 3 Axes>"
      ]
     },
     "metadata": {
      "needs_background": "light"
     },
     "output_type": "display_data"
    }
   ],
   "source": [
    "results.plot_forecast(30)"
   ]
  },
  {
   "cell_type": "code",
   "execution_count": null,
   "metadata": {
    "colab": {},
    "colab_type": "code",
    "id": "pedgv2BfQ_Zg"
   },
   "outputs": [],
   "source": []
  }
 ],
 "metadata": {
  "colab": {
   "collapsed_sections": [],
   "name": "FL3.ipynb",
   "provenance": []
  },
  "kernelspec": {
   "display_name": "Python 3",
   "language": "python",
   "name": "python3"
  },
  "language_info": {
   "codemirror_mode": {
    "name": "ipython",
    "version": 3
   },
   "file_extension": ".py",
   "mimetype": "text/x-python",
   "name": "python",
   "nbconvert_exporter": "python",
   "pygments_lexer": "ipython3",
   "version": "3.7.3"
  }
 },
 "nbformat": 4,
 "nbformat_minor": 1
}
