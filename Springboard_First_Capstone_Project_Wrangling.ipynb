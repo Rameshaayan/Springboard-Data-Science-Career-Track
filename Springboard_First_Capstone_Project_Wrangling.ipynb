{
 "cells": [
  {
   "cell_type": "code",
   "execution_count": 1,
   "metadata": {},
   "outputs": [],
   "source": [
    "import numpy as np\n",
    "import pandas as pd\n",
    "import matplotlib.pyplot as plt\n",
    "import re"
   ]
  },
  {
   "cell_type": "code",
   "execution_count": 2,
   "metadata": {},
   "outputs": [],
   "source": [
    "data = pd.read_csv('NCHS_-_Leading_Causes_of_Death__United_States.csv')"
   ]
  },
  {
   "cell_type": "code",
   "execution_count": 3,
   "metadata": {},
   "outputs": [
    {
     "data": {
      "text/html": [
       "<div>\n",
       "<style scoped>\n",
       "    .dataframe tbody tr th:only-of-type {\n",
       "        vertical-align: middle;\n",
       "    }\n",
       "\n",
       "    .dataframe tbody tr th {\n",
       "        vertical-align: top;\n",
       "    }\n",
       "\n",
       "    .dataframe thead th {\n",
       "        text-align: right;\n",
       "    }\n",
       "</style>\n",
       "<table border=\"1\" class=\"dataframe\">\n",
       "  <thead>\n",
       "    <tr style=\"text-align: right;\">\n",
       "      <th></th>\n",
       "      <th>Year</th>\n",
       "      <th>113 Cause Name</th>\n",
       "      <th>Cause Name</th>\n",
       "      <th>State</th>\n",
       "      <th>Deaths</th>\n",
       "      <th>Age-adjusted Death Rate</th>\n",
       "    </tr>\n",
       "  </thead>\n",
       "  <tbody>\n",
       "    <tr>\n",
       "      <th>0</th>\n",
       "      <td>2017</td>\n",
       "      <td>Accidents (unintentional injuries) (V01-X59,Y8...</td>\n",
       "      <td>Unintentional injuries</td>\n",
       "      <td>United States</td>\n",
       "      <td>169936</td>\n",
       "      <td>49.4</td>\n",
       "    </tr>\n",
       "    <tr>\n",
       "      <th>1</th>\n",
       "      <td>2017</td>\n",
       "      <td>Accidents (unintentional injuries) (V01-X59,Y8...</td>\n",
       "      <td>Unintentional injuries</td>\n",
       "      <td>Alabama</td>\n",
       "      <td>2703</td>\n",
       "      <td>53.8</td>\n",
       "    </tr>\n",
       "    <tr>\n",
       "      <th>2</th>\n",
       "      <td>2017</td>\n",
       "      <td>Accidents (unintentional injuries) (V01-X59,Y8...</td>\n",
       "      <td>Unintentional injuries</td>\n",
       "      <td>Alaska</td>\n",
       "      <td>436</td>\n",
       "      <td>63.7</td>\n",
       "    </tr>\n",
       "    <tr>\n",
       "      <th>3</th>\n",
       "      <td>2017</td>\n",
       "      <td>Accidents (unintentional injuries) (V01-X59,Y8...</td>\n",
       "      <td>Unintentional injuries</td>\n",
       "      <td>Arizona</td>\n",
       "      <td>4184</td>\n",
       "      <td>56.2</td>\n",
       "    </tr>\n",
       "    <tr>\n",
       "      <th>4</th>\n",
       "      <td>2017</td>\n",
       "      <td>Accidents (unintentional injuries) (V01-X59,Y8...</td>\n",
       "      <td>Unintentional injuries</td>\n",
       "      <td>Arkansas</td>\n",
       "      <td>1625</td>\n",
       "      <td>51.8</td>\n",
       "    </tr>\n",
       "  </tbody>\n",
       "</table>\n",
       "</div>"
      ],
      "text/plain": [
       "   Year                                     113 Cause Name  \\\n",
       "0  2017  Accidents (unintentional injuries) (V01-X59,Y8...   \n",
       "1  2017  Accidents (unintentional injuries) (V01-X59,Y8...   \n",
       "2  2017  Accidents (unintentional injuries) (V01-X59,Y8...   \n",
       "3  2017  Accidents (unintentional injuries) (V01-X59,Y8...   \n",
       "4  2017  Accidents (unintentional injuries) (V01-X59,Y8...   \n",
       "\n",
       "               Cause Name          State  Deaths  Age-adjusted Death Rate  \n",
       "0  Unintentional injuries  United States  169936                     49.4  \n",
       "1  Unintentional injuries        Alabama    2703                     53.8  \n",
       "2  Unintentional injuries         Alaska     436                     63.7  \n",
       "3  Unintentional injuries        Arizona    4184                     56.2  \n",
       "4  Unintentional injuries       Arkansas    1625                     51.8  "
      ]
     },
     "execution_count": 3,
     "metadata": {},
     "output_type": "execute_result"
    }
   ],
   "source": [
    "data.head()"
   ]
  },
  {
   "cell_type": "code",
   "execution_count": 4,
   "metadata": {},
   "outputs": [
    {
     "data": {
      "text/plain": [
       "(10868, 6)"
      ]
     },
     "execution_count": 4,
     "metadata": {},
     "output_type": "execute_result"
    }
   ],
   "source": [
    "data.shape"
   ]
  },
  {
   "cell_type": "code",
   "execution_count": 5,
   "metadata": {},
   "outputs": [
    {
     "name": "stdout",
     "output_type": "stream",
     "text": [
      "<class 'pandas.core.frame.DataFrame'>\n",
      "RangeIndex: 10868 entries, 0 to 10867\n",
      "Data columns (total 6 columns):\n",
      "Year                       10868 non-null int64\n",
      "113 Cause Name             10868 non-null object\n",
      "Cause Name                 10868 non-null object\n",
      "State                      10868 non-null object\n",
      "Deaths                     10868 non-null int64\n",
      "Age-adjusted Death Rate    10868 non-null float64\n",
      "dtypes: float64(1), int64(2), object(3)\n",
      "memory usage: 509.6+ KB\n"
     ]
    }
   ],
   "source": [
    "data.info()"
   ]
  },
  {
   "cell_type": "code",
   "execution_count": 6,
   "metadata": {},
   "outputs": [
    {
     "data": {
      "text/html": [
       "<div>\n",
       "<style scoped>\n",
       "    .dataframe tbody tr th:only-of-type {\n",
       "        vertical-align: middle;\n",
       "    }\n",
       "\n",
       "    .dataframe tbody tr th {\n",
       "        vertical-align: top;\n",
       "    }\n",
       "\n",
       "    .dataframe thead th {\n",
       "        text-align: right;\n",
       "    }\n",
       "</style>\n",
       "<table border=\"1\" class=\"dataframe\">\n",
       "  <thead>\n",
       "    <tr style=\"text-align: right;\">\n",
       "      <th></th>\n",
       "      <th>Year</th>\n",
       "      <th>Deaths</th>\n",
       "      <th>Age-adjusted Death Rate</th>\n",
       "    </tr>\n",
       "  </thead>\n",
       "  <tbody>\n",
       "    <tr>\n",
       "      <th>count</th>\n",
       "      <td>10868.000000</td>\n",
       "      <td>1.086800e+04</td>\n",
       "      <td>10868.000000</td>\n",
       "    </tr>\n",
       "    <tr>\n",
       "      <th>mean</th>\n",
       "      <td>2008.000000</td>\n",
       "      <td>1.545991e+04</td>\n",
       "      <td>127.563894</td>\n",
       "    </tr>\n",
       "    <tr>\n",
       "      <th>std</th>\n",
       "      <td>5.477478</td>\n",
       "      <td>1.128760e+05</td>\n",
       "      <td>223.639771</td>\n",
       "    </tr>\n",
       "    <tr>\n",
       "      <th>min</th>\n",
       "      <td>1999.000000</td>\n",
       "      <td>2.100000e+01</td>\n",
       "      <td>2.600000</td>\n",
       "    </tr>\n",
       "    <tr>\n",
       "      <th>25%</th>\n",
       "      <td>2003.000000</td>\n",
       "      <td>6.120000e+02</td>\n",
       "      <td>19.200000</td>\n",
       "    </tr>\n",
       "    <tr>\n",
       "      <th>50%</th>\n",
       "      <td>2008.000000</td>\n",
       "      <td>1.718500e+03</td>\n",
       "      <td>35.900000</td>\n",
       "    </tr>\n",
       "    <tr>\n",
       "      <th>75%</th>\n",
       "      <td>2013.000000</td>\n",
       "      <td>5.756500e+03</td>\n",
       "      <td>151.725000</td>\n",
       "    </tr>\n",
       "    <tr>\n",
       "      <th>max</th>\n",
       "      <td>2017.000000</td>\n",
       "      <td>2.813503e+06</td>\n",
       "      <td>1087.300000</td>\n",
       "    </tr>\n",
       "  </tbody>\n",
       "</table>\n",
       "</div>"
      ],
      "text/plain": [
       "               Year        Deaths  Age-adjusted Death Rate\n",
       "count  10868.000000  1.086800e+04             10868.000000\n",
       "mean    2008.000000  1.545991e+04               127.563894\n",
       "std        5.477478  1.128760e+05               223.639771\n",
       "min     1999.000000  2.100000e+01                 2.600000\n",
       "25%     2003.000000  6.120000e+02                19.200000\n",
       "50%     2008.000000  1.718500e+03                35.900000\n",
       "75%     2013.000000  5.756500e+03               151.725000\n",
       "max     2017.000000  2.813503e+06              1087.300000"
      ]
     },
     "execution_count": 6,
     "metadata": {},
     "output_type": "execute_result"
    }
   ],
   "source": [
    "data.describe()"
   ]
  },
  {
   "cell_type": "code",
   "execution_count": 7,
   "metadata": {},
   "outputs": [
    {
     "data": {
      "text/plain": [
       "Year                       10868\n",
       "113 Cause Name             10868\n",
       "Cause Name                 10868\n",
       "State                      10868\n",
       "Deaths                     10868\n",
       "Age-adjusted Death Rate    10868\n",
       "dtype: int64"
      ]
     },
     "execution_count": 7,
     "metadata": {},
     "output_type": "execute_result"
    }
   ],
   "source": [
    "data.isnull().count()"
   ]
  },
  {
   "cell_type": "code",
   "execution_count": 8,
   "metadata": {},
   "outputs": [],
   "source": [
    "data['Year'] = pd.to_datetime(data.Year, format='%Y')"
   ]
  },
  {
   "cell_type": "code",
   "execution_count": 9,
   "metadata": {},
   "outputs": [
    {
     "name": "stdout",
     "output_type": "stream",
     "text": [
      "<class 'pandas.core.frame.DataFrame'>\n",
      "RangeIndex: 10868 entries, 0 to 10867\n",
      "Data columns (total 6 columns):\n",
      "Year                       10868 non-null datetime64[ns]\n",
      "113 Cause Name             10868 non-null object\n",
      "Cause Name                 10868 non-null object\n",
      "State                      10868 non-null object\n",
      "Deaths                     10868 non-null int64\n",
      "Age-adjusted Death Rate    10868 non-null float64\n",
      "dtypes: datetime64[ns](1), float64(1), int64(1), object(3)\n",
      "memory usage: 509.6+ KB\n"
     ]
    }
   ],
   "source": [
    "data.info()"
   ]
  },
  {
   "cell_type": "code",
   "execution_count": 10,
   "metadata": {},
   "outputs": [
    {
     "data": {
      "text/html": [
       "<div>\n",
       "<style scoped>\n",
       "    .dataframe tbody tr th:only-of-type {\n",
       "        vertical-align: middle;\n",
       "    }\n",
       "\n",
       "    .dataframe tbody tr th {\n",
       "        vertical-align: top;\n",
       "    }\n",
       "\n",
       "    .dataframe thead th {\n",
       "        text-align: right;\n",
       "    }\n",
       "</style>\n",
       "<table border=\"1\" class=\"dataframe\">\n",
       "  <thead>\n",
       "    <tr style=\"text-align: right;\">\n",
       "      <th></th>\n",
       "      <th>Year</th>\n",
       "      <th>113 Cause Name</th>\n",
       "      <th>Cause Name</th>\n",
       "      <th>State</th>\n",
       "      <th>Deaths</th>\n",
       "      <th>Age-adjusted Death Rate</th>\n",
       "    </tr>\n",
       "  </thead>\n",
       "  <tbody>\n",
       "    <tr>\n",
       "      <th>10858</th>\n",
       "      <td>1999-01-01</td>\n",
       "      <td>Nephritis, nephrotic syndrome and nephrosis (N...</td>\n",
       "      <td>Kidney disease</td>\n",
       "      <td>Tennessee</td>\n",
       "      <td>675</td>\n",
       "      <td>12.3</td>\n",
       "    </tr>\n",
       "    <tr>\n",
       "      <th>10859</th>\n",
       "      <td>1999-01-01</td>\n",
       "      <td>Nephritis, nephrotic syndrome and nephrosis (N...</td>\n",
       "      <td>Kidney disease</td>\n",
       "      <td>Texas</td>\n",
       "      <td>1669</td>\n",
       "      <td>10.3</td>\n",
       "    </tr>\n",
       "    <tr>\n",
       "      <th>10860</th>\n",
       "      <td>1999-01-01</td>\n",
       "      <td>Nephritis, nephrotic syndrome and nephrosis (N...</td>\n",
       "      <td>Kidney disease</td>\n",
       "      <td>United States</td>\n",
       "      <td>35525</td>\n",
       "      <td>13.0</td>\n",
       "    </tr>\n",
       "    <tr>\n",
       "      <th>10861</th>\n",
       "      <td>1999-01-01</td>\n",
       "      <td>Nephritis, nephrotic syndrome and nephrosis (N...</td>\n",
       "      <td>Kidney disease</td>\n",
       "      <td>Utah</td>\n",
       "      <td>135</td>\n",
       "      <td>9.1</td>\n",
       "    </tr>\n",
       "    <tr>\n",
       "      <th>10862</th>\n",
       "      <td>1999-01-01</td>\n",
       "      <td>Nephritis, nephrotic syndrome and nephrosis (N...</td>\n",
       "      <td>Kidney disease</td>\n",
       "      <td>Vermont</td>\n",
       "      <td>56</td>\n",
       "      <td>9.2</td>\n",
       "    </tr>\n",
       "    <tr>\n",
       "      <th>10863</th>\n",
       "      <td>1999-01-01</td>\n",
       "      <td>Nephritis, nephrotic syndrome and nephrosis (N...</td>\n",
       "      <td>Kidney disease</td>\n",
       "      <td>Virginia</td>\n",
       "      <td>1035</td>\n",
       "      <td>16.9</td>\n",
       "    </tr>\n",
       "    <tr>\n",
       "      <th>10864</th>\n",
       "      <td>1999-01-01</td>\n",
       "      <td>Nephritis, nephrotic syndrome and nephrosis (N...</td>\n",
       "      <td>Kidney disease</td>\n",
       "      <td>Washington</td>\n",
       "      <td>278</td>\n",
       "      <td>5.2</td>\n",
       "    </tr>\n",
       "    <tr>\n",
       "      <th>10865</th>\n",
       "      <td>1999-01-01</td>\n",
       "      <td>Nephritis, nephrotic syndrome and nephrosis (N...</td>\n",
       "      <td>Kidney disease</td>\n",
       "      <td>West Virginia</td>\n",
       "      <td>345</td>\n",
       "      <td>16.4</td>\n",
       "    </tr>\n",
       "    <tr>\n",
       "      <th>10866</th>\n",
       "      <td>1999-01-01</td>\n",
       "      <td>Nephritis, nephrotic syndrome and nephrosis (N...</td>\n",
       "      <td>Kidney disease</td>\n",
       "      <td>Wisconsin</td>\n",
       "      <td>677</td>\n",
       "      <td>11.9</td>\n",
       "    </tr>\n",
       "    <tr>\n",
       "      <th>10867</th>\n",
       "      <td>1999-01-01</td>\n",
       "      <td>Nephritis, nephrotic syndrome and nephrosis (N...</td>\n",
       "      <td>Kidney disease</td>\n",
       "      <td>Wyoming</td>\n",
       "      <td>30</td>\n",
       "      <td>6.8</td>\n",
       "    </tr>\n",
       "  </tbody>\n",
       "</table>\n",
       "</div>"
      ],
      "text/plain": [
       "            Year                                     113 Cause Name  \\\n",
       "10858 1999-01-01  Nephritis, nephrotic syndrome and nephrosis (N...   \n",
       "10859 1999-01-01  Nephritis, nephrotic syndrome and nephrosis (N...   \n",
       "10860 1999-01-01  Nephritis, nephrotic syndrome and nephrosis (N...   \n",
       "10861 1999-01-01  Nephritis, nephrotic syndrome and nephrosis (N...   \n",
       "10862 1999-01-01  Nephritis, nephrotic syndrome and nephrosis (N...   \n",
       "10863 1999-01-01  Nephritis, nephrotic syndrome and nephrosis (N...   \n",
       "10864 1999-01-01  Nephritis, nephrotic syndrome and nephrosis (N...   \n",
       "10865 1999-01-01  Nephritis, nephrotic syndrome and nephrosis (N...   \n",
       "10866 1999-01-01  Nephritis, nephrotic syndrome and nephrosis (N...   \n",
       "10867 1999-01-01  Nephritis, nephrotic syndrome and nephrosis (N...   \n",
       "\n",
       "           Cause Name          State  Deaths  Age-adjusted Death Rate  \n",
       "10858  Kidney disease      Tennessee     675                     12.3  \n",
       "10859  Kidney disease          Texas    1669                     10.3  \n",
       "10860  Kidney disease  United States   35525                     13.0  \n",
       "10861  Kidney disease           Utah     135                      9.1  \n",
       "10862  Kidney disease        Vermont      56                      9.2  \n",
       "10863  Kidney disease       Virginia    1035                     16.9  \n",
       "10864  Kidney disease     Washington     278                      5.2  \n",
       "10865  Kidney disease  West Virginia     345                     16.4  \n",
       "10866  Kidney disease      Wisconsin     677                     11.9  \n",
       "10867  Kidney disease        Wyoming      30                      6.8  "
      ]
     },
     "execution_count": 10,
     "metadata": {},
     "output_type": "execute_result"
    }
   ],
   "source": [
    "data.tail(10)"
   ]
  },
  {
   "cell_type": "code",
   "execution_count": 11,
   "metadata": {},
   "outputs": [],
   "source": [
    "# split the column and make a separete column\n",
    "data[['cause1','cause2']] = data[\"113 Cause Name\"].str.rsplit(\" \", n = 1, expand = True)"
   ]
  },
  {
   "cell_type": "code",
   "execution_count": 12,
   "metadata": {},
   "outputs": [
    {
     "data": {
      "text/html": [
       "<div>\n",
       "<style scoped>\n",
       "    .dataframe tbody tr th:only-of-type {\n",
       "        vertical-align: middle;\n",
       "    }\n",
       "\n",
       "    .dataframe tbody tr th {\n",
       "        vertical-align: top;\n",
       "    }\n",
       "\n",
       "    .dataframe thead th {\n",
       "        text-align: right;\n",
       "    }\n",
       "</style>\n",
       "<table border=\"1\" class=\"dataframe\">\n",
       "  <thead>\n",
       "    <tr style=\"text-align: right;\">\n",
       "      <th></th>\n",
       "      <th>Year</th>\n",
       "      <th>113 Cause Name</th>\n",
       "      <th>Cause Name</th>\n",
       "      <th>State</th>\n",
       "      <th>Deaths</th>\n",
       "      <th>Age-adjusted Death Rate</th>\n",
       "      <th>cause1</th>\n",
       "      <th>cause2</th>\n",
       "    </tr>\n",
       "  </thead>\n",
       "  <tbody>\n",
       "    <tr>\n",
       "      <th>0</th>\n",
       "      <td>2017-01-01</td>\n",
       "      <td>Accidents (unintentional injuries) (V01-X59,Y8...</td>\n",
       "      <td>Unintentional injuries</td>\n",
       "      <td>United States</td>\n",
       "      <td>169936</td>\n",
       "      <td>49.4</td>\n",
       "      <td>Accidents (unintentional injuries)</td>\n",
       "      <td>(V01-X59,Y85-Y86)</td>\n",
       "    </tr>\n",
       "    <tr>\n",
       "      <th>1</th>\n",
       "      <td>2017-01-01</td>\n",
       "      <td>Accidents (unintentional injuries) (V01-X59,Y8...</td>\n",
       "      <td>Unintentional injuries</td>\n",
       "      <td>Alabama</td>\n",
       "      <td>2703</td>\n",
       "      <td>53.8</td>\n",
       "      <td>Accidents (unintentional injuries)</td>\n",
       "      <td>(V01-X59,Y85-Y86)</td>\n",
       "    </tr>\n",
       "    <tr>\n",
       "      <th>2</th>\n",
       "      <td>2017-01-01</td>\n",
       "      <td>Accidents (unintentional injuries) (V01-X59,Y8...</td>\n",
       "      <td>Unintentional injuries</td>\n",
       "      <td>Alaska</td>\n",
       "      <td>436</td>\n",
       "      <td>63.7</td>\n",
       "      <td>Accidents (unintentional injuries)</td>\n",
       "      <td>(V01-X59,Y85-Y86)</td>\n",
       "    </tr>\n",
       "    <tr>\n",
       "      <th>3</th>\n",
       "      <td>2017-01-01</td>\n",
       "      <td>Accidents (unintentional injuries) (V01-X59,Y8...</td>\n",
       "      <td>Unintentional injuries</td>\n",
       "      <td>Arizona</td>\n",
       "      <td>4184</td>\n",
       "      <td>56.2</td>\n",
       "      <td>Accidents (unintentional injuries)</td>\n",
       "      <td>(V01-X59,Y85-Y86)</td>\n",
       "    </tr>\n",
       "    <tr>\n",
       "      <th>4</th>\n",
       "      <td>2017-01-01</td>\n",
       "      <td>Accidents (unintentional injuries) (V01-X59,Y8...</td>\n",
       "      <td>Unintentional injuries</td>\n",
       "      <td>Arkansas</td>\n",
       "      <td>1625</td>\n",
       "      <td>51.8</td>\n",
       "      <td>Accidents (unintentional injuries)</td>\n",
       "      <td>(V01-X59,Y85-Y86)</td>\n",
       "    </tr>\n",
       "  </tbody>\n",
       "</table>\n",
       "</div>"
      ],
      "text/plain": [
       "        Year                                     113 Cause Name  \\\n",
       "0 2017-01-01  Accidents (unintentional injuries) (V01-X59,Y8...   \n",
       "1 2017-01-01  Accidents (unintentional injuries) (V01-X59,Y8...   \n",
       "2 2017-01-01  Accidents (unintentional injuries) (V01-X59,Y8...   \n",
       "3 2017-01-01  Accidents (unintentional injuries) (V01-X59,Y8...   \n",
       "4 2017-01-01  Accidents (unintentional injuries) (V01-X59,Y8...   \n",
       "\n",
       "               Cause Name          State  Deaths  Age-adjusted Death Rate  \\\n",
       "0  Unintentional injuries  United States  169936                     49.4   \n",
       "1  Unintentional injuries        Alabama    2703                     53.8   \n",
       "2  Unintentional injuries         Alaska     436                     63.7   \n",
       "3  Unintentional injuries        Arizona    4184                     56.2   \n",
       "4  Unintentional injuries       Arkansas    1625                     51.8   \n",
       "\n",
       "                               cause1             cause2  \n",
       "0  Accidents (unintentional injuries)  (V01-X59,Y85-Y86)  \n",
       "1  Accidents (unintentional injuries)  (V01-X59,Y85-Y86)  \n",
       "2  Accidents (unintentional injuries)  (V01-X59,Y85-Y86)  \n",
       "3  Accidents (unintentional injuries)  (V01-X59,Y85-Y86)  \n",
       "4  Accidents (unintentional injuries)  (V01-X59,Y85-Y86)  "
      ]
     },
     "execution_count": 12,
     "metadata": {},
     "output_type": "execute_result"
    }
   ],
   "source": [
    "data.head()"
   ]
  },
  {
   "cell_type": "code",
   "execution_count": 13,
   "metadata": {},
   "outputs": [],
   "source": [
    "data = data.rename(columns = {'cause1':'Disease Cause'}) # rename columns"
   ]
  },
  {
   "cell_type": "code",
   "execution_count": 14,
   "metadata": {},
   "outputs": [
    {
     "data": {
      "text/html": [
       "<div>\n",
       "<style scoped>\n",
       "    .dataframe tbody tr th:only-of-type {\n",
       "        vertical-align: middle;\n",
       "    }\n",
       "\n",
       "    .dataframe tbody tr th {\n",
       "        vertical-align: top;\n",
       "    }\n",
       "\n",
       "    .dataframe thead th {\n",
       "        text-align: right;\n",
       "    }\n",
       "</style>\n",
       "<table border=\"1\" class=\"dataframe\">\n",
       "  <thead>\n",
       "    <tr style=\"text-align: right;\">\n",
       "      <th></th>\n",
       "      <th>Year</th>\n",
       "      <th>113 Cause Name</th>\n",
       "      <th>Cause Name</th>\n",
       "      <th>State</th>\n",
       "      <th>Deaths</th>\n",
       "      <th>Age-adjusted Death Rate</th>\n",
       "      <th>Disease Cause</th>\n",
       "      <th>cause2</th>\n",
       "    </tr>\n",
       "  </thead>\n",
       "  <tbody>\n",
       "    <tr>\n",
       "      <th>0</th>\n",
       "      <td>2017-01-01</td>\n",
       "      <td>Accidents (unintentional injuries) (V01-X59,Y8...</td>\n",
       "      <td>Unintentional injuries</td>\n",
       "      <td>United States</td>\n",
       "      <td>169936</td>\n",
       "      <td>49.4</td>\n",
       "      <td>Accidents (unintentional injuries)</td>\n",
       "      <td>(V01-X59,Y85-Y86)</td>\n",
       "    </tr>\n",
       "    <tr>\n",
       "      <th>1</th>\n",
       "      <td>2017-01-01</td>\n",
       "      <td>Accidents (unintentional injuries) (V01-X59,Y8...</td>\n",
       "      <td>Unintentional injuries</td>\n",
       "      <td>Alabama</td>\n",
       "      <td>2703</td>\n",
       "      <td>53.8</td>\n",
       "      <td>Accidents (unintentional injuries)</td>\n",
       "      <td>(V01-X59,Y85-Y86)</td>\n",
       "    </tr>\n",
       "    <tr>\n",
       "      <th>2</th>\n",
       "      <td>2017-01-01</td>\n",
       "      <td>Accidents (unintentional injuries) (V01-X59,Y8...</td>\n",
       "      <td>Unintentional injuries</td>\n",
       "      <td>Alaska</td>\n",
       "      <td>436</td>\n",
       "      <td>63.7</td>\n",
       "      <td>Accidents (unintentional injuries)</td>\n",
       "      <td>(V01-X59,Y85-Y86)</td>\n",
       "    </tr>\n",
       "    <tr>\n",
       "      <th>3</th>\n",
       "      <td>2017-01-01</td>\n",
       "      <td>Accidents (unintentional injuries) (V01-X59,Y8...</td>\n",
       "      <td>Unintentional injuries</td>\n",
       "      <td>Arizona</td>\n",
       "      <td>4184</td>\n",
       "      <td>56.2</td>\n",
       "      <td>Accidents (unintentional injuries)</td>\n",
       "      <td>(V01-X59,Y85-Y86)</td>\n",
       "    </tr>\n",
       "    <tr>\n",
       "      <th>4</th>\n",
       "      <td>2017-01-01</td>\n",
       "      <td>Accidents (unintentional injuries) (V01-X59,Y8...</td>\n",
       "      <td>Unintentional injuries</td>\n",
       "      <td>Arkansas</td>\n",
       "      <td>1625</td>\n",
       "      <td>51.8</td>\n",
       "      <td>Accidents (unintentional injuries)</td>\n",
       "      <td>(V01-X59,Y85-Y86)</td>\n",
       "    </tr>\n",
       "  </tbody>\n",
       "</table>\n",
       "</div>"
      ],
      "text/plain": [
       "        Year                                     113 Cause Name  \\\n",
       "0 2017-01-01  Accidents (unintentional injuries) (V01-X59,Y8...   \n",
       "1 2017-01-01  Accidents (unintentional injuries) (V01-X59,Y8...   \n",
       "2 2017-01-01  Accidents (unintentional injuries) (V01-X59,Y8...   \n",
       "3 2017-01-01  Accidents (unintentional injuries) (V01-X59,Y8...   \n",
       "4 2017-01-01  Accidents (unintentional injuries) (V01-X59,Y8...   \n",
       "\n",
       "               Cause Name          State  Deaths  Age-adjusted Death Rate  \\\n",
       "0  Unintentional injuries  United States  169936                     49.4   \n",
       "1  Unintentional injuries        Alabama    2703                     53.8   \n",
       "2  Unintentional injuries         Alaska     436                     63.7   \n",
       "3  Unintentional injuries        Arizona    4184                     56.2   \n",
       "4  Unintentional injuries       Arkansas    1625                     51.8   \n",
       "\n",
       "                        Disease Cause             cause2  \n",
       "0  Accidents (unintentional injuries)  (V01-X59,Y85-Y86)  \n",
       "1  Accidents (unintentional injuries)  (V01-X59,Y85-Y86)  \n",
       "2  Accidents (unintentional injuries)  (V01-X59,Y85-Y86)  \n",
       "3  Accidents (unintentional injuries)  (V01-X59,Y85-Y86)  \n",
       "4  Accidents (unintentional injuries)  (V01-X59,Y85-Y86)  "
      ]
     },
     "execution_count": 14,
     "metadata": {},
     "output_type": "execute_result"
    }
   ],
   "source": [
    "data.head()"
   ]
  },
  {
   "cell_type": "code",
   "execution_count": 15,
   "metadata": {},
   "outputs": [],
   "source": [
    "data = data.drop('113 Cause Name',axis=1) # drop unwanted column"
   ]
  },
  {
   "cell_type": "code",
   "execution_count": 16,
   "metadata": {},
   "outputs": [
    {
     "data": {
      "text/html": [
       "<div>\n",
       "<style scoped>\n",
       "    .dataframe tbody tr th:only-of-type {\n",
       "        vertical-align: middle;\n",
       "    }\n",
       "\n",
       "    .dataframe tbody tr th {\n",
       "        vertical-align: top;\n",
       "    }\n",
       "\n",
       "    .dataframe thead th {\n",
       "        text-align: right;\n",
       "    }\n",
       "</style>\n",
       "<table border=\"1\" class=\"dataframe\">\n",
       "  <thead>\n",
       "    <tr style=\"text-align: right;\">\n",
       "      <th></th>\n",
       "      <th>Year</th>\n",
       "      <th>Cause Name</th>\n",
       "      <th>State</th>\n",
       "      <th>Deaths</th>\n",
       "      <th>Age-adjusted Death Rate</th>\n",
       "      <th>Disease Cause</th>\n",
       "      <th>cause2</th>\n",
       "    </tr>\n",
       "  </thead>\n",
       "  <tbody>\n",
       "    <tr>\n",
       "      <th>0</th>\n",
       "      <td>2017-01-01</td>\n",
       "      <td>Unintentional injuries</td>\n",
       "      <td>United States</td>\n",
       "      <td>169936</td>\n",
       "      <td>49.4</td>\n",
       "      <td>Accidents (unintentional injuries)</td>\n",
       "      <td>(V01-X59,Y85-Y86)</td>\n",
       "    </tr>\n",
       "    <tr>\n",
       "      <th>1</th>\n",
       "      <td>2017-01-01</td>\n",
       "      <td>Unintentional injuries</td>\n",
       "      <td>Alabama</td>\n",
       "      <td>2703</td>\n",
       "      <td>53.8</td>\n",
       "      <td>Accidents (unintentional injuries)</td>\n",
       "      <td>(V01-X59,Y85-Y86)</td>\n",
       "    </tr>\n",
       "    <tr>\n",
       "      <th>2</th>\n",
       "      <td>2017-01-01</td>\n",
       "      <td>Unintentional injuries</td>\n",
       "      <td>Alaska</td>\n",
       "      <td>436</td>\n",
       "      <td>63.7</td>\n",
       "      <td>Accidents (unintentional injuries)</td>\n",
       "      <td>(V01-X59,Y85-Y86)</td>\n",
       "    </tr>\n",
       "    <tr>\n",
       "      <th>3</th>\n",
       "      <td>2017-01-01</td>\n",
       "      <td>Unintentional injuries</td>\n",
       "      <td>Arizona</td>\n",
       "      <td>4184</td>\n",
       "      <td>56.2</td>\n",
       "      <td>Accidents (unintentional injuries)</td>\n",
       "      <td>(V01-X59,Y85-Y86)</td>\n",
       "    </tr>\n",
       "    <tr>\n",
       "      <th>4</th>\n",
       "      <td>2017-01-01</td>\n",
       "      <td>Unintentional injuries</td>\n",
       "      <td>Arkansas</td>\n",
       "      <td>1625</td>\n",
       "      <td>51.8</td>\n",
       "      <td>Accidents (unintentional injuries)</td>\n",
       "      <td>(V01-X59,Y85-Y86)</td>\n",
       "    </tr>\n",
       "  </tbody>\n",
       "</table>\n",
       "</div>"
      ],
      "text/plain": [
       "        Year              Cause Name          State  Deaths  \\\n",
       "0 2017-01-01  Unintentional injuries  United States  169936   \n",
       "1 2017-01-01  Unintentional injuries        Alabama    2703   \n",
       "2 2017-01-01  Unintentional injuries         Alaska     436   \n",
       "3 2017-01-01  Unintentional injuries        Arizona    4184   \n",
       "4 2017-01-01  Unintentional injuries       Arkansas    1625   \n",
       "\n",
       "   Age-adjusted Death Rate                       Disease Cause  \\\n",
       "0                     49.4  Accidents (unintentional injuries)   \n",
       "1                     53.8  Accidents (unintentional injuries)   \n",
       "2                     63.7  Accidents (unintentional injuries)   \n",
       "3                     56.2  Accidents (unintentional injuries)   \n",
       "4                     51.8  Accidents (unintentional injuries)   \n",
       "\n",
       "              cause2  \n",
       "0  (V01-X59,Y85-Y86)  \n",
       "1  (V01-X59,Y85-Y86)  \n",
       "2  (V01-X59,Y85-Y86)  \n",
       "3  (V01-X59,Y85-Y86)  \n",
       "4  (V01-X59,Y85-Y86)  "
      ]
     },
     "execution_count": 16,
     "metadata": {},
     "output_type": "execute_result"
    }
   ],
   "source": [
    "data.head()"
   ]
  },
  {
   "cell_type": "code",
   "execution_count": 17,
   "metadata": {},
   "outputs": [],
   "source": [
    "data = data.drop('cause2',axis = 1) # drop unwanted column"
   ]
  },
  {
   "cell_type": "code",
   "execution_count": 18,
   "metadata": {},
   "outputs": [
    {
     "data": {
      "text/html": [
       "<div>\n",
       "<style scoped>\n",
       "    .dataframe tbody tr th:only-of-type {\n",
       "        vertical-align: middle;\n",
       "    }\n",
       "\n",
       "    .dataframe tbody tr th {\n",
       "        vertical-align: top;\n",
       "    }\n",
       "\n",
       "    .dataframe thead th {\n",
       "        text-align: right;\n",
       "    }\n",
       "</style>\n",
       "<table border=\"1\" class=\"dataframe\">\n",
       "  <thead>\n",
       "    <tr style=\"text-align: right;\">\n",
       "      <th></th>\n",
       "      <th>Year</th>\n",
       "      <th>Cause Name</th>\n",
       "      <th>State</th>\n",
       "      <th>Deaths</th>\n",
       "      <th>Age-adjusted Death Rate</th>\n",
       "      <th>Disease Cause</th>\n",
       "    </tr>\n",
       "  </thead>\n",
       "  <tbody>\n",
       "    <tr>\n",
       "      <th>10863</th>\n",
       "      <td>1999-01-01</td>\n",
       "      <td>Kidney disease</td>\n",
       "      <td>Virginia</td>\n",
       "      <td>1035</td>\n",
       "      <td>16.9</td>\n",
       "      <td>Nephritis, nephrotic syndrome and nephrosis</td>\n",
       "    </tr>\n",
       "    <tr>\n",
       "      <th>10864</th>\n",
       "      <td>1999-01-01</td>\n",
       "      <td>Kidney disease</td>\n",
       "      <td>Washington</td>\n",
       "      <td>278</td>\n",
       "      <td>5.2</td>\n",
       "      <td>Nephritis, nephrotic syndrome and nephrosis</td>\n",
       "    </tr>\n",
       "    <tr>\n",
       "      <th>10865</th>\n",
       "      <td>1999-01-01</td>\n",
       "      <td>Kidney disease</td>\n",
       "      <td>West Virginia</td>\n",
       "      <td>345</td>\n",
       "      <td>16.4</td>\n",
       "      <td>Nephritis, nephrotic syndrome and nephrosis</td>\n",
       "    </tr>\n",
       "    <tr>\n",
       "      <th>10866</th>\n",
       "      <td>1999-01-01</td>\n",
       "      <td>Kidney disease</td>\n",
       "      <td>Wisconsin</td>\n",
       "      <td>677</td>\n",
       "      <td>11.9</td>\n",
       "      <td>Nephritis, nephrotic syndrome and nephrosis</td>\n",
       "    </tr>\n",
       "    <tr>\n",
       "      <th>10867</th>\n",
       "      <td>1999-01-01</td>\n",
       "      <td>Kidney disease</td>\n",
       "      <td>Wyoming</td>\n",
       "      <td>30</td>\n",
       "      <td>6.8</td>\n",
       "      <td>Nephritis, nephrotic syndrome and nephrosis</td>\n",
       "    </tr>\n",
       "  </tbody>\n",
       "</table>\n",
       "</div>"
      ],
      "text/plain": [
       "            Year      Cause Name          State  Deaths  \\\n",
       "10863 1999-01-01  Kidney disease       Virginia    1035   \n",
       "10864 1999-01-01  Kidney disease     Washington     278   \n",
       "10865 1999-01-01  Kidney disease  West Virginia     345   \n",
       "10866 1999-01-01  Kidney disease      Wisconsin     677   \n",
       "10867 1999-01-01  Kidney disease        Wyoming      30   \n",
       "\n",
       "       Age-adjusted Death Rate                                Disease Cause  \n",
       "10863                     16.9  Nephritis, nephrotic syndrome and nephrosis  \n",
       "10864                      5.2  Nephritis, nephrotic syndrome and nephrosis  \n",
       "10865                     16.4  Nephritis, nephrotic syndrome and nephrosis  \n",
       "10866                     11.9  Nephritis, nephrotic syndrome and nephrosis  \n",
       "10867                      6.8  Nephritis, nephrotic syndrome and nephrosis  "
      ]
     },
     "execution_count": 18,
     "metadata": {},
     "output_type": "execute_result"
    }
   ],
   "source": [
    "data.tail()"
   ]
  },
  {
   "cell_type": "code",
   "execution_count": 19,
   "metadata": {
    "scrolled": true
   },
   "outputs": [
    {
     "data": {
      "text/plain": [
       "52"
      ]
     },
     "execution_count": 19,
     "metadata": {},
     "output_type": "execute_result"
    }
   ],
   "source": [
    "data['State'].nunique() # count no of unique value in state"
   ]
  },
  {
   "cell_type": "code",
   "execution_count": 20,
   "metadata": {
    "scrolled": true
   },
   "outputs": [
    {
     "data": {
      "text/plain": [
       "11"
      ]
     },
     "execution_count": 20,
     "metadata": {},
     "output_type": "execute_result"
    }
   ],
   "source": [
    "data['Cause Name'].nunique() # count no of unique values in cause name "
   ]
  },
  {
   "cell_type": "code",
   "execution_count": 21,
   "metadata": {},
   "outputs": [
    {
     "data": {
      "text/plain": [
       "array(['Unintentional injuries', 'All causes', \"Alzheimer's disease\",\n",
       "       'Stroke', 'CLRD', 'Diabetes', 'Heart disease',\n",
       "       'Influenza and pneumonia', 'Suicide', 'Cancer', 'Kidney disease'],\n",
       "      dtype=object)"
      ]
     },
     "execution_count": 21,
     "metadata": {},
     "output_type": "execute_result"
    }
   ],
   "source": [
    "data['Cause Name'].unique()"
   ]
  },
  {
   "cell_type": "code",
   "execution_count": 22,
   "metadata": {},
   "outputs": [
    {
     "data": {
      "text/plain": [
       "array(['Accidents (unintentional injuries)', 'All', \"Alzheimer's disease\",\n",
       "       'Cerebrovascular diseases', 'Chronic lower respiratory diseases',\n",
       "       'Diabetes mellitus', 'Diseases of heart',\n",
       "       'Influenza and pneumonia', 'Intentional self-harm (suicide)',\n",
       "       'Malignant neoplasms',\n",
       "       'Nephritis, nephrotic syndrome and nephrosis'], dtype=object)"
      ]
     },
     "execution_count": 22,
     "metadata": {},
     "output_type": "execute_result"
    }
   ],
   "source": [
    "data['Disease Cause'].unique()"
   ]
  },
  {
   "cell_type": "code",
   "execution_count": 23,
   "metadata": {},
   "outputs": [],
   "source": [
    "#data with states and exclude all causes\n",
    "df1 =  data.loc[(data['State'] != 'United States') & (data['Cause Name'] != 'All causes')]"
   ]
  },
  {
   "cell_type": "code",
   "execution_count": 24,
   "metadata": {},
   "outputs": [
    {
     "data": {
      "text/html": [
       "<div>\n",
       "<style scoped>\n",
       "    .dataframe tbody tr th:only-of-type {\n",
       "        vertical-align: middle;\n",
       "    }\n",
       "\n",
       "    .dataframe tbody tr th {\n",
       "        vertical-align: top;\n",
       "    }\n",
       "\n",
       "    .dataframe thead th {\n",
       "        text-align: right;\n",
       "    }\n",
       "</style>\n",
       "<table border=\"1\" class=\"dataframe\">\n",
       "  <thead>\n",
       "    <tr style=\"text-align: right;\">\n",
       "      <th></th>\n",
       "      <th>Year</th>\n",
       "      <th>Cause Name</th>\n",
       "      <th>State</th>\n",
       "      <th>Deaths</th>\n",
       "      <th>Age-adjusted Death Rate</th>\n",
       "      <th>Disease Cause</th>\n",
       "    </tr>\n",
       "  </thead>\n",
       "  <tbody>\n",
       "    <tr>\n",
       "      <th>1</th>\n",
       "      <td>2017-01-01</td>\n",
       "      <td>Unintentional injuries</td>\n",
       "      <td>Alabama</td>\n",
       "      <td>2703</td>\n",
       "      <td>53.8</td>\n",
       "      <td>Accidents (unintentional injuries)</td>\n",
       "    </tr>\n",
       "    <tr>\n",
       "      <th>2</th>\n",
       "      <td>2017-01-01</td>\n",
       "      <td>Unintentional injuries</td>\n",
       "      <td>Alaska</td>\n",
       "      <td>436</td>\n",
       "      <td>63.7</td>\n",
       "      <td>Accidents (unintentional injuries)</td>\n",
       "    </tr>\n",
       "    <tr>\n",
       "      <th>3</th>\n",
       "      <td>2017-01-01</td>\n",
       "      <td>Unintentional injuries</td>\n",
       "      <td>Arizona</td>\n",
       "      <td>4184</td>\n",
       "      <td>56.2</td>\n",
       "      <td>Accidents (unintentional injuries)</td>\n",
       "    </tr>\n",
       "    <tr>\n",
       "      <th>4</th>\n",
       "      <td>2017-01-01</td>\n",
       "      <td>Unintentional injuries</td>\n",
       "      <td>Arkansas</td>\n",
       "      <td>1625</td>\n",
       "      <td>51.8</td>\n",
       "      <td>Accidents (unintentional injuries)</td>\n",
       "    </tr>\n",
       "    <tr>\n",
       "      <th>5</th>\n",
       "      <td>2017-01-01</td>\n",
       "      <td>Unintentional injuries</td>\n",
       "      <td>California</td>\n",
       "      <td>13840</td>\n",
       "      <td>33.2</td>\n",
       "      <td>Accidents (unintentional injuries)</td>\n",
       "    </tr>\n",
       "  </tbody>\n",
       "</table>\n",
       "</div>"
      ],
      "text/plain": [
       "        Year              Cause Name       State  Deaths  \\\n",
       "1 2017-01-01  Unintentional injuries     Alabama    2703   \n",
       "2 2017-01-01  Unintentional injuries      Alaska     436   \n",
       "3 2017-01-01  Unintentional injuries     Arizona    4184   \n",
       "4 2017-01-01  Unintentional injuries    Arkansas    1625   \n",
       "5 2017-01-01  Unintentional injuries  California   13840   \n",
       "\n",
       "   Age-adjusted Death Rate                       Disease Cause  \n",
       "1                     53.8  Accidents (unintentional injuries)  \n",
       "2                     63.7  Accidents (unintentional injuries)  \n",
       "3                     56.2  Accidents (unintentional injuries)  \n",
       "4                     51.8  Accidents (unintentional injuries)  \n",
       "5                     33.2  Accidents (unintentional injuries)  "
      ]
     },
     "execution_count": 24,
     "metadata": {},
     "output_type": "execute_result"
    }
   ],
   "source": [
    "df1.head()"
   ]
  },
  {
   "cell_type": "code",
   "execution_count": 25,
   "metadata": {},
   "outputs": [
    {
     "data": {
      "text/html": [
       "<div>\n",
       "<style scoped>\n",
       "    .dataframe tbody tr th:only-of-type {\n",
       "        vertical-align: middle;\n",
       "    }\n",
       "\n",
       "    .dataframe tbody tr th {\n",
       "        vertical-align: top;\n",
       "    }\n",
       "\n",
       "    .dataframe thead th {\n",
       "        text-align: right;\n",
       "    }\n",
       "</style>\n",
       "<table border=\"1\" class=\"dataframe\">\n",
       "  <thead>\n",
       "    <tr style=\"text-align: right;\">\n",
       "      <th></th>\n",
       "      <th>Year</th>\n",
       "      <th>Cause Name</th>\n",
       "      <th>State</th>\n",
       "      <th>Deaths</th>\n",
       "      <th>Age-adjusted Death Rate</th>\n",
       "      <th>Disease Cause</th>\n",
       "    </tr>\n",
       "  </thead>\n",
       "  <tbody>\n",
       "    <tr>\n",
       "      <th>52</th>\n",
       "      <td>2017-01-01</td>\n",
       "      <td>All causes</td>\n",
       "      <td>United States</td>\n",
       "      <td>2813503</td>\n",
       "      <td>731.9</td>\n",
       "      <td>All</td>\n",
       "    </tr>\n",
       "    <tr>\n",
       "      <th>668</th>\n",
       "      <td>2016-01-01</td>\n",
       "      <td>All causes</td>\n",
       "      <td>United States</td>\n",
       "      <td>2744248</td>\n",
       "      <td>728.8</td>\n",
       "      <td>All</td>\n",
       "    </tr>\n",
       "    <tr>\n",
       "      <th>1240</th>\n",
       "      <td>2015-01-01</td>\n",
       "      <td>All causes</td>\n",
       "      <td>United States</td>\n",
       "      <td>2712630</td>\n",
       "      <td>733.1</td>\n",
       "      <td>All</td>\n",
       "    </tr>\n",
       "    <tr>\n",
       "      <th>1812</th>\n",
       "      <td>2014-01-01</td>\n",
       "      <td>All causes</td>\n",
       "      <td>United States</td>\n",
       "      <td>2626418</td>\n",
       "      <td>724.6</td>\n",
       "      <td>All</td>\n",
       "    </tr>\n",
       "    <tr>\n",
       "      <th>2384</th>\n",
       "      <td>2013-01-01</td>\n",
       "      <td>All causes</td>\n",
       "      <td>United States</td>\n",
       "      <td>2596993</td>\n",
       "      <td>731.9</td>\n",
       "      <td>All</td>\n",
       "    </tr>\n",
       "  </tbody>\n",
       "</table>\n",
       "</div>"
      ],
      "text/plain": [
       "           Year  Cause Name          State   Deaths  Age-adjusted Death Rate  \\\n",
       "52   2017-01-01  All causes  United States  2813503                    731.9   \n",
       "668  2016-01-01  All causes  United States  2744248                    728.8   \n",
       "1240 2015-01-01  All causes  United States  2712630                    733.1   \n",
       "1812 2014-01-01  All causes  United States  2626418                    724.6   \n",
       "2384 2013-01-01  All causes  United States  2596993                    731.9   \n",
       "\n",
       "     Disease Cause  \n",
       "52             All  \n",
       "668            All  \n",
       "1240           All  \n",
       "1812           All  \n",
       "2384           All  "
      ]
     },
     "execution_count": 25,
     "metadata": {},
     "output_type": "execute_result"
    }
   ],
   "source": [
    "#data with united states and all causes which gives total no of deaths on a given calender year\n",
    "df2 = data.loc[(data['State'] == 'United States') & (data['Cause Name'] == 'All causes')]\n",
    "df2.head()"
   ]
  },
  {
   "cell_type": "code",
   "execution_count": 26,
   "metadata": {},
   "outputs": [],
   "source": [
    "#data with united states only excluding all causes\n",
    "df = data.loc[(data['State'] == 'United States') & (data['Cause Name'] != 'All causes')]"
   ]
  },
  {
   "cell_type": "code",
   "execution_count": 27,
   "metadata": {
    "scrolled": false
   },
   "outputs": [
    {
     "data": {
      "text/html": [
       "<div>\n",
       "<style scoped>\n",
       "    .dataframe tbody tr th:only-of-type {\n",
       "        vertical-align: middle;\n",
       "    }\n",
       "\n",
       "    .dataframe tbody tr th {\n",
       "        vertical-align: top;\n",
       "    }\n",
       "\n",
       "    .dataframe thead th {\n",
       "        text-align: right;\n",
       "    }\n",
       "</style>\n",
       "<table border=\"1\" class=\"dataframe\">\n",
       "  <thead>\n",
       "    <tr style=\"text-align: right;\">\n",
       "      <th></th>\n",
       "      <th>Year</th>\n",
       "      <th>Cause Name</th>\n",
       "      <th>State</th>\n",
       "      <th>Deaths</th>\n",
       "      <th>Age-adjusted Death Rate</th>\n",
       "      <th>Disease Cause</th>\n",
       "    </tr>\n",
       "  </thead>\n",
       "  <tbody>\n",
       "    <tr>\n",
       "      <th>0</th>\n",
       "      <td>2017-01-01</td>\n",
       "      <td>Unintentional injuries</td>\n",
       "      <td>United States</td>\n",
       "      <td>169936</td>\n",
       "      <td>49.4</td>\n",
       "      <td>Accidents (unintentional injuries)</td>\n",
       "    </tr>\n",
       "    <tr>\n",
       "      <th>104</th>\n",
       "      <td>2017-01-01</td>\n",
       "      <td>Alzheimer's disease</td>\n",
       "      <td>United States</td>\n",
       "      <td>121404</td>\n",
       "      <td>31.0</td>\n",
       "      <td>Alzheimer's disease</td>\n",
       "    </tr>\n",
       "    <tr>\n",
       "      <th>156</th>\n",
       "      <td>2017-01-01</td>\n",
       "      <td>Stroke</td>\n",
       "      <td>United States</td>\n",
       "      <td>146383</td>\n",
       "      <td>37.6</td>\n",
       "      <td>Cerebrovascular diseases</td>\n",
       "    </tr>\n",
       "    <tr>\n",
       "      <th>208</th>\n",
       "      <td>2017-01-01</td>\n",
       "      <td>CLRD</td>\n",
       "      <td>United States</td>\n",
       "      <td>160201</td>\n",
       "      <td>40.9</td>\n",
       "      <td>Chronic lower respiratory diseases</td>\n",
       "    </tr>\n",
       "    <tr>\n",
       "      <th>260</th>\n",
       "      <td>2017-01-01</td>\n",
       "      <td>Diabetes</td>\n",
       "      <td>United States</td>\n",
       "      <td>83564</td>\n",
       "      <td>21.5</td>\n",
       "      <td>Diabetes mellitus</td>\n",
       "    </tr>\n",
       "  </tbody>\n",
       "</table>\n",
       "</div>"
      ],
      "text/plain": [
       "          Year              Cause Name          State  Deaths  \\\n",
       "0   2017-01-01  Unintentional injuries  United States  169936   \n",
       "104 2017-01-01     Alzheimer's disease  United States  121404   \n",
       "156 2017-01-01                  Stroke  United States  146383   \n",
       "208 2017-01-01                    CLRD  United States  160201   \n",
       "260 2017-01-01                Diabetes  United States   83564   \n",
       "\n",
       "     Age-adjusted Death Rate                       Disease Cause  \n",
       "0                       49.4  Accidents (unintentional injuries)  \n",
       "104                     31.0                 Alzheimer's disease  \n",
       "156                     37.6            Cerebrovascular diseases  \n",
       "208                     40.9  Chronic lower respiratory diseases  \n",
       "260                     21.5                   Diabetes mellitus  "
      ]
     },
     "execution_count": 27,
     "metadata": {},
     "output_type": "execute_result"
    }
   ],
   "source": [
    "df.head()"
   ]
  },
  {
   "cell_type": "code",
   "execution_count": 28,
   "metadata": {},
   "outputs": [],
   "source": [
    "df_clean = df.drop('Cause Name',axis = 1)"
   ]
  },
  {
   "cell_type": "code",
   "execution_count": 29,
   "metadata": {},
   "outputs": [
    {
     "data": {
      "text/html": [
       "<div>\n",
       "<style scoped>\n",
       "    .dataframe tbody tr th:only-of-type {\n",
       "        vertical-align: middle;\n",
       "    }\n",
       "\n",
       "    .dataframe tbody tr th {\n",
       "        vertical-align: top;\n",
       "    }\n",
       "\n",
       "    .dataframe thead th {\n",
       "        text-align: right;\n",
       "    }\n",
       "</style>\n",
       "<table border=\"1\" class=\"dataframe\">\n",
       "  <thead>\n",
       "    <tr style=\"text-align: right;\">\n",
       "      <th></th>\n",
       "      <th>Year</th>\n",
       "      <th>Country</th>\n",
       "      <th>Deaths</th>\n",
       "      <th>Age-adjusted Death Rate</th>\n",
       "      <th>Disease Cause</th>\n",
       "    </tr>\n",
       "  </thead>\n",
       "  <tbody>\n",
       "    <tr>\n",
       "      <th>0</th>\n",
       "      <td>2017-01-01</td>\n",
       "      <td>United States</td>\n",
       "      <td>169936</td>\n",
       "      <td>49.4</td>\n",
       "      <td>Accidents (unintentional injuries)</td>\n",
       "    </tr>\n",
       "    <tr>\n",
       "      <th>104</th>\n",
       "      <td>2017-01-01</td>\n",
       "      <td>United States</td>\n",
       "      <td>121404</td>\n",
       "      <td>31.0</td>\n",
       "      <td>Alzheimer's disease</td>\n",
       "    </tr>\n",
       "    <tr>\n",
       "      <th>156</th>\n",
       "      <td>2017-01-01</td>\n",
       "      <td>United States</td>\n",
       "      <td>146383</td>\n",
       "      <td>37.6</td>\n",
       "      <td>Cerebrovascular diseases</td>\n",
       "    </tr>\n",
       "    <tr>\n",
       "      <th>208</th>\n",
       "      <td>2017-01-01</td>\n",
       "      <td>United States</td>\n",
       "      <td>160201</td>\n",
       "      <td>40.9</td>\n",
       "      <td>Chronic lower respiratory diseases</td>\n",
       "    </tr>\n",
       "    <tr>\n",
       "      <th>260</th>\n",
       "      <td>2017-01-01</td>\n",
       "      <td>United States</td>\n",
       "      <td>83564</td>\n",
       "      <td>21.5</td>\n",
       "      <td>Diabetes mellitus</td>\n",
       "    </tr>\n",
       "    <tr>\n",
       "      <th>...</th>\n",
       "      <td>...</td>\n",
       "      <td>...</td>\n",
       "      <td>...</td>\n",
       "      <td>...</td>\n",
       "      <td>...</td>\n",
       "    </tr>\n",
       "    <tr>\n",
       "      <th>10652</th>\n",
       "      <td>1999-01-01</td>\n",
       "      <td>United States</td>\n",
       "      <td>725192</td>\n",
       "      <td>266.5</td>\n",
       "      <td>Diseases of heart</td>\n",
       "    </tr>\n",
       "    <tr>\n",
       "      <th>10704</th>\n",
       "      <td>1999-01-01</td>\n",
       "      <td>United States</td>\n",
       "      <td>63730</td>\n",
       "      <td>23.5</td>\n",
       "      <td>Influenza and pneumonia</td>\n",
       "    </tr>\n",
       "    <tr>\n",
       "      <th>10756</th>\n",
       "      <td>1999-01-01</td>\n",
       "      <td>United States</td>\n",
       "      <td>29199</td>\n",
       "      <td>10.5</td>\n",
       "      <td>Intentional self-harm (suicide)</td>\n",
       "    </tr>\n",
       "    <tr>\n",
       "      <th>10808</th>\n",
       "      <td>1999-01-01</td>\n",
       "      <td>United States</td>\n",
       "      <td>549838</td>\n",
       "      <td>200.8</td>\n",
       "      <td>Malignant neoplasms</td>\n",
       "    </tr>\n",
       "    <tr>\n",
       "      <th>10860</th>\n",
       "      <td>1999-01-01</td>\n",
       "      <td>United States</td>\n",
       "      <td>35525</td>\n",
       "      <td>13.0</td>\n",
       "      <td>Nephritis, nephrotic syndrome and nephrosis</td>\n",
       "    </tr>\n",
       "  </tbody>\n",
       "</table>\n",
       "<p>190 rows × 5 columns</p>\n",
       "</div>"
      ],
      "text/plain": [
       "            Year        Country  Deaths  Age-adjusted Death Rate  \\\n",
       "0     2017-01-01  United States  169936                     49.4   \n",
       "104   2017-01-01  United States  121404                     31.0   \n",
       "156   2017-01-01  United States  146383                     37.6   \n",
       "208   2017-01-01  United States  160201                     40.9   \n",
       "260   2017-01-01  United States   83564                     21.5   \n",
       "...          ...            ...     ...                      ...   \n",
       "10652 1999-01-01  United States  725192                    266.5   \n",
       "10704 1999-01-01  United States   63730                     23.5   \n",
       "10756 1999-01-01  United States   29199                     10.5   \n",
       "10808 1999-01-01  United States  549838                    200.8   \n",
       "10860 1999-01-01  United States   35525                     13.0   \n",
       "\n",
       "                                     Disease Cause  \n",
       "0               Accidents (unintentional injuries)  \n",
       "104                            Alzheimer's disease  \n",
       "156                       Cerebrovascular diseases  \n",
       "208             Chronic lower respiratory diseases  \n",
       "260                              Diabetes mellitus  \n",
       "...                                            ...  \n",
       "10652                            Diseases of heart  \n",
       "10704                      Influenza and pneumonia  \n",
       "10756              Intentional self-harm (suicide)  \n",
       "10808                          Malignant neoplasms  \n",
       "10860  Nephritis, nephrotic syndrome and nephrosis  \n",
       "\n",
       "[190 rows x 5 columns]"
      ]
     },
     "execution_count": 29,
     "metadata": {},
     "output_type": "execute_result"
    }
   ],
   "source": [
    "df_clean.rename(columns = {'State':'Country'})"
   ]
  },
  {
   "cell_type": "code",
   "execution_count": 30,
   "metadata": {},
   "outputs": [
    {
     "data": {
      "text/html": [
       "<div>\n",
       "<style scoped>\n",
       "    .dataframe tbody tr th:only-of-type {\n",
       "        vertical-align: middle;\n",
       "    }\n",
       "\n",
       "    .dataframe tbody tr th {\n",
       "        vertical-align: top;\n",
       "    }\n",
       "\n",
       "    .dataframe thead th {\n",
       "        text-align: right;\n",
       "    }\n",
       "</style>\n",
       "<table border=\"1\" class=\"dataframe\">\n",
       "  <thead>\n",
       "    <tr style=\"text-align: right;\">\n",
       "      <th></th>\n",
       "      <th>index</th>\n",
       "      <th>Year</th>\n",
       "      <th>State</th>\n",
       "      <th>Deaths</th>\n",
       "      <th>Age-adjusted Death Rate</th>\n",
       "      <th>Disease Cause</th>\n",
       "    </tr>\n",
       "  </thead>\n",
       "  <tbody>\n",
       "    <tr>\n",
       "      <th>0</th>\n",
       "      <td>0</td>\n",
       "      <td>2017-01-01</td>\n",
       "      <td>United States</td>\n",
       "      <td>169936</td>\n",
       "      <td>49.4</td>\n",
       "      <td>Accidents (unintentional injuries)</td>\n",
       "    </tr>\n",
       "    <tr>\n",
       "      <th>1</th>\n",
       "      <td>104</td>\n",
       "      <td>2017-01-01</td>\n",
       "      <td>United States</td>\n",
       "      <td>121404</td>\n",
       "      <td>31.0</td>\n",
       "      <td>Alzheimer's disease</td>\n",
       "    </tr>\n",
       "    <tr>\n",
       "      <th>2</th>\n",
       "      <td>156</td>\n",
       "      <td>2017-01-01</td>\n",
       "      <td>United States</td>\n",
       "      <td>146383</td>\n",
       "      <td>37.6</td>\n",
       "      <td>Cerebrovascular diseases</td>\n",
       "    </tr>\n",
       "    <tr>\n",
       "      <th>3</th>\n",
       "      <td>208</td>\n",
       "      <td>2017-01-01</td>\n",
       "      <td>United States</td>\n",
       "      <td>160201</td>\n",
       "      <td>40.9</td>\n",
       "      <td>Chronic lower respiratory diseases</td>\n",
       "    </tr>\n",
       "    <tr>\n",
       "      <th>4</th>\n",
       "      <td>260</td>\n",
       "      <td>2017-01-01</td>\n",
       "      <td>United States</td>\n",
       "      <td>83564</td>\n",
       "      <td>21.5</td>\n",
       "      <td>Diabetes mellitus</td>\n",
       "    </tr>\n",
       "    <tr>\n",
       "      <th>...</th>\n",
       "      <td>...</td>\n",
       "      <td>...</td>\n",
       "      <td>...</td>\n",
       "      <td>...</td>\n",
       "      <td>...</td>\n",
       "      <td>...</td>\n",
       "    </tr>\n",
       "    <tr>\n",
       "      <th>185</th>\n",
       "      <td>10652</td>\n",
       "      <td>1999-01-01</td>\n",
       "      <td>United States</td>\n",
       "      <td>725192</td>\n",
       "      <td>266.5</td>\n",
       "      <td>Diseases of heart</td>\n",
       "    </tr>\n",
       "    <tr>\n",
       "      <th>186</th>\n",
       "      <td>10704</td>\n",
       "      <td>1999-01-01</td>\n",
       "      <td>United States</td>\n",
       "      <td>63730</td>\n",
       "      <td>23.5</td>\n",
       "      <td>Influenza and pneumonia</td>\n",
       "    </tr>\n",
       "    <tr>\n",
       "      <th>187</th>\n",
       "      <td>10756</td>\n",
       "      <td>1999-01-01</td>\n",
       "      <td>United States</td>\n",
       "      <td>29199</td>\n",
       "      <td>10.5</td>\n",
       "      <td>Intentional self-harm (suicide)</td>\n",
       "    </tr>\n",
       "    <tr>\n",
       "      <th>188</th>\n",
       "      <td>10808</td>\n",
       "      <td>1999-01-01</td>\n",
       "      <td>United States</td>\n",
       "      <td>549838</td>\n",
       "      <td>200.8</td>\n",
       "      <td>Malignant neoplasms</td>\n",
       "    </tr>\n",
       "    <tr>\n",
       "      <th>189</th>\n",
       "      <td>10860</td>\n",
       "      <td>1999-01-01</td>\n",
       "      <td>United States</td>\n",
       "      <td>35525</td>\n",
       "      <td>13.0</td>\n",
       "      <td>Nephritis, nephrotic syndrome and nephrosis</td>\n",
       "    </tr>\n",
       "  </tbody>\n",
       "</table>\n",
       "<p>190 rows × 6 columns</p>\n",
       "</div>"
      ],
      "text/plain": [
       "     index       Year          State  Deaths  Age-adjusted Death Rate  \\\n",
       "0        0 2017-01-01  United States  169936                     49.4   \n",
       "1      104 2017-01-01  United States  121404                     31.0   \n",
       "2      156 2017-01-01  United States  146383                     37.6   \n",
       "3      208 2017-01-01  United States  160201                     40.9   \n",
       "4      260 2017-01-01  United States   83564                     21.5   \n",
       "..     ...        ...            ...     ...                      ...   \n",
       "185  10652 1999-01-01  United States  725192                    266.5   \n",
       "186  10704 1999-01-01  United States   63730                     23.5   \n",
       "187  10756 1999-01-01  United States   29199                     10.5   \n",
       "188  10808 1999-01-01  United States  549838                    200.8   \n",
       "189  10860 1999-01-01  United States   35525                     13.0   \n",
       "\n",
       "                                   Disease Cause  \n",
       "0             Accidents (unintentional injuries)  \n",
       "1                            Alzheimer's disease  \n",
       "2                       Cerebrovascular diseases  \n",
       "3             Chronic lower respiratory diseases  \n",
       "4                              Diabetes mellitus  \n",
       "..                                           ...  \n",
       "185                            Diseases of heart  \n",
       "186                      Influenza and pneumonia  \n",
       "187              Intentional self-harm (suicide)  \n",
       "188                          Malignant neoplasms  \n",
       "189  Nephritis, nephrotic syndrome and nephrosis  \n",
       "\n",
       "[190 rows x 6 columns]"
      ]
     },
     "execution_count": 30,
     "metadata": {},
     "output_type": "execute_result"
    }
   ],
   "source": [
    "df_clean.reset_index()"
   ]
  },
  {
   "cell_type": "code",
   "execution_count": 31,
   "metadata": {
    "scrolled": true
   },
   "outputs": [
    {
     "data": {
      "text/html": [
       "<div>\n",
       "<style scoped>\n",
       "    .dataframe tbody tr th:only-of-type {\n",
       "        vertical-align: middle;\n",
       "    }\n",
       "\n",
       "    .dataframe tbody tr th {\n",
       "        vertical-align: top;\n",
       "    }\n",
       "\n",
       "    .dataframe thead th {\n",
       "        text-align: right;\n",
       "    }\n",
       "</style>\n",
       "<table border=\"1\" class=\"dataframe\">\n",
       "  <thead>\n",
       "    <tr style=\"text-align: right;\">\n",
       "      <th></th>\n",
       "      <th>Year</th>\n",
       "      <th>State</th>\n",
       "      <th>Deaths</th>\n",
       "      <th>Age-adjusted Death Rate</th>\n",
       "      <th>Disease Cause</th>\n",
       "    </tr>\n",
       "  </thead>\n",
       "  <tbody>\n",
       "    <tr>\n",
       "      <th>0</th>\n",
       "      <td>2017-01-01</td>\n",
       "      <td>United States</td>\n",
       "      <td>169936</td>\n",
       "      <td>49.4</td>\n",
       "      <td>Accidents (unintentional injuries)</td>\n",
       "    </tr>\n",
       "    <tr>\n",
       "      <th>104</th>\n",
       "      <td>2017-01-01</td>\n",
       "      <td>United States</td>\n",
       "      <td>121404</td>\n",
       "      <td>31.0</td>\n",
       "      <td>Alzheimer's disease</td>\n",
       "    </tr>\n",
       "    <tr>\n",
       "      <th>156</th>\n",
       "      <td>2017-01-01</td>\n",
       "      <td>United States</td>\n",
       "      <td>146383</td>\n",
       "      <td>37.6</td>\n",
       "      <td>Cerebrovascular diseases</td>\n",
       "    </tr>\n",
       "    <tr>\n",
       "      <th>208</th>\n",
       "      <td>2017-01-01</td>\n",
       "      <td>United States</td>\n",
       "      <td>160201</td>\n",
       "      <td>40.9</td>\n",
       "      <td>Chronic lower respiratory diseases</td>\n",
       "    </tr>\n",
       "    <tr>\n",
       "      <th>260</th>\n",
       "      <td>2017-01-01</td>\n",
       "      <td>United States</td>\n",
       "      <td>83564</td>\n",
       "      <td>21.5</td>\n",
       "      <td>Diabetes mellitus</td>\n",
       "    </tr>\n",
       "  </tbody>\n",
       "</table>\n",
       "</div>"
      ],
      "text/plain": [
       "          Year          State  Deaths  Age-adjusted Death Rate  \\\n",
       "0   2017-01-01  United States  169936                     49.4   \n",
       "104 2017-01-01  United States  121404                     31.0   \n",
       "156 2017-01-01  United States  146383                     37.6   \n",
       "208 2017-01-01  United States  160201                     40.9   \n",
       "260 2017-01-01  United States   83564                     21.5   \n",
       "\n",
       "                          Disease Cause  \n",
       "0    Accidents (unintentional injuries)  \n",
       "104                 Alzheimer's disease  \n",
       "156            Cerebrovascular diseases  \n",
       "208  Chronic lower respiratory diseases  \n",
       "260                   Diabetes mellitus  "
      ]
     },
     "execution_count": 31,
     "metadata": {},
     "output_type": "execute_result"
    }
   ],
   "source": [
    "df_clean.head()"
   ]
  },
  {
   "cell_type": "code",
   "execution_count": 32,
   "metadata": {},
   "outputs": [
    {
     "data": {
      "text/plain": [
       "count       190.000000\n",
       "mean     190950.436842\n",
       "std      212900.751965\n",
       "min       29199.000000\n",
       "25%       55338.250000\n",
       "50%      104139.500000\n",
       "75%      153465.500000\n",
       "max      725192.000000\n",
       "Name: Deaths, dtype: float64"
      ]
     },
     "execution_count": 32,
     "metadata": {},
     "output_type": "execute_result"
    }
   ],
   "source": [
    "df_clean['Deaths'].describe()"
   ]
  },
  {
   "cell_type": "code",
   "execution_count": null,
   "metadata": {
    "scrolled": true
   },
   "outputs": [],
   "source": [
    "# Frequency distribution of deaths\n",
    "\n",
    "df_clean['Deaths'].hist(edgecolor='black',bins=15,figsize=(10,5));"
   ]
  },
  {
   "cell_type": "code",
   "execution_count": null,
   "metadata": {},
   "outputs": [],
   "source": [
    "death_year = df_clean.groupby(['Year']).sum()\n",
    "death_year"
   ]
  },
  {
   "cell_type": "code",
   "execution_count": null,
   "metadata": {},
   "outputs": [],
   "source": [
    "death_year['Deaths'].plot(title='Death per year\\n 1999-2017')"
   ]
  },
  {
   "cell_type": "code",
   "execution_count": null,
   "metadata": {},
   "outputs": [],
   "source": [
    "death_year['Deaths'].hist(edgecolor='black',bins=15,figsize=(10,5));"
   ]
  },
  {
   "cell_type": "code",
   "execution_count": null,
   "metadata": {},
   "outputs": [],
   "source": [
    "import seaborn as sns"
   ]
  },
  {
   "cell_type": "code",
   "execution_count": null,
   "metadata": {},
   "outputs": [],
   "source": [
    "plt.figure(figsize=(15,10))\n",
    "sns.barplot(x=\"Deaths\", y=\"Disease Cause\", label='small', data=df_clean.sort_values(by=\"Deaths\",ascending=False))\n",
    "plt.title('Cause of Death', fontsize=20)\n",
    "plt.tight_layout()\n",
    "plt.tick_params(labelsize=20)\n",
    "plt.show()"
   ]
  },
  {
   "cell_type": "code",
   "execution_count": null,
   "metadata": {},
   "outputs": [],
   "source": [
    "import seaborn as sns\n",
    "\n",
    "ax = sns.pointplot(x=\"Year\",y=\"Deaths\",hue = \"Disease Cause\",data = df_clean,figsize = (15,30))"
   ]
  },
  {
   "cell_type": "code",
   "execution_count": null,
   "metadata": {},
   "outputs": [],
   "source": [
    "sns.set()\n",
    "n_data = len(df_clean['Deaths'])\n",
    "n_bins = np.sqrt(len(df_clean['Deaths']))\n",
    "n_bins =int(n_bins)\n",
    "_ = plt.hist(df_clean['Deaths'],bins = n_bins)\n",
    "_ = plt.xlabel('No of Deaths')\n",
    "_ = plt.ylabel('Count')"
   ]
  },
  {
   "cell_type": "code",
   "execution_count": null,
   "metadata": {},
   "outputs": [],
   "source": [
    "plt.figure(figsize=(30,10))\n",
    "_= sns.swarmplot(x='Disease Cause',y='Deaths',data = df_clean,size=3)\n",
    "_= plt.xlabel('Causes')\n",
    "_= plt.ylabel('No of Deaths')\n",
    "plt.show()"
   ]
  },
  {
   "cell_type": "code",
   "execution_count": null,
   "metadata": {},
   "outputs": [],
   "source": [
    "x = np.sort(df_clean['Deaths'])\n",
    "y = np.arange(1,len(x)+1/len(x))\n",
    "_= plt.plot(x,y,marker = '.', linestyle = 'none')\n",
    "_ = plt.xlabel('No of Deaths')\n",
    "_ = plt.ylabel('ECDF')\n",
    "plt.margins(0.02)\n",
    "plt.show"
   ]
  },
  {
   "cell_type": "code",
   "execution_count": null,
   "metadata": {},
   "outputs": [],
   "source": [
    "def ecdf(data):\n",
    "    \"\"\"Compute ECDF for a one-dimensional array of measurements.\"\"\"\n",
    "    # Number of data points: n\n",
    "    n = len(data)\n",
    "\n",
    "    # x-data for the ECDF: x\n",
    "    x = np.sort(data)\n",
    "\n",
    "    # y-data for the ECDF: y\n",
    "    y = np.arange(1, n+1) / n\n",
    "\n",
    "    return x, y"
   ]
  },
  {
   "cell_type": "code",
   "execution_count": null,
   "metadata": {},
   "outputs": [],
   "source": [
    "plt.figure(figsize=(10,5))\n",
    "x_death,y_death = ecdf(df_clean['Deaths'])\n",
    "_= plt.plot(x_death,y_death,marker='.',linestyle='none')\n",
    "_ = plt.xlabel('No of Deaths')\n",
    "_ = plt.ylabel('ECDF')\n",
    "\n",
    "plt.show\n"
   ]
  },
  {
   "cell_type": "code",
   "execution_count": null,
   "metadata": {},
   "outputs": [],
   "source": [
    "plt.figure(figsize=(30,15))\n",
    "_ = sns.boxplot(x='Disease Cause',y='Deaths',data=df_clean)\n",
    "_ = plt.xlabel('Causes')\n",
    "_ = plt.ylabel('No of Deaths')\n",
    "plt.show()"
   ]
  },
  {
   "cell_type": "code",
   "execution_count": null,
   "metadata": {},
   "outputs": [],
   "source": [
    "#df_clean = df_clean.groupby(['Year', 'Disease Cause'])['Deaths'].sum().unstack()\n",
    "#df_clean = df_clean[1999::3, :]\n",
    "fig, ax = plt.subplots(figsize=(15,7))\n",
    "# use unstack()\n",
    "df_clean.groupby(['Year','Disease Cause']).sum()['Deaths'].unstack().plot(ax=ax)"
   ]
  },
  {
   "cell_type": "code",
   "execution_count": null,
   "metadata": {},
   "outputs": [],
   "source": [
    "mean = np.mean(df_clean['Deaths'])\n",
    "std = np.std.random.normal(mean,std,size=100000)"
   ]
  },
  {
   "cell_type": "code",
   "execution_count": null,
   "metadata": {},
   "outputs": [],
   "source": [
    "import sklearn\n",
    "\n",
    "from sklearn.preprocessing import LabelEncoder\n",
    "\n",
    "lb_make = LabelEncoder()\n",
    "df_clean['Disease Cause'] = lb_make.fit_transform(df['Disease Cause'])\n",
    "\n",
    "df_clean.head() #Results in appending a new column to df"
   ]
  },
  {
   "cell_type": "code",
   "execution_count": null,
   "metadata": {},
   "outputs": [],
   "source": [
    "df_clean.loc[df_clean['Year'].idxmax()]"
   ]
  },
  {
   "cell_type": "code",
   "execution_count": null,
   "metadata": {},
   "outputs": [],
   "source": [
    "df_clean.loc[df_clean['Year'].idxmin]"
   ]
  },
  {
   "cell_type": "code",
   "execution_count": null,
   "metadata": {},
   "outputs": [],
   "source": [
    "import seaborn as sns\n",
    "\n",
    "ax = sns.pointplot(x=\"Year\",y=\"Deaths\",hue = \"Disease Cause\",data = df_clean,figsize = (15,30))"
   ]
  },
  {
   "cell_type": "code",
   "execution_count": null,
   "metadata": {},
   "outputs": [],
   "source": [
    "sns.set()\n",
    "n_data = len(df_clean['Deaths'])\n",
    "n_bins = np.sqrt(len(df_clean['Deaths']))\n",
    "n_bins =int(n_bins)\n",
    "_ = plt.hist(df_clean['Deaths'],bins = n_bins)\n",
    "_ = plt.xlabel('No of Deaths')\n",
    "_ = plt.ylabel('Count')"
   ]
  },
  {
   "cell_type": "code",
   "execution_count": null,
   "metadata": {},
   "outputs": [],
   "source": [
    "_= sns.swarmplot(x='Disease Cause',y='Deaths',data = df_clean)\n",
    "_= plt.xlabel('Causes')\n",
    "_= plt.ylabel('No of Deaths')\n",
    "plt.show()"
   ]
  },
  {
   "cell_type": "code",
   "execution_count": null,
   "metadata": {},
   "outputs": [],
   "source": []
  },
  {
   "cell_type": "code",
   "execution_count": null,
   "metadata": {},
   "outputs": [],
   "source": [
    "deaths_year = df.groupby(['Year','Cause Name'])['Deaths']"
   ]
  },
  {
   "cell_type": "code",
   "execution_count": null,
   "metadata": {},
   "outputs": [],
   "source": [
    "print(deaths_year)"
   ]
  },
  {
   "cell_type": "code",
   "execution_count": null,
   "metadata": {},
   "outputs": [],
   "source": [
    "deaths_year.head()"
   ]
  },
  {
   "cell_type": "code",
   "execution_count": null,
   "metadata": {},
   "outputs": [],
   "source": [
    "deaths_year.plot(figsize=(10,7))\n",
    "plt.ylabel('Total Deaths in millions')"
   ]
  },
  {
   "cell_type": "code",
   "execution_count": null,
   "metadata": {},
   "outputs": [],
   "source": [
    "result = 0\n",
    "for i in range(100):\n",
    "    result += i\n",
    "print(result)"
   ]
  },
  {
   "cell_type": "code",
   "execution_count": null,
   "metadata": {},
   "outputs": [],
   "source": [
    "print(range(100))"
   ]
  },
  {
   "cell_type": "code",
   "execution_count": null,
   "metadata": {},
   "outputs": [],
   "source": []
  },
  {
   "cell_type": "code",
   "execution_count": null,
   "metadata": {},
   "outputs": [],
   "source": [
    "df1 = data[data['State'].str.match('United States')]"
   ]
  },
  {
   "cell_type": "code",
   "execution_count": null,
   "metadata": {
    "scrolled": true
   },
   "outputs": [],
   "source": [
    "df1.head()"
   ]
  },
  {
   "cell_type": "code",
   "execution_count": null,
   "metadata": {},
   "outputs": [],
   "source": [
    "df1.shape"
   ]
  },
  {
   "cell_type": "code",
   "execution_count": null,
   "metadata": {},
   "outputs": [],
   "source": [
    "df2 = df1[df1['Cause Name'].str.match('All causes')]"
   ]
  },
  {
   "cell_type": "code",
   "execution_count": null,
   "metadata": {},
   "outputs": [],
   "source": [
    "df2.head()"
   ]
  },
  {
   "cell_type": "code",
   "execution_count": null,
   "metadata": {},
   "outputs": [],
   "source": [
    "df2.shape"
   ]
  },
  {
   "cell_type": "code",
   "execution_count": null,
   "metadata": {},
   "outputs": [],
   "source": []
  },
  {
   "cell_type": "code",
   "execution_count": null,
   "metadata": {},
   "outputs": [],
   "source": []
  },
  {
   "cell_type": "code",
   "execution_count": null,
   "metadata": {},
   "outputs": [],
   "source": []
  },
  {
   "cell_type": "code",
   "execution_count": null,
   "metadata": {},
   "outputs": [],
   "source": []
  },
  {
   "cell_type": "code",
   "execution_count": null,
   "metadata": {},
   "outputs": [],
   "source": []
  },
  {
   "cell_type": "code",
   "execution_count": null,
   "metadata": {},
   "outputs": [],
   "source": []
  },
  {
   "cell_type": "code",
   "execution_count": null,
   "metadata": {},
   "outputs": [],
   "source": []
  },
  {
   "cell_type": "code",
   "execution_count": null,
   "metadata": {},
   "outputs": [],
   "source": [
    "df = data.set_index(\"State\", drop = False)"
   ]
  },
  {
   "cell_type": "code",
   "execution_count": null,
   "metadata": {},
   "outputs": [],
   "source": [
    "df.head()"
   ]
  },
  {
   "cell_type": "code",
   "execution_count": null,
   "metadata": {},
   "outputs": [],
   "source": [
    "df.loc['United States']"
   ]
  },
  {
   "cell_type": "code",
   "execution_count": null,
   "metadata": {},
   "outputs": [],
   "source": [
    "#data = data.drop([0]) # drop first row assigned for USA"
   ]
  },
  {
   "cell_type": "code",
   "execution_count": null,
   "metadata": {},
   "outputs": [],
   "source": [
    "#data.head()"
   ]
  },
  {
   "cell_type": "code",
   "execution_count": null,
   "metadata": {},
   "outputs": [],
   "source": [
    "#data.describe()"
   ]
  },
  {
   "cell_type": "code",
   "execution_count": null,
   "metadata": {},
   "outputs": [],
   "source": [
    "data['Cause Name'].unique()"
   ]
  },
  {
   "cell_type": "code",
   "execution_count": null,
   "metadata": {},
   "outputs": [],
   "source": [
    "data['Disease Cause'].unique()"
   ]
  },
  {
   "cell_type": "code",
   "execution_count": null,
   "metadata": {},
   "outputs": [],
   "source": [
    "data['State'].unique()"
   ]
  },
  {
   "cell_type": "code",
   "execution_count": null,
   "metadata": {},
   "outputs": [],
   "source": [
    "import seaborn as sns\n",
    "import matplotlib.pyplot as plt\n",
    "\n",
    "# settings for the histogram\n",
    "sns.set(font_scale =2)\n",
    "plt.ylim(0,80)\n",
    "plt.xlim(0,1000)\n",
    "\n",
    "data['Deaths'].hist(bins=50,density = True)"
   ]
  },
  {
   "cell_type": "code",
   "execution_count": null,
   "metadata": {
    "scrolled": true
   },
   "outputs": [],
   "source": [
    "data['Cause Name'].value_counts()[:15]"
   ]
  },
  {
   "cell_type": "code",
   "execution_count": null,
   "metadata": {},
   "outputs": [],
   "source": [
    "data['Disease Cause'].value_counts()[:15]"
   ]
  },
  {
   "cell_type": "code",
   "execution_count": null,
   "metadata": {
    "scrolled": true
   },
   "outputs": [],
   "source": [
    "data.head()"
   ]
  },
  {
   "cell_type": "code",
   "execution_count": null,
   "metadata": {},
   "outputs": [],
   "source": [
    "data['Cause Name'].unique()"
   ]
  },
  {
   "cell_type": "code",
   "execution_count": null,
   "metadata": {},
   "outputs": [],
   "source": [
    "data['cause1'].unique()"
   ]
  },
  {
   "cell_type": "code",
   "execution_count": null,
   "metadata": {},
   "outputs": [],
   "source": [
    "data1"
   ]
  },
  {
   "cell_type": "code",
   "execution_count": null,
   "metadata": {},
   "outputs": [],
   "source": [
    "data.head()"
   ]
  },
  {
   "cell_type": "code",
   "execution_count": null,
   "metadata": {},
   "outputs": [],
   "source": [
    "data2 = data.pop('cause2')"
   ]
  },
  {
   "cell_type": "code",
   "execution_count": null,
   "metadata": {},
   "outputs": [],
   "source": [
    "data.head()"
   ]
  },
  {
   "cell_type": "code",
   "execution_count": null,
   "metadata": {},
   "outputs": [],
   "source": [
    "data = data.rename(columns = {'cause1':'Disease Cause'})"
   ]
  },
  {
   "cell_type": "code",
   "execution_count": null,
   "metadata": {
    "scrolled": true
   },
   "outputs": [],
   "source": [
    "data.head()"
   ]
  },
  {
   "cell_type": "code",
   "execution_count": null,
   "metadata": {},
   "outputs": [],
   "source": [
    "data.head()"
   ]
  },
  {
   "cell_type": "code",
   "execution_count": null,
   "metadata": {},
   "outputs": [],
   "source": [
    "#data.loc['Year'] = pd.to_datetime(data.Year,infer_datetime_format=True)\n",
    "#data.dtypes\n",
    "\n",
    "#pd.Series(['Year'] * 1000)\n",
    "#data.loc[:,'Year'] = pd.to_datetime(data.Year)\n",
    "\n",
    "data['Year'] = pd.to_datetime(data['Year']/1000, unit = 's')"
   ]
  },
  {
   "cell_type": "code",
   "execution_count": null,
   "metadata": {},
   "outputs": [],
   "source": [
    "data.head(50)"
   ]
  },
  {
   "cell_type": "code",
   "execution_count": null,
   "metadata": {},
   "outputs": [],
   "source": [
    "data['Cause Name'] = data['Cause Name'].astype('str')\n",
    "data['State'] = data['State'].astype('str')\n",
    "data['Disease Cause'] = data['Disease Cause'].astype('str')\n",
    "\n",
    "#df['column'].astype('|S80')\n",
    "#df['column'] = df['column'].astype('|S')"
   ]
  },
  {
   "cell_type": "code",
   "execution_count": null,
   "metadata": {},
   "outputs": [],
   "source": [
    "for c in data.columns:\n",
    "    if data[c].dtype == object:\n",
    "        print (\"convert \", data[c].name, \" to string\")\n",
    "        data[c] = data[c].astype(str)"
   ]
  },
  {
   "cell_type": "code",
   "execution_count": null,
   "metadata": {},
   "outputs": [],
   "source": [
    "data.info()"
   ]
  },
  {
   "cell_type": "code",
   "execution_count": null,
   "metadata": {},
   "outputs": [],
   "source": [
    "data.head()"
   ]
  },
  {
   "cell_type": "code",
   "execution_count": null,
   "metadata": {},
   "outputs": [],
   "source": [
    "data.describe()"
   ]
  },
  {
   "cell_type": "code",
   "execution_count": null,
   "metadata": {},
   "outputs": [],
   "source": [
    "data.info()"
   ]
  },
  {
   "cell_type": "code",
   "execution_count": null,
   "metadata": {},
   "outputs": [],
   "source": []
  },
  {
   "cell_type": "code",
   "execution_count": null,
   "metadata": {},
   "outputs": [],
   "source": [
    "# Splitting 113 cause name column into two seperate column\n",
    "new = data[\"113 Cause Name\"].str.strip(\"\")"
   ]
  },
  {
   "cell_type": "code",
   "execution_count": null,
   "metadata": {},
   "outputs": [],
   "source": [
    "data['extract_1']= data['State'].str.extract('State==United States') # extract string after ()"
   ]
  },
  {
   "cell_type": "code",
   "execution_count": null,
   "metadata": {},
   "outputs": [],
   "source": []
  },
  {
   "cell_type": "code",
   "execution_count": null,
   "metadata": {},
   "outputs": [],
   "source": [
    "new.head()"
   ]
  },
  {
   "cell_type": "code",
   "execution_count": null,
   "metadata": {},
   "outputs": [],
   "source": [
    "# Splitting 113 cause name column into two seperate column\n",
    "new = data[\"113 Cause Name\"].str.split(\" \", n = 2, expand = True) "
   ]
  },
  {
   "cell_type": "code",
   "execution_count": null,
   "metadata": {
    "scrolled": true
   },
   "outputs": [],
   "source": [
    "new.head()"
   ]
  },
  {
   "cell_type": "code",
   "execution_count": null,
   "metadata": {},
   "outputs": [],
   "source": [
    "data[\"Causes\"]= new[0] \n",
    "data[\"Causes_name\"]= new[1] \n",
    "data[\"causes_2\"] = new[2]\n",
    "data['causes_3']=new[3]"
   ]
  },
  {
   "cell_type": "code",
   "execution_count": null,
   "metadata": {},
   "outputs": [],
   "source": [
    "data.tail(100)"
   ]
  },
  {
   "cell_type": "code",
   "execution_count": null,
   "metadata": {},
   "outputs": [],
   "source": [
    "cause_count = {}\n",
    "for entry in cause_extraction:\n",
    "    if entry in cause_count.keys():\n",
    "        cause_count[entry]+=1\n",
    "    else:\n",
    "        cause_count[entry]=1\n",
    "        \n",
    "print(cause_count)"
   ]
  },
  {
   "cell_type": "code",
   "execution_count": null,
   "metadata": {},
   "outputs": [],
   "source": [
    "data['extract_1']= data['113 Cause Name'].str.extract('.*\\((.*)\\).*',expand=True)"
   ]
  },
  {
   "cell_type": "code",
   "execution_count": null,
   "metadata": {},
   "outputs": [],
   "source": [
    "data.head()"
   ]
  },
  {
   "cell_type": "code",
   "execution_count": null,
   "metadata": {},
   "outputs": [],
   "source": [
    "dogs = ['Joker', 'Simon', 'Ellie', 'Lishka', 'Fido'] \n",
    "for g in dogs:\n",
    "    print (g) "
   ]
  },
  {
   "cell_type": "code",
   "execution_count": null,
   "metadata": {},
   "outputs": [],
   "source": [
    "# for disease\n",
    "df_group = df_clean.groupby('Year')[['Disease Cause','Deaths']]"
   ]
  },
  {
   "cell_type": "code",
   "execution_count": null,
   "metadata": {},
   "outputs": [],
   "source": [
    "df_group.head()"
   ]
  },
  {
   "cell_type": "code",
   "execution_count": null,
   "metadata": {},
   "outputs": [],
   "source": []
  },
  {
   "cell_type": "code",
   "execution_count": null,
   "metadata": {},
   "outputs": [],
   "source": []
  },
  {
   "cell_type": "code",
   "execution_count": null,
   "metadata": {},
   "outputs": [],
   "source": []
  },
  {
   "cell_type": "code",
   "execution_count": null,
   "metadata": {},
   "outputs": [],
   "source": []
  },
  {
   "cell_type": "code",
   "execution_count": null,
   "metadata": {},
   "outputs": [],
   "source": []
  },
  {
   "cell_type": "code",
   "execution_count": null,
   "metadata": {},
   "outputs": [],
   "source": []
  },
  {
   "cell_type": "code",
   "execution_count": null,
   "metadata": {},
   "outputs": [],
   "source": []
  }
 ],
 "metadata": {
  "kernelspec": {
   "display_name": "Python 3",
   "language": "python",
   "name": "python3"
  },
  "language_info": {
   "codemirror_mode": {
    "name": "ipython",
    "version": 3
   },
   "file_extension": ".py",
   "mimetype": "text/x-python",
   "name": "python",
   "nbconvert_exporter": "python",
   "pygments_lexer": "ipython3",
   "version": "3.7.3"
  }
 },
 "nbformat": 4,
 "nbformat_minor": 2
}
