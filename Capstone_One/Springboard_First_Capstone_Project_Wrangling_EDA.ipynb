{
 "cells": [
  {
   "cell_type": "code",
   "execution_count": 1,
   "metadata": {},
   "outputs": [],
   "source": [
    "import numpy as np\n",
    "import pandas as pd\n",
    "import matplotlib.pyplot as plt\n",
    "import re\n",
    "import sklearn"
   ]
  },
  {
   "cell_type": "code",
   "execution_count": 2,
   "metadata": {},
   "outputs": [],
   "source": [
    "data = pd.read_csv('NCHS_-_Leading_Causes_of_Death__United_States.csv')"
   ]
  },
  {
   "cell_type": "code",
   "execution_count": 3,
   "metadata": {},
   "outputs": [
    {
     "data": {
      "text/html": [
       "<div>\n",
       "<style scoped>\n",
       "    .dataframe tbody tr th:only-of-type {\n",
       "        vertical-align: middle;\n",
       "    }\n",
       "\n",
       "    .dataframe tbody tr th {\n",
       "        vertical-align: top;\n",
       "    }\n",
       "\n",
       "    .dataframe thead th {\n",
       "        text-align: right;\n",
       "    }\n",
       "</style>\n",
       "<table border=\"1\" class=\"dataframe\">\n",
       "  <thead>\n",
       "    <tr style=\"text-align: right;\">\n",
       "      <th></th>\n",
       "      <th>Year</th>\n",
       "      <th>113 Cause Name</th>\n",
       "      <th>Cause Name</th>\n",
       "      <th>State</th>\n",
       "      <th>Deaths</th>\n",
       "      <th>Age-adjusted Death Rate</th>\n",
       "    </tr>\n",
       "  </thead>\n",
       "  <tbody>\n",
       "    <tr>\n",
       "      <th>0</th>\n",
       "      <td>2017</td>\n",
       "      <td>Accidents (unintentional injuries) (V01-X59,Y8...</td>\n",
       "      <td>Unintentional injuries</td>\n",
       "      <td>United States</td>\n",
       "      <td>169936</td>\n",
       "      <td>49.4</td>\n",
       "    </tr>\n",
       "    <tr>\n",
       "      <th>1</th>\n",
       "      <td>2017</td>\n",
       "      <td>Accidents (unintentional injuries) (V01-X59,Y8...</td>\n",
       "      <td>Unintentional injuries</td>\n",
       "      <td>Alabama</td>\n",
       "      <td>2703</td>\n",
       "      <td>53.8</td>\n",
       "    </tr>\n",
       "    <tr>\n",
       "      <th>2</th>\n",
       "      <td>2017</td>\n",
       "      <td>Accidents (unintentional injuries) (V01-X59,Y8...</td>\n",
       "      <td>Unintentional injuries</td>\n",
       "      <td>Alaska</td>\n",
       "      <td>436</td>\n",
       "      <td>63.7</td>\n",
       "    </tr>\n",
       "    <tr>\n",
       "      <th>3</th>\n",
       "      <td>2017</td>\n",
       "      <td>Accidents (unintentional injuries) (V01-X59,Y8...</td>\n",
       "      <td>Unintentional injuries</td>\n",
       "      <td>Arizona</td>\n",
       "      <td>4184</td>\n",
       "      <td>56.2</td>\n",
       "    </tr>\n",
       "    <tr>\n",
       "      <th>4</th>\n",
       "      <td>2017</td>\n",
       "      <td>Accidents (unintentional injuries) (V01-X59,Y8...</td>\n",
       "      <td>Unintentional injuries</td>\n",
       "      <td>Arkansas</td>\n",
       "      <td>1625</td>\n",
       "      <td>51.8</td>\n",
       "    </tr>\n",
       "  </tbody>\n",
       "</table>\n",
       "</div>"
      ],
      "text/plain": [
       "   Year                                     113 Cause Name  \\\n",
       "0  2017  Accidents (unintentional injuries) (V01-X59,Y8...   \n",
       "1  2017  Accidents (unintentional injuries) (V01-X59,Y8...   \n",
       "2  2017  Accidents (unintentional injuries) (V01-X59,Y8...   \n",
       "3  2017  Accidents (unintentional injuries) (V01-X59,Y8...   \n",
       "4  2017  Accidents (unintentional injuries) (V01-X59,Y8...   \n",
       "\n",
       "               Cause Name          State  Deaths  Age-adjusted Death Rate  \n",
       "0  Unintentional injuries  United States  169936                     49.4  \n",
       "1  Unintentional injuries        Alabama    2703                     53.8  \n",
       "2  Unintentional injuries         Alaska     436                     63.7  \n",
       "3  Unintentional injuries        Arizona    4184                     56.2  \n",
       "4  Unintentional injuries       Arkansas    1625                     51.8  "
      ]
     },
     "execution_count": 3,
     "metadata": {},
     "output_type": "execute_result"
    }
   ],
   "source": [
    "data.head()"
   ]
  },
  {
   "cell_type": "code",
   "execution_count": 4,
   "metadata": {},
   "outputs": [
    {
     "data": {
      "text/plain": [
       "(10868, 6)"
      ]
     },
     "execution_count": 4,
     "metadata": {},
     "output_type": "execute_result"
    }
   ],
   "source": [
    "data.shape"
   ]
  },
  {
   "cell_type": "code",
   "execution_count": 5,
   "metadata": {},
   "outputs": [
    {
     "name": "stdout",
     "output_type": "stream",
     "text": [
      "<class 'pandas.core.frame.DataFrame'>\n",
      "RangeIndex: 10868 entries, 0 to 10867\n",
      "Data columns (total 6 columns):\n",
      "Year                       10868 non-null int64\n",
      "113 Cause Name             10868 non-null object\n",
      "Cause Name                 10868 non-null object\n",
      "State                      10868 non-null object\n",
      "Deaths                     10868 non-null int64\n",
      "Age-adjusted Death Rate    10868 non-null float64\n",
      "dtypes: float64(1), int64(2), object(3)\n",
      "memory usage: 509.6+ KB\n"
     ]
    }
   ],
   "source": [
    "data.info()"
   ]
  },
  {
   "cell_type": "code",
   "execution_count": 6,
   "metadata": {},
   "outputs": [
    {
     "data": {
      "text/html": [
       "<div>\n",
       "<style scoped>\n",
       "    .dataframe tbody tr th:only-of-type {\n",
       "        vertical-align: middle;\n",
       "    }\n",
       "\n",
       "    .dataframe tbody tr th {\n",
       "        vertical-align: top;\n",
       "    }\n",
       "\n",
       "    .dataframe thead th {\n",
       "        text-align: right;\n",
       "    }\n",
       "</style>\n",
       "<table border=\"1\" class=\"dataframe\">\n",
       "  <thead>\n",
       "    <tr style=\"text-align: right;\">\n",
       "      <th></th>\n",
       "      <th>Year</th>\n",
       "      <th>Deaths</th>\n",
       "      <th>Age-adjusted Death Rate</th>\n",
       "    </tr>\n",
       "  </thead>\n",
       "  <tbody>\n",
       "    <tr>\n",
       "      <th>count</th>\n",
       "      <td>10868.000000</td>\n",
       "      <td>1.086800e+04</td>\n",
       "      <td>10868.000000</td>\n",
       "    </tr>\n",
       "    <tr>\n",
       "      <th>mean</th>\n",
       "      <td>2008.000000</td>\n",
       "      <td>1.545991e+04</td>\n",
       "      <td>127.563894</td>\n",
       "    </tr>\n",
       "    <tr>\n",
       "      <th>std</th>\n",
       "      <td>5.477478</td>\n",
       "      <td>1.128760e+05</td>\n",
       "      <td>223.639771</td>\n",
       "    </tr>\n",
       "    <tr>\n",
       "      <th>min</th>\n",
       "      <td>1999.000000</td>\n",
       "      <td>2.100000e+01</td>\n",
       "      <td>2.600000</td>\n",
       "    </tr>\n",
       "    <tr>\n",
       "      <th>25%</th>\n",
       "      <td>2003.000000</td>\n",
       "      <td>6.120000e+02</td>\n",
       "      <td>19.200000</td>\n",
       "    </tr>\n",
       "    <tr>\n",
       "      <th>50%</th>\n",
       "      <td>2008.000000</td>\n",
       "      <td>1.718500e+03</td>\n",
       "      <td>35.900000</td>\n",
       "    </tr>\n",
       "    <tr>\n",
       "      <th>75%</th>\n",
       "      <td>2013.000000</td>\n",
       "      <td>5.756500e+03</td>\n",
       "      <td>151.725000</td>\n",
       "    </tr>\n",
       "    <tr>\n",
       "      <th>max</th>\n",
       "      <td>2017.000000</td>\n",
       "      <td>2.813503e+06</td>\n",
       "      <td>1087.300000</td>\n",
       "    </tr>\n",
       "  </tbody>\n",
       "</table>\n",
       "</div>"
      ],
      "text/plain": [
       "               Year        Deaths  Age-adjusted Death Rate\n",
       "count  10868.000000  1.086800e+04             10868.000000\n",
       "mean    2008.000000  1.545991e+04               127.563894\n",
       "std        5.477478  1.128760e+05               223.639771\n",
       "min     1999.000000  2.100000e+01                 2.600000\n",
       "25%     2003.000000  6.120000e+02                19.200000\n",
       "50%     2008.000000  1.718500e+03                35.900000\n",
       "75%     2013.000000  5.756500e+03               151.725000\n",
       "max     2017.000000  2.813503e+06              1087.300000"
      ]
     },
     "execution_count": 6,
     "metadata": {},
     "output_type": "execute_result"
    }
   ],
   "source": [
    "data.describe()"
   ]
  },
  {
   "cell_type": "code",
   "execution_count": 7,
   "metadata": {},
   "outputs": [
    {
     "data": {
      "text/plain": [
       "Year                       10868\n",
       "113 Cause Name             10868\n",
       "Cause Name                 10868\n",
       "State                      10868\n",
       "Deaths                     10868\n",
       "Age-adjusted Death Rate    10868\n",
       "dtype: int64"
      ]
     },
     "execution_count": 7,
     "metadata": {},
     "output_type": "execute_result"
    }
   ],
   "source": [
    "data.isnull().count()"
   ]
  },
  {
   "cell_type": "code",
   "execution_count": 8,
   "metadata": {},
   "outputs": [],
   "source": [
    "data['Year'] = pd.to_datetime(data.Year, format='%Y')"
   ]
  },
  {
   "cell_type": "code",
   "execution_count": 9,
   "metadata": {},
   "outputs": [
    {
     "name": "stdout",
     "output_type": "stream",
     "text": [
      "<class 'pandas.core.frame.DataFrame'>\n",
      "RangeIndex: 10868 entries, 0 to 10867\n",
      "Data columns (total 6 columns):\n",
      "Year                       10868 non-null datetime64[ns]\n",
      "113 Cause Name             10868 non-null object\n",
      "Cause Name                 10868 non-null object\n",
      "State                      10868 non-null object\n",
      "Deaths                     10868 non-null int64\n",
      "Age-adjusted Death Rate    10868 non-null float64\n",
      "dtypes: datetime64[ns](1), float64(1), int64(1), object(3)\n",
      "memory usage: 509.6+ KB\n"
     ]
    }
   ],
   "source": [
    "data.info()"
   ]
  },
  {
   "cell_type": "code",
   "execution_count": 10,
   "metadata": {},
   "outputs": [
    {
     "data": {
      "text/html": [
       "<div>\n",
       "<style scoped>\n",
       "    .dataframe tbody tr th:only-of-type {\n",
       "        vertical-align: middle;\n",
       "    }\n",
       "\n",
       "    .dataframe tbody tr th {\n",
       "        vertical-align: top;\n",
       "    }\n",
       "\n",
       "    .dataframe thead th {\n",
       "        text-align: right;\n",
       "    }\n",
       "</style>\n",
       "<table border=\"1\" class=\"dataframe\">\n",
       "  <thead>\n",
       "    <tr style=\"text-align: right;\">\n",
       "      <th></th>\n",
       "      <th>Year</th>\n",
       "      <th>113 Cause Name</th>\n",
       "      <th>Cause Name</th>\n",
       "      <th>State</th>\n",
       "      <th>Deaths</th>\n",
       "      <th>Age-adjusted Death Rate</th>\n",
       "    </tr>\n",
       "  </thead>\n",
       "  <tbody>\n",
       "    <tr>\n",
       "      <th>10858</th>\n",
       "      <td>1999-01-01</td>\n",
       "      <td>Nephritis, nephrotic syndrome and nephrosis (N...</td>\n",
       "      <td>Kidney disease</td>\n",
       "      <td>Tennessee</td>\n",
       "      <td>675</td>\n",
       "      <td>12.3</td>\n",
       "    </tr>\n",
       "    <tr>\n",
       "      <th>10859</th>\n",
       "      <td>1999-01-01</td>\n",
       "      <td>Nephritis, nephrotic syndrome and nephrosis (N...</td>\n",
       "      <td>Kidney disease</td>\n",
       "      <td>Texas</td>\n",
       "      <td>1669</td>\n",
       "      <td>10.3</td>\n",
       "    </tr>\n",
       "    <tr>\n",
       "      <th>10860</th>\n",
       "      <td>1999-01-01</td>\n",
       "      <td>Nephritis, nephrotic syndrome and nephrosis (N...</td>\n",
       "      <td>Kidney disease</td>\n",
       "      <td>United States</td>\n",
       "      <td>35525</td>\n",
       "      <td>13.0</td>\n",
       "    </tr>\n",
       "    <tr>\n",
       "      <th>10861</th>\n",
       "      <td>1999-01-01</td>\n",
       "      <td>Nephritis, nephrotic syndrome and nephrosis (N...</td>\n",
       "      <td>Kidney disease</td>\n",
       "      <td>Utah</td>\n",
       "      <td>135</td>\n",
       "      <td>9.1</td>\n",
       "    </tr>\n",
       "    <tr>\n",
       "      <th>10862</th>\n",
       "      <td>1999-01-01</td>\n",
       "      <td>Nephritis, nephrotic syndrome and nephrosis (N...</td>\n",
       "      <td>Kidney disease</td>\n",
       "      <td>Vermont</td>\n",
       "      <td>56</td>\n",
       "      <td>9.2</td>\n",
       "    </tr>\n",
       "    <tr>\n",
       "      <th>10863</th>\n",
       "      <td>1999-01-01</td>\n",
       "      <td>Nephritis, nephrotic syndrome and nephrosis (N...</td>\n",
       "      <td>Kidney disease</td>\n",
       "      <td>Virginia</td>\n",
       "      <td>1035</td>\n",
       "      <td>16.9</td>\n",
       "    </tr>\n",
       "    <tr>\n",
       "      <th>10864</th>\n",
       "      <td>1999-01-01</td>\n",
       "      <td>Nephritis, nephrotic syndrome and nephrosis (N...</td>\n",
       "      <td>Kidney disease</td>\n",
       "      <td>Washington</td>\n",
       "      <td>278</td>\n",
       "      <td>5.2</td>\n",
       "    </tr>\n",
       "    <tr>\n",
       "      <th>10865</th>\n",
       "      <td>1999-01-01</td>\n",
       "      <td>Nephritis, nephrotic syndrome and nephrosis (N...</td>\n",
       "      <td>Kidney disease</td>\n",
       "      <td>West Virginia</td>\n",
       "      <td>345</td>\n",
       "      <td>16.4</td>\n",
       "    </tr>\n",
       "    <tr>\n",
       "      <th>10866</th>\n",
       "      <td>1999-01-01</td>\n",
       "      <td>Nephritis, nephrotic syndrome and nephrosis (N...</td>\n",
       "      <td>Kidney disease</td>\n",
       "      <td>Wisconsin</td>\n",
       "      <td>677</td>\n",
       "      <td>11.9</td>\n",
       "    </tr>\n",
       "    <tr>\n",
       "      <th>10867</th>\n",
       "      <td>1999-01-01</td>\n",
       "      <td>Nephritis, nephrotic syndrome and nephrosis (N...</td>\n",
       "      <td>Kidney disease</td>\n",
       "      <td>Wyoming</td>\n",
       "      <td>30</td>\n",
       "      <td>6.8</td>\n",
       "    </tr>\n",
       "  </tbody>\n",
       "</table>\n",
       "</div>"
      ],
      "text/plain": [
       "            Year                                     113 Cause Name  \\\n",
       "10858 1999-01-01  Nephritis, nephrotic syndrome and nephrosis (N...   \n",
       "10859 1999-01-01  Nephritis, nephrotic syndrome and nephrosis (N...   \n",
       "10860 1999-01-01  Nephritis, nephrotic syndrome and nephrosis (N...   \n",
       "10861 1999-01-01  Nephritis, nephrotic syndrome and nephrosis (N...   \n",
       "10862 1999-01-01  Nephritis, nephrotic syndrome and nephrosis (N...   \n",
       "10863 1999-01-01  Nephritis, nephrotic syndrome and nephrosis (N...   \n",
       "10864 1999-01-01  Nephritis, nephrotic syndrome and nephrosis (N...   \n",
       "10865 1999-01-01  Nephritis, nephrotic syndrome and nephrosis (N...   \n",
       "10866 1999-01-01  Nephritis, nephrotic syndrome and nephrosis (N...   \n",
       "10867 1999-01-01  Nephritis, nephrotic syndrome and nephrosis (N...   \n",
       "\n",
       "           Cause Name          State  Deaths  Age-adjusted Death Rate  \n",
       "10858  Kidney disease      Tennessee     675                     12.3  \n",
       "10859  Kidney disease          Texas    1669                     10.3  \n",
       "10860  Kidney disease  United States   35525                     13.0  \n",
       "10861  Kidney disease           Utah     135                      9.1  \n",
       "10862  Kidney disease        Vermont      56                      9.2  \n",
       "10863  Kidney disease       Virginia    1035                     16.9  \n",
       "10864  Kidney disease     Washington     278                      5.2  \n",
       "10865  Kidney disease  West Virginia     345                     16.4  \n",
       "10866  Kidney disease      Wisconsin     677                     11.9  \n",
       "10867  Kidney disease        Wyoming      30                      6.8  "
      ]
     },
     "execution_count": 10,
     "metadata": {},
     "output_type": "execute_result"
    }
   ],
   "source": [
    "data.tail(10)"
   ]
  },
  {
   "cell_type": "code",
   "execution_count": 11,
   "metadata": {},
   "outputs": [],
   "source": [
    "# split the column and make a separete column\n",
    "data[['cause1','cause2']] = data[\"113 Cause Name\"].str.rsplit(\" \", n = 1, expand = True)"
   ]
  },
  {
   "cell_type": "code",
   "execution_count": 12,
   "metadata": {},
   "outputs": [
    {
     "data": {
      "text/html": [
       "<div>\n",
       "<style scoped>\n",
       "    .dataframe tbody tr th:only-of-type {\n",
       "        vertical-align: middle;\n",
       "    }\n",
       "\n",
       "    .dataframe tbody tr th {\n",
       "        vertical-align: top;\n",
       "    }\n",
       "\n",
       "    .dataframe thead th {\n",
       "        text-align: right;\n",
       "    }\n",
       "</style>\n",
       "<table border=\"1\" class=\"dataframe\">\n",
       "  <thead>\n",
       "    <tr style=\"text-align: right;\">\n",
       "      <th></th>\n",
       "      <th>Year</th>\n",
       "      <th>113 Cause Name</th>\n",
       "      <th>Cause Name</th>\n",
       "      <th>State</th>\n",
       "      <th>Deaths</th>\n",
       "      <th>Age-adjusted Death Rate</th>\n",
       "      <th>cause1</th>\n",
       "      <th>cause2</th>\n",
       "    </tr>\n",
       "  </thead>\n",
       "  <tbody>\n",
       "    <tr>\n",
       "      <th>0</th>\n",
       "      <td>2017-01-01</td>\n",
       "      <td>Accidents (unintentional injuries) (V01-X59,Y8...</td>\n",
       "      <td>Unintentional injuries</td>\n",
       "      <td>United States</td>\n",
       "      <td>169936</td>\n",
       "      <td>49.4</td>\n",
       "      <td>Accidents (unintentional injuries)</td>\n",
       "      <td>(V01-X59,Y85-Y86)</td>\n",
       "    </tr>\n",
       "    <tr>\n",
       "      <th>1</th>\n",
       "      <td>2017-01-01</td>\n",
       "      <td>Accidents (unintentional injuries) (V01-X59,Y8...</td>\n",
       "      <td>Unintentional injuries</td>\n",
       "      <td>Alabama</td>\n",
       "      <td>2703</td>\n",
       "      <td>53.8</td>\n",
       "      <td>Accidents (unintentional injuries)</td>\n",
       "      <td>(V01-X59,Y85-Y86)</td>\n",
       "    </tr>\n",
       "    <tr>\n",
       "      <th>2</th>\n",
       "      <td>2017-01-01</td>\n",
       "      <td>Accidents (unintentional injuries) (V01-X59,Y8...</td>\n",
       "      <td>Unintentional injuries</td>\n",
       "      <td>Alaska</td>\n",
       "      <td>436</td>\n",
       "      <td>63.7</td>\n",
       "      <td>Accidents (unintentional injuries)</td>\n",
       "      <td>(V01-X59,Y85-Y86)</td>\n",
       "    </tr>\n",
       "    <tr>\n",
       "      <th>3</th>\n",
       "      <td>2017-01-01</td>\n",
       "      <td>Accidents (unintentional injuries) (V01-X59,Y8...</td>\n",
       "      <td>Unintentional injuries</td>\n",
       "      <td>Arizona</td>\n",
       "      <td>4184</td>\n",
       "      <td>56.2</td>\n",
       "      <td>Accidents (unintentional injuries)</td>\n",
       "      <td>(V01-X59,Y85-Y86)</td>\n",
       "    </tr>\n",
       "    <tr>\n",
       "      <th>4</th>\n",
       "      <td>2017-01-01</td>\n",
       "      <td>Accidents (unintentional injuries) (V01-X59,Y8...</td>\n",
       "      <td>Unintentional injuries</td>\n",
       "      <td>Arkansas</td>\n",
       "      <td>1625</td>\n",
       "      <td>51.8</td>\n",
       "      <td>Accidents (unintentional injuries)</td>\n",
       "      <td>(V01-X59,Y85-Y86)</td>\n",
       "    </tr>\n",
       "  </tbody>\n",
       "</table>\n",
       "</div>"
      ],
      "text/plain": [
       "        Year                                     113 Cause Name  \\\n",
       "0 2017-01-01  Accidents (unintentional injuries) (V01-X59,Y8...   \n",
       "1 2017-01-01  Accidents (unintentional injuries) (V01-X59,Y8...   \n",
       "2 2017-01-01  Accidents (unintentional injuries) (V01-X59,Y8...   \n",
       "3 2017-01-01  Accidents (unintentional injuries) (V01-X59,Y8...   \n",
       "4 2017-01-01  Accidents (unintentional injuries) (V01-X59,Y8...   \n",
       "\n",
       "               Cause Name          State  Deaths  Age-adjusted Death Rate  \\\n",
       "0  Unintentional injuries  United States  169936                     49.4   \n",
       "1  Unintentional injuries        Alabama    2703                     53.8   \n",
       "2  Unintentional injuries         Alaska     436                     63.7   \n",
       "3  Unintentional injuries        Arizona    4184                     56.2   \n",
       "4  Unintentional injuries       Arkansas    1625                     51.8   \n",
       "\n",
       "                               cause1             cause2  \n",
       "0  Accidents (unintentional injuries)  (V01-X59,Y85-Y86)  \n",
       "1  Accidents (unintentional injuries)  (V01-X59,Y85-Y86)  \n",
       "2  Accidents (unintentional injuries)  (V01-X59,Y85-Y86)  \n",
       "3  Accidents (unintentional injuries)  (V01-X59,Y85-Y86)  \n",
       "4  Accidents (unintentional injuries)  (V01-X59,Y85-Y86)  "
      ]
     },
     "execution_count": 12,
     "metadata": {},
     "output_type": "execute_result"
    }
   ],
   "source": [
    "data.head()"
   ]
  },
  {
   "cell_type": "code",
   "execution_count": 13,
   "metadata": {},
   "outputs": [],
   "source": [
    "data = data.rename(columns = {'cause1':'Disease Cause'}) # rename columns"
   ]
  },
  {
   "cell_type": "code",
   "execution_count": 14,
   "metadata": {},
   "outputs": [
    {
     "data": {
      "text/html": [
       "<div>\n",
       "<style scoped>\n",
       "    .dataframe tbody tr th:only-of-type {\n",
       "        vertical-align: middle;\n",
       "    }\n",
       "\n",
       "    .dataframe tbody tr th {\n",
       "        vertical-align: top;\n",
       "    }\n",
       "\n",
       "    .dataframe thead th {\n",
       "        text-align: right;\n",
       "    }\n",
       "</style>\n",
       "<table border=\"1\" class=\"dataframe\">\n",
       "  <thead>\n",
       "    <tr style=\"text-align: right;\">\n",
       "      <th></th>\n",
       "      <th>Year</th>\n",
       "      <th>113 Cause Name</th>\n",
       "      <th>Cause Name</th>\n",
       "      <th>State</th>\n",
       "      <th>Deaths</th>\n",
       "      <th>Age-adjusted Death Rate</th>\n",
       "      <th>Disease Cause</th>\n",
       "      <th>cause2</th>\n",
       "    </tr>\n",
       "  </thead>\n",
       "  <tbody>\n",
       "    <tr>\n",
       "      <th>0</th>\n",
       "      <td>2017-01-01</td>\n",
       "      <td>Accidents (unintentional injuries) (V01-X59,Y8...</td>\n",
       "      <td>Unintentional injuries</td>\n",
       "      <td>United States</td>\n",
       "      <td>169936</td>\n",
       "      <td>49.4</td>\n",
       "      <td>Accidents (unintentional injuries)</td>\n",
       "      <td>(V01-X59,Y85-Y86)</td>\n",
       "    </tr>\n",
       "    <tr>\n",
       "      <th>1</th>\n",
       "      <td>2017-01-01</td>\n",
       "      <td>Accidents (unintentional injuries) (V01-X59,Y8...</td>\n",
       "      <td>Unintentional injuries</td>\n",
       "      <td>Alabama</td>\n",
       "      <td>2703</td>\n",
       "      <td>53.8</td>\n",
       "      <td>Accidents (unintentional injuries)</td>\n",
       "      <td>(V01-X59,Y85-Y86)</td>\n",
       "    </tr>\n",
       "    <tr>\n",
       "      <th>2</th>\n",
       "      <td>2017-01-01</td>\n",
       "      <td>Accidents (unintentional injuries) (V01-X59,Y8...</td>\n",
       "      <td>Unintentional injuries</td>\n",
       "      <td>Alaska</td>\n",
       "      <td>436</td>\n",
       "      <td>63.7</td>\n",
       "      <td>Accidents (unintentional injuries)</td>\n",
       "      <td>(V01-X59,Y85-Y86)</td>\n",
       "    </tr>\n",
       "    <tr>\n",
       "      <th>3</th>\n",
       "      <td>2017-01-01</td>\n",
       "      <td>Accidents (unintentional injuries) (V01-X59,Y8...</td>\n",
       "      <td>Unintentional injuries</td>\n",
       "      <td>Arizona</td>\n",
       "      <td>4184</td>\n",
       "      <td>56.2</td>\n",
       "      <td>Accidents (unintentional injuries)</td>\n",
       "      <td>(V01-X59,Y85-Y86)</td>\n",
       "    </tr>\n",
       "    <tr>\n",
       "      <th>4</th>\n",
       "      <td>2017-01-01</td>\n",
       "      <td>Accidents (unintentional injuries) (V01-X59,Y8...</td>\n",
       "      <td>Unintentional injuries</td>\n",
       "      <td>Arkansas</td>\n",
       "      <td>1625</td>\n",
       "      <td>51.8</td>\n",
       "      <td>Accidents (unintentional injuries)</td>\n",
       "      <td>(V01-X59,Y85-Y86)</td>\n",
       "    </tr>\n",
       "  </tbody>\n",
       "</table>\n",
       "</div>"
      ],
      "text/plain": [
       "        Year                                     113 Cause Name  \\\n",
       "0 2017-01-01  Accidents (unintentional injuries) (V01-X59,Y8...   \n",
       "1 2017-01-01  Accidents (unintentional injuries) (V01-X59,Y8...   \n",
       "2 2017-01-01  Accidents (unintentional injuries) (V01-X59,Y8...   \n",
       "3 2017-01-01  Accidents (unintentional injuries) (V01-X59,Y8...   \n",
       "4 2017-01-01  Accidents (unintentional injuries) (V01-X59,Y8...   \n",
       "\n",
       "               Cause Name          State  Deaths  Age-adjusted Death Rate  \\\n",
       "0  Unintentional injuries  United States  169936                     49.4   \n",
       "1  Unintentional injuries        Alabama    2703                     53.8   \n",
       "2  Unintentional injuries         Alaska     436                     63.7   \n",
       "3  Unintentional injuries        Arizona    4184                     56.2   \n",
       "4  Unintentional injuries       Arkansas    1625                     51.8   \n",
       "\n",
       "                        Disease Cause             cause2  \n",
       "0  Accidents (unintentional injuries)  (V01-X59,Y85-Y86)  \n",
       "1  Accidents (unintentional injuries)  (V01-X59,Y85-Y86)  \n",
       "2  Accidents (unintentional injuries)  (V01-X59,Y85-Y86)  \n",
       "3  Accidents (unintentional injuries)  (V01-X59,Y85-Y86)  \n",
       "4  Accidents (unintentional injuries)  (V01-X59,Y85-Y86)  "
      ]
     },
     "execution_count": 14,
     "metadata": {},
     "output_type": "execute_result"
    }
   ],
   "source": [
    "data.head()"
   ]
  },
  {
   "cell_type": "code",
   "execution_count": 15,
   "metadata": {},
   "outputs": [],
   "source": [
    "data = data.drop('113 Cause Name',axis=1) # drop unwanted column"
   ]
  },
  {
   "cell_type": "code",
   "execution_count": 16,
   "metadata": {},
   "outputs": [
    {
     "data": {
      "text/html": [
       "<div>\n",
       "<style scoped>\n",
       "    .dataframe tbody tr th:only-of-type {\n",
       "        vertical-align: middle;\n",
       "    }\n",
       "\n",
       "    .dataframe tbody tr th {\n",
       "        vertical-align: top;\n",
       "    }\n",
       "\n",
       "    .dataframe thead th {\n",
       "        text-align: right;\n",
       "    }\n",
       "</style>\n",
       "<table border=\"1\" class=\"dataframe\">\n",
       "  <thead>\n",
       "    <tr style=\"text-align: right;\">\n",
       "      <th></th>\n",
       "      <th>Year</th>\n",
       "      <th>Cause Name</th>\n",
       "      <th>State</th>\n",
       "      <th>Deaths</th>\n",
       "      <th>Age-adjusted Death Rate</th>\n",
       "      <th>Disease Cause</th>\n",
       "      <th>cause2</th>\n",
       "    </tr>\n",
       "  </thead>\n",
       "  <tbody>\n",
       "    <tr>\n",
       "      <th>0</th>\n",
       "      <td>2017-01-01</td>\n",
       "      <td>Unintentional injuries</td>\n",
       "      <td>United States</td>\n",
       "      <td>169936</td>\n",
       "      <td>49.4</td>\n",
       "      <td>Accidents (unintentional injuries)</td>\n",
       "      <td>(V01-X59,Y85-Y86)</td>\n",
       "    </tr>\n",
       "    <tr>\n",
       "      <th>1</th>\n",
       "      <td>2017-01-01</td>\n",
       "      <td>Unintentional injuries</td>\n",
       "      <td>Alabama</td>\n",
       "      <td>2703</td>\n",
       "      <td>53.8</td>\n",
       "      <td>Accidents (unintentional injuries)</td>\n",
       "      <td>(V01-X59,Y85-Y86)</td>\n",
       "    </tr>\n",
       "    <tr>\n",
       "      <th>2</th>\n",
       "      <td>2017-01-01</td>\n",
       "      <td>Unintentional injuries</td>\n",
       "      <td>Alaska</td>\n",
       "      <td>436</td>\n",
       "      <td>63.7</td>\n",
       "      <td>Accidents (unintentional injuries)</td>\n",
       "      <td>(V01-X59,Y85-Y86)</td>\n",
       "    </tr>\n",
       "    <tr>\n",
       "      <th>3</th>\n",
       "      <td>2017-01-01</td>\n",
       "      <td>Unintentional injuries</td>\n",
       "      <td>Arizona</td>\n",
       "      <td>4184</td>\n",
       "      <td>56.2</td>\n",
       "      <td>Accidents (unintentional injuries)</td>\n",
       "      <td>(V01-X59,Y85-Y86)</td>\n",
       "    </tr>\n",
       "    <tr>\n",
       "      <th>4</th>\n",
       "      <td>2017-01-01</td>\n",
       "      <td>Unintentional injuries</td>\n",
       "      <td>Arkansas</td>\n",
       "      <td>1625</td>\n",
       "      <td>51.8</td>\n",
       "      <td>Accidents (unintentional injuries)</td>\n",
       "      <td>(V01-X59,Y85-Y86)</td>\n",
       "    </tr>\n",
       "  </tbody>\n",
       "</table>\n",
       "</div>"
      ],
      "text/plain": [
       "        Year              Cause Name          State  Deaths  \\\n",
       "0 2017-01-01  Unintentional injuries  United States  169936   \n",
       "1 2017-01-01  Unintentional injuries        Alabama    2703   \n",
       "2 2017-01-01  Unintentional injuries         Alaska     436   \n",
       "3 2017-01-01  Unintentional injuries        Arizona    4184   \n",
       "4 2017-01-01  Unintentional injuries       Arkansas    1625   \n",
       "\n",
       "   Age-adjusted Death Rate                       Disease Cause  \\\n",
       "0                     49.4  Accidents (unintentional injuries)   \n",
       "1                     53.8  Accidents (unintentional injuries)   \n",
       "2                     63.7  Accidents (unintentional injuries)   \n",
       "3                     56.2  Accidents (unintentional injuries)   \n",
       "4                     51.8  Accidents (unintentional injuries)   \n",
       "\n",
       "              cause2  \n",
       "0  (V01-X59,Y85-Y86)  \n",
       "1  (V01-X59,Y85-Y86)  \n",
       "2  (V01-X59,Y85-Y86)  \n",
       "3  (V01-X59,Y85-Y86)  \n",
       "4  (V01-X59,Y85-Y86)  "
      ]
     },
     "execution_count": 16,
     "metadata": {},
     "output_type": "execute_result"
    }
   ],
   "source": [
    "data.head()"
   ]
  },
  {
   "cell_type": "code",
   "execution_count": 17,
   "metadata": {},
   "outputs": [],
   "source": [
    "data = data.drop('cause2',axis = 1) # drop unwanted column"
   ]
  },
  {
   "cell_type": "code",
   "execution_count": 18,
   "metadata": {},
   "outputs": [
    {
     "data": {
      "text/html": [
       "<div>\n",
       "<style scoped>\n",
       "    .dataframe tbody tr th:only-of-type {\n",
       "        vertical-align: middle;\n",
       "    }\n",
       "\n",
       "    .dataframe tbody tr th {\n",
       "        vertical-align: top;\n",
       "    }\n",
       "\n",
       "    .dataframe thead th {\n",
       "        text-align: right;\n",
       "    }\n",
       "</style>\n",
       "<table border=\"1\" class=\"dataframe\">\n",
       "  <thead>\n",
       "    <tr style=\"text-align: right;\">\n",
       "      <th></th>\n",
       "      <th>Year</th>\n",
       "      <th>Cause Name</th>\n",
       "      <th>State</th>\n",
       "      <th>Deaths</th>\n",
       "      <th>Age-adjusted Death Rate</th>\n",
       "      <th>Disease Cause</th>\n",
       "    </tr>\n",
       "  </thead>\n",
       "  <tbody>\n",
       "    <tr>\n",
       "      <th>10863</th>\n",
       "      <td>1999-01-01</td>\n",
       "      <td>Kidney disease</td>\n",
       "      <td>Virginia</td>\n",
       "      <td>1035</td>\n",
       "      <td>16.9</td>\n",
       "      <td>Nephritis, nephrotic syndrome and nephrosis</td>\n",
       "    </tr>\n",
       "    <tr>\n",
       "      <th>10864</th>\n",
       "      <td>1999-01-01</td>\n",
       "      <td>Kidney disease</td>\n",
       "      <td>Washington</td>\n",
       "      <td>278</td>\n",
       "      <td>5.2</td>\n",
       "      <td>Nephritis, nephrotic syndrome and nephrosis</td>\n",
       "    </tr>\n",
       "    <tr>\n",
       "      <th>10865</th>\n",
       "      <td>1999-01-01</td>\n",
       "      <td>Kidney disease</td>\n",
       "      <td>West Virginia</td>\n",
       "      <td>345</td>\n",
       "      <td>16.4</td>\n",
       "      <td>Nephritis, nephrotic syndrome and nephrosis</td>\n",
       "    </tr>\n",
       "    <tr>\n",
       "      <th>10866</th>\n",
       "      <td>1999-01-01</td>\n",
       "      <td>Kidney disease</td>\n",
       "      <td>Wisconsin</td>\n",
       "      <td>677</td>\n",
       "      <td>11.9</td>\n",
       "      <td>Nephritis, nephrotic syndrome and nephrosis</td>\n",
       "    </tr>\n",
       "    <tr>\n",
       "      <th>10867</th>\n",
       "      <td>1999-01-01</td>\n",
       "      <td>Kidney disease</td>\n",
       "      <td>Wyoming</td>\n",
       "      <td>30</td>\n",
       "      <td>6.8</td>\n",
       "      <td>Nephritis, nephrotic syndrome and nephrosis</td>\n",
       "    </tr>\n",
       "  </tbody>\n",
       "</table>\n",
       "</div>"
      ],
      "text/plain": [
       "            Year      Cause Name          State  Deaths  \\\n",
       "10863 1999-01-01  Kidney disease       Virginia    1035   \n",
       "10864 1999-01-01  Kidney disease     Washington     278   \n",
       "10865 1999-01-01  Kidney disease  West Virginia     345   \n",
       "10866 1999-01-01  Kidney disease      Wisconsin     677   \n",
       "10867 1999-01-01  Kidney disease        Wyoming      30   \n",
       "\n",
       "       Age-adjusted Death Rate                                Disease Cause  \n",
       "10863                     16.9  Nephritis, nephrotic syndrome and nephrosis  \n",
       "10864                      5.2  Nephritis, nephrotic syndrome and nephrosis  \n",
       "10865                     16.4  Nephritis, nephrotic syndrome and nephrosis  \n",
       "10866                     11.9  Nephritis, nephrotic syndrome and nephrosis  \n",
       "10867                      6.8  Nephritis, nephrotic syndrome and nephrosis  "
      ]
     },
     "execution_count": 18,
     "metadata": {},
     "output_type": "execute_result"
    }
   ],
   "source": [
    "data.tail()"
   ]
  },
  {
   "cell_type": "code",
   "execution_count": 19,
   "metadata": {
    "scrolled": true
   },
   "outputs": [
    {
     "data": {
      "text/plain": [
       "52"
      ]
     },
     "execution_count": 19,
     "metadata": {},
     "output_type": "execute_result"
    }
   ],
   "source": [
    "data['State'].nunique() # count no of unique value in state"
   ]
  },
  {
   "cell_type": "code",
   "execution_count": 20,
   "metadata": {
    "scrolled": true
   },
   "outputs": [
    {
     "data": {
      "text/plain": [
       "11"
      ]
     },
     "execution_count": 20,
     "metadata": {},
     "output_type": "execute_result"
    }
   ],
   "source": [
    "data['Cause Name'].nunique() # count no of unique values in cause name "
   ]
  },
  {
   "cell_type": "code",
   "execution_count": 21,
   "metadata": {},
   "outputs": [
    {
     "data": {
      "text/plain": [
       "array(['Unintentional injuries', 'All causes', \"Alzheimer's disease\",\n",
       "       'Stroke', 'CLRD', 'Diabetes', 'Heart disease',\n",
       "       'Influenza and pneumonia', 'Suicide', 'Cancer', 'Kidney disease'],\n",
       "      dtype=object)"
      ]
     },
     "execution_count": 21,
     "metadata": {},
     "output_type": "execute_result"
    }
   ],
   "source": [
    "data['Cause Name'].unique()"
   ]
  },
  {
   "cell_type": "code",
   "execution_count": 22,
   "metadata": {},
   "outputs": [
    {
     "data": {
      "text/plain": [
       "array(['Accidents (unintentional injuries)', 'All', \"Alzheimer's disease\",\n",
       "       'Cerebrovascular diseases', 'Chronic lower respiratory diseases',\n",
       "       'Diabetes mellitus', 'Diseases of heart',\n",
       "       'Influenza and pneumonia', 'Intentional self-harm (suicide)',\n",
       "       'Malignant neoplasms',\n",
       "       'Nephritis, nephrotic syndrome and nephrosis'], dtype=object)"
      ]
     },
     "execution_count": 22,
     "metadata": {},
     "output_type": "execute_result"
    }
   ],
   "source": [
    "data['Disease Cause'].unique()"
   ]
  },
  {
   "cell_type": "code",
   "execution_count": 23,
   "metadata": {},
   "outputs": [],
   "source": [
    "#data with states and exclude all causes\n",
    "df1 =  data.loc[(data['State'] != 'United States') & (data['Cause Name'] != 'All causes')]"
   ]
  },
  {
   "cell_type": "code",
   "execution_count": 24,
   "metadata": {},
   "outputs": [
    {
     "data": {
      "text/html": [
       "<div>\n",
       "<style scoped>\n",
       "    .dataframe tbody tr th:only-of-type {\n",
       "        vertical-align: middle;\n",
       "    }\n",
       "\n",
       "    .dataframe tbody tr th {\n",
       "        vertical-align: top;\n",
       "    }\n",
       "\n",
       "    .dataframe thead th {\n",
       "        text-align: right;\n",
       "    }\n",
       "</style>\n",
       "<table border=\"1\" class=\"dataframe\">\n",
       "  <thead>\n",
       "    <tr style=\"text-align: right;\">\n",
       "      <th></th>\n",
       "      <th>Year</th>\n",
       "      <th>Cause Name</th>\n",
       "      <th>State</th>\n",
       "      <th>Deaths</th>\n",
       "      <th>Age-adjusted Death Rate</th>\n",
       "      <th>Disease Cause</th>\n",
       "    </tr>\n",
       "  </thead>\n",
       "  <tbody>\n",
       "    <tr>\n",
       "      <th>1</th>\n",
       "      <td>2017-01-01</td>\n",
       "      <td>Unintentional injuries</td>\n",
       "      <td>Alabama</td>\n",
       "      <td>2703</td>\n",
       "      <td>53.8</td>\n",
       "      <td>Accidents (unintentional injuries)</td>\n",
       "    </tr>\n",
       "    <tr>\n",
       "      <th>2</th>\n",
       "      <td>2017-01-01</td>\n",
       "      <td>Unintentional injuries</td>\n",
       "      <td>Alaska</td>\n",
       "      <td>436</td>\n",
       "      <td>63.7</td>\n",
       "      <td>Accidents (unintentional injuries)</td>\n",
       "    </tr>\n",
       "    <tr>\n",
       "      <th>3</th>\n",
       "      <td>2017-01-01</td>\n",
       "      <td>Unintentional injuries</td>\n",
       "      <td>Arizona</td>\n",
       "      <td>4184</td>\n",
       "      <td>56.2</td>\n",
       "      <td>Accidents (unintentional injuries)</td>\n",
       "    </tr>\n",
       "    <tr>\n",
       "      <th>4</th>\n",
       "      <td>2017-01-01</td>\n",
       "      <td>Unintentional injuries</td>\n",
       "      <td>Arkansas</td>\n",
       "      <td>1625</td>\n",
       "      <td>51.8</td>\n",
       "      <td>Accidents (unintentional injuries)</td>\n",
       "    </tr>\n",
       "    <tr>\n",
       "      <th>5</th>\n",
       "      <td>2017-01-01</td>\n",
       "      <td>Unintentional injuries</td>\n",
       "      <td>California</td>\n",
       "      <td>13840</td>\n",
       "      <td>33.2</td>\n",
       "      <td>Accidents (unintentional injuries)</td>\n",
       "    </tr>\n",
       "  </tbody>\n",
       "</table>\n",
       "</div>"
      ],
      "text/plain": [
       "        Year              Cause Name       State  Deaths  \\\n",
       "1 2017-01-01  Unintentional injuries     Alabama    2703   \n",
       "2 2017-01-01  Unintentional injuries      Alaska     436   \n",
       "3 2017-01-01  Unintentional injuries     Arizona    4184   \n",
       "4 2017-01-01  Unintentional injuries    Arkansas    1625   \n",
       "5 2017-01-01  Unintentional injuries  California   13840   \n",
       "\n",
       "   Age-adjusted Death Rate                       Disease Cause  \n",
       "1                     53.8  Accidents (unintentional injuries)  \n",
       "2                     63.7  Accidents (unintentional injuries)  \n",
       "3                     56.2  Accidents (unintentional injuries)  \n",
       "4                     51.8  Accidents (unintentional injuries)  \n",
       "5                     33.2  Accidents (unintentional injuries)  "
      ]
     },
     "execution_count": 24,
     "metadata": {},
     "output_type": "execute_result"
    }
   ],
   "source": [
    "df1.head()"
   ]
  },
  {
   "cell_type": "code",
   "execution_count": 25,
   "metadata": {},
   "outputs": [
    {
     "data": {
      "text/html": [
       "<div>\n",
       "<style scoped>\n",
       "    .dataframe tbody tr th:only-of-type {\n",
       "        vertical-align: middle;\n",
       "    }\n",
       "\n",
       "    .dataframe tbody tr th {\n",
       "        vertical-align: top;\n",
       "    }\n",
       "\n",
       "    .dataframe thead th {\n",
       "        text-align: right;\n",
       "    }\n",
       "</style>\n",
       "<table border=\"1\" class=\"dataframe\">\n",
       "  <thead>\n",
       "    <tr style=\"text-align: right;\">\n",
       "      <th></th>\n",
       "      <th>Year</th>\n",
       "      <th>Cause Name</th>\n",
       "      <th>State</th>\n",
       "      <th>Deaths</th>\n",
       "      <th>Age-adjusted Death Rate</th>\n",
       "      <th>Disease Cause</th>\n",
       "    </tr>\n",
       "  </thead>\n",
       "  <tbody>\n",
       "    <tr>\n",
       "      <th>52</th>\n",
       "      <td>2017-01-01</td>\n",
       "      <td>All causes</td>\n",
       "      <td>United States</td>\n",
       "      <td>2813503</td>\n",
       "      <td>731.9</td>\n",
       "      <td>All</td>\n",
       "    </tr>\n",
       "    <tr>\n",
       "      <th>668</th>\n",
       "      <td>2016-01-01</td>\n",
       "      <td>All causes</td>\n",
       "      <td>United States</td>\n",
       "      <td>2744248</td>\n",
       "      <td>728.8</td>\n",
       "      <td>All</td>\n",
       "    </tr>\n",
       "    <tr>\n",
       "      <th>1240</th>\n",
       "      <td>2015-01-01</td>\n",
       "      <td>All causes</td>\n",
       "      <td>United States</td>\n",
       "      <td>2712630</td>\n",
       "      <td>733.1</td>\n",
       "      <td>All</td>\n",
       "    </tr>\n",
       "    <tr>\n",
       "      <th>1812</th>\n",
       "      <td>2014-01-01</td>\n",
       "      <td>All causes</td>\n",
       "      <td>United States</td>\n",
       "      <td>2626418</td>\n",
       "      <td>724.6</td>\n",
       "      <td>All</td>\n",
       "    </tr>\n",
       "    <tr>\n",
       "      <th>2384</th>\n",
       "      <td>2013-01-01</td>\n",
       "      <td>All causes</td>\n",
       "      <td>United States</td>\n",
       "      <td>2596993</td>\n",
       "      <td>731.9</td>\n",
       "      <td>All</td>\n",
       "    </tr>\n",
       "  </tbody>\n",
       "</table>\n",
       "</div>"
      ],
      "text/plain": [
       "           Year  Cause Name          State   Deaths  Age-adjusted Death Rate  \\\n",
       "52   2017-01-01  All causes  United States  2813503                    731.9   \n",
       "668  2016-01-01  All causes  United States  2744248                    728.8   \n",
       "1240 2015-01-01  All causes  United States  2712630                    733.1   \n",
       "1812 2014-01-01  All causes  United States  2626418                    724.6   \n",
       "2384 2013-01-01  All causes  United States  2596993                    731.9   \n",
       "\n",
       "     Disease Cause  \n",
       "52             All  \n",
       "668            All  \n",
       "1240           All  \n",
       "1812           All  \n",
       "2384           All  "
      ]
     },
     "execution_count": 25,
     "metadata": {},
     "output_type": "execute_result"
    }
   ],
   "source": [
    "#data with united states and all causes which gives total no of deaths on a given calender year\n",
    "df2 = data.loc[(data['State'] == 'United States') & (data['Cause Name'] == 'All causes')]\n",
    "df2.head()"
   ]
  },
  {
   "cell_type": "code",
   "execution_count": 26,
   "metadata": {},
   "outputs": [],
   "source": [
    "#data with united states only excluding all causes\n",
    "df = data.loc[(data['State'] == 'United States') & (data['Cause Name'] != 'All causes')]"
   ]
  },
  {
   "cell_type": "code",
   "execution_count": 27,
   "metadata": {
    "scrolled": false
   },
   "outputs": [
    {
     "data": {
      "text/html": [
       "<div>\n",
       "<style scoped>\n",
       "    .dataframe tbody tr th:only-of-type {\n",
       "        vertical-align: middle;\n",
       "    }\n",
       "\n",
       "    .dataframe tbody tr th {\n",
       "        vertical-align: top;\n",
       "    }\n",
       "\n",
       "    .dataframe thead th {\n",
       "        text-align: right;\n",
       "    }\n",
       "</style>\n",
       "<table border=\"1\" class=\"dataframe\">\n",
       "  <thead>\n",
       "    <tr style=\"text-align: right;\">\n",
       "      <th></th>\n",
       "      <th>Year</th>\n",
       "      <th>Cause Name</th>\n",
       "      <th>State</th>\n",
       "      <th>Deaths</th>\n",
       "      <th>Age-adjusted Death Rate</th>\n",
       "      <th>Disease Cause</th>\n",
       "    </tr>\n",
       "  </thead>\n",
       "  <tbody>\n",
       "    <tr>\n",
       "      <th>0</th>\n",
       "      <td>2017-01-01</td>\n",
       "      <td>Unintentional injuries</td>\n",
       "      <td>United States</td>\n",
       "      <td>169936</td>\n",
       "      <td>49.4</td>\n",
       "      <td>Accidents (unintentional injuries)</td>\n",
       "    </tr>\n",
       "    <tr>\n",
       "      <th>104</th>\n",
       "      <td>2017-01-01</td>\n",
       "      <td>Alzheimer's disease</td>\n",
       "      <td>United States</td>\n",
       "      <td>121404</td>\n",
       "      <td>31.0</td>\n",
       "      <td>Alzheimer's disease</td>\n",
       "    </tr>\n",
       "    <tr>\n",
       "      <th>156</th>\n",
       "      <td>2017-01-01</td>\n",
       "      <td>Stroke</td>\n",
       "      <td>United States</td>\n",
       "      <td>146383</td>\n",
       "      <td>37.6</td>\n",
       "      <td>Cerebrovascular diseases</td>\n",
       "    </tr>\n",
       "    <tr>\n",
       "      <th>208</th>\n",
       "      <td>2017-01-01</td>\n",
       "      <td>CLRD</td>\n",
       "      <td>United States</td>\n",
       "      <td>160201</td>\n",
       "      <td>40.9</td>\n",
       "      <td>Chronic lower respiratory diseases</td>\n",
       "    </tr>\n",
       "    <tr>\n",
       "      <th>260</th>\n",
       "      <td>2017-01-01</td>\n",
       "      <td>Diabetes</td>\n",
       "      <td>United States</td>\n",
       "      <td>83564</td>\n",
       "      <td>21.5</td>\n",
       "      <td>Diabetes mellitus</td>\n",
       "    </tr>\n",
       "  </tbody>\n",
       "</table>\n",
       "</div>"
      ],
      "text/plain": [
       "          Year              Cause Name          State  Deaths  \\\n",
       "0   2017-01-01  Unintentional injuries  United States  169936   \n",
       "104 2017-01-01     Alzheimer's disease  United States  121404   \n",
       "156 2017-01-01                  Stroke  United States  146383   \n",
       "208 2017-01-01                    CLRD  United States  160201   \n",
       "260 2017-01-01                Diabetes  United States   83564   \n",
       "\n",
       "     Age-adjusted Death Rate                       Disease Cause  \n",
       "0                       49.4  Accidents (unintentional injuries)  \n",
       "104                     31.0                 Alzheimer's disease  \n",
       "156                     37.6            Cerebrovascular diseases  \n",
       "208                     40.9  Chronic lower respiratory diseases  \n",
       "260                     21.5                   Diabetes mellitus  "
      ]
     },
     "execution_count": 27,
     "metadata": {},
     "output_type": "execute_result"
    }
   ],
   "source": [
    "df.head()"
   ]
  },
  {
   "cell_type": "code",
   "execution_count": 28,
   "metadata": {},
   "outputs": [],
   "source": [
    "df_clean = df.drop('Cause Name',axis = 1)"
   ]
  },
  {
   "cell_type": "code",
   "execution_count": 29,
   "metadata": {},
   "outputs": [
    {
     "data": {
      "text/html": [
       "<div>\n",
       "<style scoped>\n",
       "    .dataframe tbody tr th:only-of-type {\n",
       "        vertical-align: middle;\n",
       "    }\n",
       "\n",
       "    .dataframe tbody tr th {\n",
       "        vertical-align: top;\n",
       "    }\n",
       "\n",
       "    .dataframe thead th {\n",
       "        text-align: right;\n",
       "    }\n",
       "</style>\n",
       "<table border=\"1\" class=\"dataframe\">\n",
       "  <thead>\n",
       "    <tr style=\"text-align: right;\">\n",
       "      <th></th>\n",
       "      <th>Year</th>\n",
       "      <th>Country</th>\n",
       "      <th>Deaths</th>\n",
       "      <th>Age-adjusted Death Rate</th>\n",
       "      <th>Disease Cause</th>\n",
       "    </tr>\n",
       "  </thead>\n",
       "  <tbody>\n",
       "    <tr>\n",
       "      <th>0</th>\n",
       "      <td>2017-01-01</td>\n",
       "      <td>United States</td>\n",
       "      <td>169936</td>\n",
       "      <td>49.4</td>\n",
       "      <td>Accidents (unintentional injuries)</td>\n",
       "    </tr>\n",
       "    <tr>\n",
       "      <th>104</th>\n",
       "      <td>2017-01-01</td>\n",
       "      <td>United States</td>\n",
       "      <td>121404</td>\n",
       "      <td>31.0</td>\n",
       "      <td>Alzheimer's disease</td>\n",
       "    </tr>\n",
       "    <tr>\n",
       "      <th>156</th>\n",
       "      <td>2017-01-01</td>\n",
       "      <td>United States</td>\n",
       "      <td>146383</td>\n",
       "      <td>37.6</td>\n",
       "      <td>Cerebrovascular diseases</td>\n",
       "    </tr>\n",
       "    <tr>\n",
       "      <th>208</th>\n",
       "      <td>2017-01-01</td>\n",
       "      <td>United States</td>\n",
       "      <td>160201</td>\n",
       "      <td>40.9</td>\n",
       "      <td>Chronic lower respiratory diseases</td>\n",
       "    </tr>\n",
       "    <tr>\n",
       "      <th>260</th>\n",
       "      <td>2017-01-01</td>\n",
       "      <td>United States</td>\n",
       "      <td>83564</td>\n",
       "      <td>21.5</td>\n",
       "      <td>Diabetes mellitus</td>\n",
       "    </tr>\n",
       "    <tr>\n",
       "      <th>...</th>\n",
       "      <td>...</td>\n",
       "      <td>...</td>\n",
       "      <td>...</td>\n",
       "      <td>...</td>\n",
       "      <td>...</td>\n",
       "    </tr>\n",
       "    <tr>\n",
       "      <th>10652</th>\n",
       "      <td>1999-01-01</td>\n",
       "      <td>United States</td>\n",
       "      <td>725192</td>\n",
       "      <td>266.5</td>\n",
       "      <td>Diseases of heart</td>\n",
       "    </tr>\n",
       "    <tr>\n",
       "      <th>10704</th>\n",
       "      <td>1999-01-01</td>\n",
       "      <td>United States</td>\n",
       "      <td>63730</td>\n",
       "      <td>23.5</td>\n",
       "      <td>Influenza and pneumonia</td>\n",
       "    </tr>\n",
       "    <tr>\n",
       "      <th>10756</th>\n",
       "      <td>1999-01-01</td>\n",
       "      <td>United States</td>\n",
       "      <td>29199</td>\n",
       "      <td>10.5</td>\n",
       "      <td>Intentional self-harm (suicide)</td>\n",
       "    </tr>\n",
       "    <tr>\n",
       "      <th>10808</th>\n",
       "      <td>1999-01-01</td>\n",
       "      <td>United States</td>\n",
       "      <td>549838</td>\n",
       "      <td>200.8</td>\n",
       "      <td>Malignant neoplasms</td>\n",
       "    </tr>\n",
       "    <tr>\n",
       "      <th>10860</th>\n",
       "      <td>1999-01-01</td>\n",
       "      <td>United States</td>\n",
       "      <td>35525</td>\n",
       "      <td>13.0</td>\n",
       "      <td>Nephritis, nephrotic syndrome and nephrosis</td>\n",
       "    </tr>\n",
       "  </tbody>\n",
       "</table>\n",
       "<p>190 rows × 5 columns</p>\n",
       "</div>"
      ],
      "text/plain": [
       "            Year        Country  Deaths  Age-adjusted Death Rate  \\\n",
       "0     2017-01-01  United States  169936                     49.4   \n",
       "104   2017-01-01  United States  121404                     31.0   \n",
       "156   2017-01-01  United States  146383                     37.6   \n",
       "208   2017-01-01  United States  160201                     40.9   \n",
       "260   2017-01-01  United States   83564                     21.5   \n",
       "...          ...            ...     ...                      ...   \n",
       "10652 1999-01-01  United States  725192                    266.5   \n",
       "10704 1999-01-01  United States   63730                     23.5   \n",
       "10756 1999-01-01  United States   29199                     10.5   \n",
       "10808 1999-01-01  United States  549838                    200.8   \n",
       "10860 1999-01-01  United States   35525                     13.0   \n",
       "\n",
       "                                     Disease Cause  \n",
       "0               Accidents (unintentional injuries)  \n",
       "104                            Alzheimer's disease  \n",
       "156                       Cerebrovascular diseases  \n",
       "208             Chronic lower respiratory diseases  \n",
       "260                              Diabetes mellitus  \n",
       "...                                            ...  \n",
       "10652                            Diseases of heart  \n",
       "10704                      Influenza and pneumonia  \n",
       "10756              Intentional self-harm (suicide)  \n",
       "10808                          Malignant neoplasms  \n",
       "10860  Nephritis, nephrotic syndrome and nephrosis  \n",
       "\n",
       "[190 rows x 5 columns]"
      ]
     },
     "execution_count": 29,
     "metadata": {},
     "output_type": "execute_result"
    }
   ],
   "source": [
    "df_clean.rename(columns = {'State':'Country'})"
   ]
  },
  {
   "cell_type": "code",
   "execution_count": 30,
   "metadata": {},
   "outputs": [
    {
     "data": {
      "text/html": [
       "<div>\n",
       "<style scoped>\n",
       "    .dataframe tbody tr th:only-of-type {\n",
       "        vertical-align: middle;\n",
       "    }\n",
       "\n",
       "    .dataframe tbody tr th {\n",
       "        vertical-align: top;\n",
       "    }\n",
       "\n",
       "    .dataframe thead th {\n",
       "        text-align: right;\n",
       "    }\n",
       "</style>\n",
       "<table border=\"1\" class=\"dataframe\">\n",
       "  <thead>\n",
       "    <tr style=\"text-align: right;\">\n",
       "      <th></th>\n",
       "      <th>index</th>\n",
       "      <th>Year</th>\n",
       "      <th>State</th>\n",
       "      <th>Deaths</th>\n",
       "      <th>Age-adjusted Death Rate</th>\n",
       "      <th>Disease Cause</th>\n",
       "    </tr>\n",
       "  </thead>\n",
       "  <tbody>\n",
       "    <tr>\n",
       "      <th>0</th>\n",
       "      <td>0</td>\n",
       "      <td>2017-01-01</td>\n",
       "      <td>United States</td>\n",
       "      <td>169936</td>\n",
       "      <td>49.4</td>\n",
       "      <td>Accidents (unintentional injuries)</td>\n",
       "    </tr>\n",
       "    <tr>\n",
       "      <th>1</th>\n",
       "      <td>104</td>\n",
       "      <td>2017-01-01</td>\n",
       "      <td>United States</td>\n",
       "      <td>121404</td>\n",
       "      <td>31.0</td>\n",
       "      <td>Alzheimer's disease</td>\n",
       "    </tr>\n",
       "    <tr>\n",
       "      <th>2</th>\n",
       "      <td>156</td>\n",
       "      <td>2017-01-01</td>\n",
       "      <td>United States</td>\n",
       "      <td>146383</td>\n",
       "      <td>37.6</td>\n",
       "      <td>Cerebrovascular diseases</td>\n",
       "    </tr>\n",
       "    <tr>\n",
       "      <th>3</th>\n",
       "      <td>208</td>\n",
       "      <td>2017-01-01</td>\n",
       "      <td>United States</td>\n",
       "      <td>160201</td>\n",
       "      <td>40.9</td>\n",
       "      <td>Chronic lower respiratory diseases</td>\n",
       "    </tr>\n",
       "    <tr>\n",
       "      <th>4</th>\n",
       "      <td>260</td>\n",
       "      <td>2017-01-01</td>\n",
       "      <td>United States</td>\n",
       "      <td>83564</td>\n",
       "      <td>21.5</td>\n",
       "      <td>Diabetes mellitus</td>\n",
       "    </tr>\n",
       "    <tr>\n",
       "      <th>...</th>\n",
       "      <td>...</td>\n",
       "      <td>...</td>\n",
       "      <td>...</td>\n",
       "      <td>...</td>\n",
       "      <td>...</td>\n",
       "      <td>...</td>\n",
       "    </tr>\n",
       "    <tr>\n",
       "      <th>185</th>\n",
       "      <td>10652</td>\n",
       "      <td>1999-01-01</td>\n",
       "      <td>United States</td>\n",
       "      <td>725192</td>\n",
       "      <td>266.5</td>\n",
       "      <td>Diseases of heart</td>\n",
       "    </tr>\n",
       "    <tr>\n",
       "      <th>186</th>\n",
       "      <td>10704</td>\n",
       "      <td>1999-01-01</td>\n",
       "      <td>United States</td>\n",
       "      <td>63730</td>\n",
       "      <td>23.5</td>\n",
       "      <td>Influenza and pneumonia</td>\n",
       "    </tr>\n",
       "    <tr>\n",
       "      <th>187</th>\n",
       "      <td>10756</td>\n",
       "      <td>1999-01-01</td>\n",
       "      <td>United States</td>\n",
       "      <td>29199</td>\n",
       "      <td>10.5</td>\n",
       "      <td>Intentional self-harm (suicide)</td>\n",
       "    </tr>\n",
       "    <tr>\n",
       "      <th>188</th>\n",
       "      <td>10808</td>\n",
       "      <td>1999-01-01</td>\n",
       "      <td>United States</td>\n",
       "      <td>549838</td>\n",
       "      <td>200.8</td>\n",
       "      <td>Malignant neoplasms</td>\n",
       "    </tr>\n",
       "    <tr>\n",
       "      <th>189</th>\n",
       "      <td>10860</td>\n",
       "      <td>1999-01-01</td>\n",
       "      <td>United States</td>\n",
       "      <td>35525</td>\n",
       "      <td>13.0</td>\n",
       "      <td>Nephritis, nephrotic syndrome and nephrosis</td>\n",
       "    </tr>\n",
       "  </tbody>\n",
       "</table>\n",
       "<p>190 rows × 6 columns</p>\n",
       "</div>"
      ],
      "text/plain": [
       "     index       Year          State  Deaths  Age-adjusted Death Rate  \\\n",
       "0        0 2017-01-01  United States  169936                     49.4   \n",
       "1      104 2017-01-01  United States  121404                     31.0   \n",
       "2      156 2017-01-01  United States  146383                     37.6   \n",
       "3      208 2017-01-01  United States  160201                     40.9   \n",
       "4      260 2017-01-01  United States   83564                     21.5   \n",
       "..     ...        ...            ...     ...                      ...   \n",
       "185  10652 1999-01-01  United States  725192                    266.5   \n",
       "186  10704 1999-01-01  United States   63730                     23.5   \n",
       "187  10756 1999-01-01  United States   29199                     10.5   \n",
       "188  10808 1999-01-01  United States  549838                    200.8   \n",
       "189  10860 1999-01-01  United States   35525                     13.0   \n",
       "\n",
       "                                   Disease Cause  \n",
       "0             Accidents (unintentional injuries)  \n",
       "1                            Alzheimer's disease  \n",
       "2                       Cerebrovascular diseases  \n",
       "3             Chronic lower respiratory diseases  \n",
       "4                              Diabetes mellitus  \n",
       "..                                           ...  \n",
       "185                            Diseases of heart  \n",
       "186                      Influenza and pneumonia  \n",
       "187              Intentional self-harm (suicide)  \n",
       "188                          Malignant neoplasms  \n",
       "189  Nephritis, nephrotic syndrome and nephrosis  \n",
       "\n",
       "[190 rows x 6 columns]"
      ]
     },
     "execution_count": 30,
     "metadata": {},
     "output_type": "execute_result"
    }
   ],
   "source": [
    "df_clean.reset_index()"
   ]
  },
  {
   "cell_type": "code",
   "execution_count": 31,
   "metadata": {
    "scrolled": true
   },
   "outputs": [
    {
     "data": {
      "text/html": [
       "<div>\n",
       "<style scoped>\n",
       "    .dataframe tbody tr th:only-of-type {\n",
       "        vertical-align: middle;\n",
       "    }\n",
       "\n",
       "    .dataframe tbody tr th {\n",
       "        vertical-align: top;\n",
       "    }\n",
       "\n",
       "    .dataframe thead th {\n",
       "        text-align: right;\n",
       "    }\n",
       "</style>\n",
       "<table border=\"1\" class=\"dataframe\">\n",
       "  <thead>\n",
       "    <tr style=\"text-align: right;\">\n",
       "      <th></th>\n",
       "      <th>Year</th>\n",
       "      <th>State</th>\n",
       "      <th>Deaths</th>\n",
       "      <th>Age-adjusted Death Rate</th>\n",
       "      <th>Disease Cause</th>\n",
       "    </tr>\n",
       "  </thead>\n",
       "  <tbody>\n",
       "    <tr>\n",
       "      <th>0</th>\n",
       "      <td>2017-01-01</td>\n",
       "      <td>United States</td>\n",
       "      <td>169936</td>\n",
       "      <td>49.4</td>\n",
       "      <td>Accidents (unintentional injuries)</td>\n",
       "    </tr>\n",
       "    <tr>\n",
       "      <th>104</th>\n",
       "      <td>2017-01-01</td>\n",
       "      <td>United States</td>\n",
       "      <td>121404</td>\n",
       "      <td>31.0</td>\n",
       "      <td>Alzheimer's disease</td>\n",
       "    </tr>\n",
       "    <tr>\n",
       "      <th>156</th>\n",
       "      <td>2017-01-01</td>\n",
       "      <td>United States</td>\n",
       "      <td>146383</td>\n",
       "      <td>37.6</td>\n",
       "      <td>Cerebrovascular diseases</td>\n",
       "    </tr>\n",
       "    <tr>\n",
       "      <th>208</th>\n",
       "      <td>2017-01-01</td>\n",
       "      <td>United States</td>\n",
       "      <td>160201</td>\n",
       "      <td>40.9</td>\n",
       "      <td>Chronic lower respiratory diseases</td>\n",
       "    </tr>\n",
       "    <tr>\n",
       "      <th>260</th>\n",
       "      <td>2017-01-01</td>\n",
       "      <td>United States</td>\n",
       "      <td>83564</td>\n",
       "      <td>21.5</td>\n",
       "      <td>Diabetes mellitus</td>\n",
       "    </tr>\n",
       "  </tbody>\n",
       "</table>\n",
       "</div>"
      ],
      "text/plain": [
       "          Year          State  Deaths  Age-adjusted Death Rate  \\\n",
       "0   2017-01-01  United States  169936                     49.4   \n",
       "104 2017-01-01  United States  121404                     31.0   \n",
       "156 2017-01-01  United States  146383                     37.6   \n",
       "208 2017-01-01  United States  160201                     40.9   \n",
       "260 2017-01-01  United States   83564                     21.5   \n",
       "\n",
       "                          Disease Cause  \n",
       "0    Accidents (unintentional injuries)  \n",
       "104                 Alzheimer's disease  \n",
       "156            Cerebrovascular diseases  \n",
       "208  Chronic lower respiratory diseases  \n",
       "260                   Diabetes mellitus  "
      ]
     },
     "execution_count": 31,
     "metadata": {},
     "output_type": "execute_result"
    }
   ],
   "source": [
    "df_clean.head()"
   ]
  },
  {
   "cell_type": "code",
   "execution_count": 32,
   "metadata": {},
   "outputs": [
    {
     "data": {
      "text/plain": [
       "count       190.000000\n",
       "mean     190950.436842\n",
       "std      212900.751965\n",
       "min       29199.000000\n",
       "25%       55338.250000\n",
       "50%      104139.500000\n",
       "75%      153465.500000\n",
       "max      725192.000000\n",
       "Name: Deaths, dtype: float64"
      ]
     },
     "execution_count": 32,
     "metadata": {},
     "output_type": "execute_result"
    }
   ],
   "source": [
    "df_clean['Deaths'].describe()"
   ]
  },
  {
   "cell_type": "code",
   "execution_count": 33,
   "metadata": {
    "scrolled": true
   },
   "outputs": [
    {
     "data": {
      "image/png": "[encoded data removed]",
      "text/plain": [
       "<Figure size 720x360 with 1 Axes>"
      ]
     },
     "metadata": {
      "needs_background": "light"
     },
     "output_type": "display_data"
    }
   ],
   "source": [
    "# Frequency distribution of deaths\n",
    "\n",
    "df_clean['Deaths'].hist(edgecolor='black',bins=15,figsize=(10,5));"
   ]
  },
  {
   "cell_type": "code",
   "execution_count": 34,
   "metadata": {},
   "outputs": [
    {
     "data": {
      "text/html": [
       "<div>\n",
       "<style scoped>\n",
       "    .dataframe tbody tr th:only-of-type {\n",
       "        vertical-align: middle;\n",
       "    }\n",
       "\n",
       "    .dataframe tbody tr th {\n",
       "        vertical-align: top;\n",
       "    }\n",
       "\n",
       "    .dataframe thead th {\n",
       "        text-align: right;\n",
       "    }\n",
       "</style>\n",
       "<table border=\"1\" class=\"dataframe\">\n",
       "  <thead>\n",
       "    <tr style=\"text-align: right;\">\n",
       "      <th></th>\n",
       "      <th>Deaths</th>\n",
       "      <th>Age-adjusted Death Rate</th>\n",
       "    </tr>\n",
       "    <tr>\n",
       "      <th>Year</th>\n",
       "      <th></th>\n",
       "      <th></th>\n",
       "    </tr>\n",
       "  </thead>\n",
       "  <tbody>\n",
       "    <tr>\n",
       "      <th>1999-01-01</th>\n",
       "      <td>1905826</td>\n",
       "      <td>698.1</td>\n",
       "    </tr>\n",
       "    <tr>\n",
       "      <th>2000-01-01</th>\n",
       "      <td>1902194</td>\n",
       "      <td>688.0</td>\n",
       "    </tr>\n",
       "    <tr>\n",
       "      <th>2001-01-01</th>\n",
       "      <td>1899358</td>\n",
       "      <td>675.7</td>\n",
       "    </tr>\n",
       "    <tr>\n",
       "      <th>2002-01-01</th>\n",
       "      <td>1918873</td>\n",
       "      <td>672.1</td>\n",
       "    </tr>\n",
       "    <tr>\n",
       "      <th>2003-01-01</th>\n",
       "      <td>1912115</td>\n",
       "      <td>658.8</td>\n",
       "    </tr>\n",
       "    <tr>\n",
       "      <th>2004-01-01</th>\n",
       "      <td>1864133</td>\n",
       "      <td>632.6</td>\n",
       "    </tr>\n",
       "    <tr>\n",
       "      <th>2005-01-01</th>\n",
       "      <td>1889981</td>\n",
       "      <td>628.8</td>\n",
       "    </tr>\n",
       "    <tr>\n",
       "      <th>2006-01-01</th>\n",
       "      <td>1854676</td>\n",
       "      <td>604.8</td>\n",
       "    </tr>\n",
       "    <tr>\n",
       "      <th>2007-01-01</th>\n",
       "      <td>1846301</td>\n",
       "      <td>590.3</td>\n",
       "    </tr>\n",
       "    <tr>\n",
       "      <th>2008-01-01</th>\n",
       "      <td>1872981</td>\n",
       "      <td>586.7</td>\n",
       "    </tr>\n",
       "    <tr>\n",
       "      <th>2009-01-01</th>\n",
       "      <td>1838501</td>\n",
       "      <td>564.8</td>\n",
       "    </tr>\n",
       "    <tr>\n",
       "      <th>2010-01-01</th>\n",
       "      <td>1852349</td>\n",
       "      <td>559.6</td>\n",
       "    </tr>\n",
       "    <tr>\n",
       "      <th>2011-01-01</th>\n",
       "      <td>1869321</td>\n",
       "      <td>550.0</td>\n",
       "    </tr>\n",
       "    <tr>\n",
       "      <th>2012-01-01</th>\n",
       "      <td>1876588</td>\n",
       "      <td>539.7</td>\n",
       "    </tr>\n",
       "    <tr>\n",
       "      <th>2013-01-01</th>\n",
       "      <td>1910311</td>\n",
       "      <td>537.1</td>\n",
       "    </tr>\n",
       "    <tr>\n",
       "      <th>2014-01-01</th>\n",
       "      <td>1938408</td>\n",
       "      <td>533.3</td>\n",
       "    </tr>\n",
       "    <tr>\n",
       "      <th>2015-01-01</th>\n",
       "      <td>2013017</td>\n",
       "      <td>542.0</td>\n",
       "    </tr>\n",
       "    <tr>\n",
       "      <th>2016-01-01</th>\n",
       "      <td>2034119</td>\n",
       "      <td>538.0</td>\n",
       "    </tr>\n",
       "    <tr>\n",
       "      <th>2017-01-01</th>\n",
       "      <td>2081531</td>\n",
       "      <td>539.2</td>\n",
       "    </tr>\n",
       "  </tbody>\n",
       "</table>\n",
       "</div>"
      ],
      "text/plain": [
       "             Deaths  Age-adjusted Death Rate\n",
       "Year                                        \n",
       "1999-01-01  1905826                    698.1\n",
       "2000-01-01  1902194                    688.0\n",
       "2001-01-01  1899358                    675.7\n",
       "2002-01-01  1918873                    672.1\n",
       "2003-01-01  1912115                    658.8\n",
       "2004-01-01  1864133                    632.6\n",
       "2005-01-01  1889981                    628.8\n",
       "2006-01-01  1854676                    604.8\n",
       "2007-01-01  1846301                    590.3\n",
       "2008-01-01  1872981                    586.7\n",
       "2009-01-01  1838501                    564.8\n",
       "2010-01-01  1852349                    559.6\n",
       "2011-01-01  1869321                    550.0\n",
       "2012-01-01  1876588                    539.7\n",
       "2013-01-01  1910311                    537.1\n",
       "2014-01-01  1938408                    533.3\n",
       "2015-01-01  2013017                    542.0\n",
       "2016-01-01  2034119                    538.0\n",
       "2017-01-01  2081531                    539.2"
      ]
     },
     "execution_count": 34,
     "metadata": {},
     "output_type": "execute_result"
    }
   ],
   "source": [
    "death_year = df_clean.groupby(['Year']).sum()\n",
    "death_year"
   ]
  },
  {
   "cell_type": "code",
   "execution_count": 35,
   "metadata": {},
   "outputs": [
    {
     "data": {
      "image/png": "[encoded data removed]",
      "text/plain": [
       "<Figure size 1440x720 with 1 Axes>"
      ]
     },
     "metadata": {
      "needs_background": "light"
     },
     "output_type": "display_data"
    }
   ],
   "source": [
    "death_year['Deaths'].plot(figsize=(20,10), linewidth=2, marker='.', colormap='brg', fontsize=20, logy=True)\n",
    "plt.xlabel('Date', fontsize=20);\n",
    "plt.ylabel('Cases Logarithmic count', fontsize=20);\n",
    "plt.title('Death per year\\n 1999-2017 Logarithmic Time Series', fontsize=20);"
   ]
  },
  {
   "cell_type": "code",
   "execution_count": 36,
   "metadata": {},
   "outputs": [
    {
     "data": {
      "image/png": "[encoded data removed]",
      "text/plain": [
       "<Figure size 720x360 with 1 Axes>"
      ]
     },
     "metadata": {
      "needs_background": "light"
     },
     "output_type": "display_data"
    }
   ],
   "source": [
    "death_year['Deaths'].hist(edgecolor='black',bins=15,figsize=(10,5))\n",
    "plt.xlabel('No of Deaths', fontsize = 20)\n",
    "plt.ylabel('Counts',fontsize = 20);"
   ]
  },
  {
   "cell_type": "code",
   "execution_count": 37,
   "metadata": {},
   "outputs": [],
   "source": [
    "import seaborn as sns"
   ]
  },
  {
   "cell_type": "code",
   "execution_count": 38,
   "metadata": {},
   "outputs": [
    {
     "data": {
      "image/png": "[encoded data removed]",
      "text/plain": [
       "<Figure size 1080x720 with 1 Axes>"
      ]
     },
     "metadata": {
      "needs_background": "light"
     },
     "output_type": "display_data"
    }
   ],
   "source": [
    "plt.figure(figsize=(15,10))\n",
    "sns.barplot(x=\"Deaths\", y=\"Disease Cause\", label='small', data=df_clean.sort_values(by=\"Deaths\",ascending=False))\n",
    "plt.title('Cause of Death', fontsize=20)\n",
    "plt.tight_layout()\n",
    "plt.tick_params(labelsize=20)\n",
    "plt.show()"
   ]
  },
  {
   "cell_type": "code",
   "execution_count": 39,
   "metadata": {},
   "outputs": [
    {
     "data": {
      "image/png": "[encoded data removed]",
      "text/plain": [
       "<Figure size 2160x1080 with 1 Axes>"
      ]
     },
     "metadata": {
      "needs_background": "light"
     },
     "output_type": "display_data"
    }
   ],
   "source": [
    "plt.figure(figsize=(30,15))\n",
    "_ = sns.boxplot(x='Disease Cause',y='Deaths',data=df_clean)\n",
    "_ = plt.xlabel('Causes')\n",
    "_ = plt.ylabel('No of Deaths')\n",
    "plt.show()"
   ]
  },
  {
   "cell_type": "code",
   "execution_count": 40,
   "metadata": {},
   "outputs": [
    {
     "data": {
      "image/png": "[encoded data removed]",
      "text/plain": [
       "<Figure size 1080x504 with 1 Axes>"
      ]
     },
     "metadata": {
      "needs_background": "light"
     },
     "output_type": "display_data"
    }
   ],
   "source": [
    "#df_clean = df_clean.groupby(['Year', 'Disease Cause'])['Deaths'].sum().unstack()\n",
    "#df_clean = df_clean[1999::3, :]\n",
    "fig, ax = plt.subplots(figsize=(15,7))\n",
    "# use unstack()\n",
    "df_clean.groupby(['Year','Disease Cause']).sum()['Deaths'].unstack().plot(ax=ax);"
   ]
  },
  {
   "cell_type": "code",
   "execution_count": 41,
   "metadata": {},
   "outputs": [
    {
     "name": "stdout",
     "output_type": "stream",
     "text": [
      "Identified outliers: 0\n",
      "Non-outlier observations: 190\n"
     ]
    }
   ],
   "source": [
    "data_mean = np.mean(df_clean['Deaths'])\n",
    "data_std = np.std(df_clean['Deaths'])\n",
    "# identify outliers\n",
    "cut_off = data_std * 3\n",
    "lower, upper = data_mean - cut_off, data_mean + cut_off\n",
    "# identify outliers\n",
    "outliers = [x for x in df_clean['Deaths'] if x < lower or x > upper]\n",
    "print('Identified outliers: %d' % len(outliers))\n",
    "# remove outliers\n",
    "outliers_removed = [x for x in df_clean['Deaths'] if x >= lower and x <= upper]\n",
    "print('Non-outlier observations: %d' % len(outliers_removed))"
   ]
  },
  {
   "cell_type": "code",
   "execution_count": null,
   "metadata": {},
   "outputs": [],
   "source": [
    "df_clean['log_deaths'] = np.log10(df_clean['Deaths'])"
   ]
  },
  {
   "cell_type": "code",
   "execution_count": null,
   "metadata": {},
   "outputs": [],
   "source": [
    "df_clean.head()"
   ]
  },
  {
   "cell_type": "code",
   "execution_count": null,
   "metadata": {},
   "outputs": [],
   "source": [
    "df_clean"
   ]
  },
  {
   "cell_type": "code",
   "execution_count": null,
   "metadata": {},
   "outputs": [],
   "source": [
    "df_clean.info()"
   ]
  },
  {
   "cell_type": "code",
   "execution_count": null,
   "metadata": {},
   "outputs": [],
   "source": [
    "df_clean['log_deaths'] = df_clean['log_deaths'].astype(int)"
   ]
  },
  {
   "cell_type": "code",
   "execution_count": null,
   "metadata": {},
   "outputs": [],
   "source": [
    "df_clean.info()"
   ]
  },
  {
   "cell_type": "code",
   "execution_count": null,
   "metadata": {
    "scrolled": true
   },
   "outputs": [],
   "source": [
    "def corr(x, y, **kwargs):\n",
    "\n",
    "    \n",
    "\n",
    "    # Calculate the value\n",
    "\n",
    "    coef = np.corrcoef(x, y)[0][1]\n",
    "\n",
    "    # Make the label\n",
    "\n",
    "    label = r'$\\rho$ = ' + str(round(coef, 2))\n",
    "\n",
    "    \n",
    "\n",
    "    # Add the label to the plot\n",
    "\n",
    "    ax = plt.gca()\n",
    "\n",
    "    ax.annotate(label, xy = (0.2, 0.95), size = 20, xycoords = ax.transAxes)\n",
    "\n",
    "    \n",
    "\n",
    "# Create a pair grid instance\n",
    "\n",
    "grid = sns.PairGrid(data= df_clean['Year'],\n",
    "\n",
    "                    vars = ['Deaths','log_deaths'], size = 4)\n",
    "\n",
    "\n",
    "\n",
    "# Map the plots to the locations\n",
    "\n",
    "grid = grid.map_upper(plt.scatter, color = 'darkred')\n",
    "\n",
    "grid = grid.map_upper(corr)\n",
    "\n",
    "grid = grid.map_lower(sns.kdeplot, cmap = 'Reds')\n",
    "\n",
    "grid = grid.map_diag(plt.hist, bins = 10, edgecolor =  'k', color = 'darkred');"
   ]
  },
  {
   "cell_type": "code",
   "execution_count": null,
   "metadata": {},
   "outputs": [],
   "source": [
    "data1 = df_clean.loc[(df_clean['Deaths']) & (df_clean['Disease Cause'] == 'Diseases of heart')]\n",
    "data2 = df_clean.loc[(df_clean['Deaths']) & (df_clean['Disease Cause'] == 'Malignant neoplasms')]\n",
    "mean_data1 = np.mean(data1['Deaths'])\n",
    "std_data1 = np.std(data1['Deaths'])\n",
    "mean_data2 = np.mean(data2['Deaths'])\n",
    "std_data2 = np.std(data2['Deaths'])"
   ]
  },
  {
   "cell_type": "code",
   "execution_count": null,
   "metadata": {},
   "outputs": [],
   "source": [
    "data1.shape"
   ]
  },
  {
   "cell_type": "code",
   "execution_count": null,
   "metadata": {},
   "outputs": [],
   "source": [
    "data1"
   ]
  },
  {
   "cell_type": "code",
   "execution_count": null,
   "metadata": {},
   "outputs": [],
   "source": [
    "data2"
   ]
  },
  {
   "cell_type": "code",
   "execution_count": null,
   "metadata": {},
   "outputs": [],
   "source": [
    "data2.head()"
   ]
  },
  {
   "cell_type": "code",
   "execution_count": null,
   "metadata": {},
   "outputs": [],
   "source": [
    "# prepare data\n",
    "from matplotlib import pyplot\n",
    "# summarize\n",
    "pyplot.scatter(data1, data2)\n",
    "pyplot.show()\n",
    "\n",
    "# calculate covariance matrix\n",
    "covariance = cov(data1, data2)\n",
    "print(covariance)\n",
    "\n",
    "# calculate Pearson's correlation\n",
    "corr, _ = pearsonr(data1, data2)\n",
    "print('Pearsons correlation: %.3f' % corr)\n",
    "\n",
    "\n",
    "#from numpy.random import seed\n",
    "#from matplotlib import pyplot\n",
    "# seed random number generator"
   ]
  },
  {
   "cell_type": "code",
   "execution_count": null,
   "metadata": {},
   "outputs": [],
   "source": [
    "sns.heatmap(df_clean['Disease Cause'].corr(), square=True, cmap='RdYlGn')"
   ]
  },
  {
   "cell_type": "code",
   "execution_count": null,
   "metadata": {},
   "outputs": [],
   "source": [
    "df_clean['feature_names'] = df_clean['Dis]"
   ]
  },
  {
   "cell_type": "code",
   "execution_count": null,
   "metadata": {
    "scrolled": true
   },
   "outputs": [],
   "source": [
    "df_clean.head()"
   ]
  },
  {
   "cell_type": "code",
   "execution_count": null,
   "metadata": {},
   "outputs": [],
   "source": [
    "df_clean.boxplot('Deaths','Disease Cause',rot = 60, figsize=(15,7));"
   ]
  },
  {
   "cell_type": "code",
   "execution_count": 42,
   "metadata": {},
   "outputs": [
    {
     "name": "stdout",
     "output_type": "stream",
     "text": [
      "Index(['Year', 'Deaths', 'Age-adjusted Death Rate', 'State_United States',\n",
      "       'Disease Cause_Accidents (unintentional injuries)',\n",
      "       'Disease Cause_Alzheimer's disease',\n",
      "       'Disease Cause_Cerebrovascular diseases',\n",
      "       'Disease Cause_Chronic lower respiratory diseases',\n",
      "       'Disease Cause_Diabetes mellitus', 'Disease Cause_Diseases of heart',\n",
      "       'Disease Cause_Influenza and pneumonia',\n",
      "       'Disease Cause_Intentional self-harm (suicide)',\n",
      "       'Disease Cause_Malignant neoplasms',\n",
      "       'Disease Cause_Nephritis, nephrotic syndrome and nephrosis'],\n",
      "      dtype='object')\n",
      "Index(['Year', 'Deaths', 'Age-adjusted Death Rate', 'Cause Name_CLRD',\n",
      "       'Cause Name_Cancer', 'Cause Name_Diabetes', 'Cause Name_Heart disease',\n",
      "       'Cause Name_Influenza and pneumonia', 'Cause Name_Kidney disease',\n",
      "       'Cause Name_Stroke', 'Cause Name_Suicide',\n",
      "       'Cause Name_Unintentional injuries',\n",
      "       'Disease Cause_Alzheimer's disease',\n",
      "       'Disease Cause_Cerebrovascular diseases',\n",
      "       'Disease Cause_Chronic lower respiratory diseases',\n",
      "       'Disease Cause_Diabetes mellitus', 'Disease Cause_Diseases of heart',\n",
      "       'Disease Cause_Influenza and pneumonia',\n",
      "       'Disease Cause_Intentional self-harm (suicide)',\n",
      "       'Disease Cause_Malignant neoplasms',\n",
      "       'Disease Cause_Nephritis, nephrotic syndrome and nephrosis'],\n",
      "      dtype='object')\n"
     ]
    }
   ],
   "source": [
    "# Create dummy variables: df_region\n",
    "df_region = pd.get_dummies(df_clean)\n",
    "\n",
    "# Print the columns of df_region\n",
    "print(df_region.columns)\n",
    "\n",
    "# Create dummy variables with drop_first=True: df_region\n",
    "df_region = pd.get_dummies(df,drop_first=True)\n",
    "\n",
    "# Print the new columns of df_region\n",
    "print(df_region.columns)"
   ]
  },
  {
   "cell_type": "code",
   "execution_count": 43,
   "metadata": {},
   "outputs": [
    {
     "data": {
      "text/html": [
       "<div>\n",
       "<style scoped>\n",
       "    .dataframe tbody tr th:only-of-type {\n",
       "        vertical-align: middle;\n",
       "    }\n",
       "\n",
       "    .dataframe tbody tr th {\n",
       "        vertical-align: top;\n",
       "    }\n",
       "\n",
       "    .dataframe thead th {\n",
       "        text-align: right;\n",
       "    }\n",
       "</style>\n",
       "<table border=\"1\" class=\"dataframe\">\n",
       "  <thead>\n",
       "    <tr style=\"text-align: right;\">\n",
       "      <th></th>\n",
       "      <th>Year</th>\n",
       "      <th>Deaths</th>\n",
       "      <th>Age-adjusted Death Rate</th>\n",
       "      <th>Cause Name_CLRD</th>\n",
       "      <th>Cause Name_Cancer</th>\n",
       "      <th>Cause Name_Diabetes</th>\n",
       "      <th>Cause Name_Heart disease</th>\n",
       "      <th>Cause Name_Influenza and pneumonia</th>\n",
       "      <th>Cause Name_Kidney disease</th>\n",
       "      <th>Cause Name_Stroke</th>\n",
       "      <th>...</th>\n",
       "      <th>Cause Name_Unintentional injuries</th>\n",
       "      <th>Disease Cause_Alzheimer's disease</th>\n",
       "      <th>Disease Cause_Cerebrovascular diseases</th>\n",
       "      <th>Disease Cause_Chronic lower respiratory diseases</th>\n",
       "      <th>Disease Cause_Diabetes mellitus</th>\n",
       "      <th>Disease Cause_Diseases of heart</th>\n",
       "      <th>Disease Cause_Influenza and pneumonia</th>\n",
       "      <th>Disease Cause_Intentional self-harm (suicide)</th>\n",
       "      <th>Disease Cause_Malignant neoplasms</th>\n",
       "      <th>Disease Cause_Nephritis, nephrotic syndrome and nephrosis</th>\n",
       "    </tr>\n",
       "  </thead>\n",
       "  <tbody>\n",
       "    <tr>\n",
       "      <th>0</th>\n",
       "      <td>2017-01-01</td>\n",
       "      <td>169936</td>\n",
       "      <td>49.4</td>\n",
       "      <td>0</td>\n",
       "      <td>0</td>\n",
       "      <td>0</td>\n",
       "      <td>0</td>\n",
       "      <td>0</td>\n",
       "      <td>0</td>\n",
       "      <td>0</td>\n",
       "      <td>...</td>\n",
       "      <td>1</td>\n",
       "      <td>0</td>\n",
       "      <td>0</td>\n",
       "      <td>0</td>\n",
       "      <td>0</td>\n",
       "      <td>0</td>\n",
       "      <td>0</td>\n",
       "      <td>0</td>\n",
       "      <td>0</td>\n",
       "      <td>0</td>\n",
       "    </tr>\n",
       "    <tr>\n",
       "      <th>104</th>\n",
       "      <td>2017-01-01</td>\n",
       "      <td>121404</td>\n",
       "      <td>31.0</td>\n",
       "      <td>0</td>\n",
       "      <td>0</td>\n",
       "      <td>0</td>\n",
       "      <td>0</td>\n",
       "      <td>0</td>\n",
       "      <td>0</td>\n",
       "      <td>0</td>\n",
       "      <td>...</td>\n",
       "      <td>0</td>\n",
       "      <td>1</td>\n",
       "      <td>0</td>\n",
       "      <td>0</td>\n",
       "      <td>0</td>\n",
       "      <td>0</td>\n",
       "      <td>0</td>\n",
       "      <td>0</td>\n",
       "      <td>0</td>\n",
       "      <td>0</td>\n",
       "    </tr>\n",
       "    <tr>\n",
       "      <th>156</th>\n",
       "      <td>2017-01-01</td>\n",
       "      <td>146383</td>\n",
       "      <td>37.6</td>\n",
       "      <td>0</td>\n",
       "      <td>0</td>\n",
       "      <td>0</td>\n",
       "      <td>0</td>\n",
       "      <td>0</td>\n",
       "      <td>0</td>\n",
       "      <td>1</td>\n",
       "      <td>...</td>\n",
       "      <td>0</td>\n",
       "      <td>0</td>\n",
       "      <td>1</td>\n",
       "      <td>0</td>\n",
       "      <td>0</td>\n",
       "      <td>0</td>\n",
       "      <td>0</td>\n",
       "      <td>0</td>\n",
       "      <td>0</td>\n",
       "      <td>0</td>\n",
       "    </tr>\n",
       "    <tr>\n",
       "      <th>208</th>\n",
       "      <td>2017-01-01</td>\n",
       "      <td>160201</td>\n",
       "      <td>40.9</td>\n",
       "      <td>1</td>\n",
       "      <td>0</td>\n",
       "      <td>0</td>\n",
       "      <td>0</td>\n",
       "      <td>0</td>\n",
       "      <td>0</td>\n",
       "      <td>0</td>\n",
       "      <td>...</td>\n",
       "      <td>0</td>\n",
       "      <td>0</td>\n",
       "      <td>0</td>\n",
       "      <td>1</td>\n",
       "      <td>0</td>\n",
       "      <td>0</td>\n",
       "      <td>0</td>\n",
       "      <td>0</td>\n",
       "      <td>0</td>\n",
       "      <td>0</td>\n",
       "    </tr>\n",
       "    <tr>\n",
       "      <th>260</th>\n",
       "      <td>2017-01-01</td>\n",
       "      <td>83564</td>\n",
       "      <td>21.5</td>\n",
       "      <td>0</td>\n",
       "      <td>0</td>\n",
       "      <td>1</td>\n",
       "      <td>0</td>\n",
       "      <td>0</td>\n",
       "      <td>0</td>\n",
       "      <td>0</td>\n",
       "      <td>...</td>\n",
       "      <td>0</td>\n",
       "      <td>0</td>\n",
       "      <td>0</td>\n",
       "      <td>0</td>\n",
       "      <td>1</td>\n",
       "      <td>0</td>\n",
       "      <td>0</td>\n",
       "      <td>0</td>\n",
       "      <td>0</td>\n",
       "      <td>0</td>\n",
       "    </tr>\n",
       "  </tbody>\n",
       "</table>\n",
       "<p>5 rows × 21 columns</p>\n",
       "</div>"
      ],
      "text/plain": [
       "          Year  Deaths  Age-adjusted Death Rate  Cause Name_CLRD  \\\n",
       "0   2017-01-01  169936                     49.4                0   \n",
       "104 2017-01-01  121404                     31.0                0   \n",
       "156 2017-01-01  146383                     37.6                0   \n",
       "208 2017-01-01  160201                     40.9                1   \n",
       "260 2017-01-01   83564                     21.5                0   \n",
       "\n",
       "     Cause Name_Cancer  Cause Name_Diabetes  Cause Name_Heart disease  \\\n",
       "0                    0                    0                         0   \n",
       "104                  0                    0                         0   \n",
       "156                  0                    0                         0   \n",
       "208                  0                    0                         0   \n",
       "260                  0                    1                         0   \n",
       "\n",
       "     Cause Name_Influenza and pneumonia  Cause Name_Kidney disease  \\\n",
       "0                                     0                          0   \n",
       "104                                   0                          0   \n",
       "156                                   0                          0   \n",
       "208                                   0                          0   \n",
       "260                                   0                          0   \n",
       "\n",
       "     Cause Name_Stroke  ...  Cause Name_Unintentional injuries  \\\n",
       "0                    0  ...                                  1   \n",
       "104                  0  ...                                  0   \n",
       "156                  1  ...                                  0   \n",
       "208                  0  ...                                  0   \n",
       "260                  0  ...                                  0   \n",
       "\n",
       "     Disease Cause_Alzheimer's disease  \\\n",
       "0                                    0   \n",
       "104                                  1   \n",
       "156                                  0   \n",
       "208                                  0   \n",
       "260                                  0   \n",
       "\n",
       "     Disease Cause_Cerebrovascular diseases  \\\n",
       "0                                         0   \n",
       "104                                       0   \n",
       "156                                       1   \n",
       "208                                       0   \n",
       "260                                       0   \n",
       "\n",
       "     Disease Cause_Chronic lower respiratory diseases  \\\n",
       "0                                                   0   \n",
       "104                                                 0   \n",
       "156                                                 0   \n",
       "208                                                 1   \n",
       "260                                                 0   \n",
       "\n",
       "     Disease Cause_Diabetes mellitus  Disease Cause_Diseases of heart  \\\n",
       "0                                  0                                0   \n",
       "104                                0                                0   \n",
       "156                                0                                0   \n",
       "208                                0                                0   \n",
       "260                                1                                0   \n",
       "\n",
       "     Disease Cause_Influenza and pneumonia  \\\n",
       "0                                        0   \n",
       "104                                      0   \n",
       "156                                      0   \n",
       "208                                      0   \n",
       "260                                      0   \n",
       "\n",
       "     Disease Cause_Intentional self-harm (suicide)  \\\n",
       "0                                                0   \n",
       "104                                              0   \n",
       "156                                              0   \n",
       "208                                              0   \n",
       "260                                              0   \n",
       "\n",
       "     Disease Cause_Malignant neoplasms  \\\n",
       "0                                    0   \n",
       "104                                  0   \n",
       "156                                  0   \n",
       "208                                  0   \n",
       "260                                  0   \n",
       "\n",
       "     Disease Cause_Nephritis, nephrotic syndrome and nephrosis  \n",
       "0                                                    0          \n",
       "104                                                  0          \n",
       "156                                                  0          \n",
       "208                                                  0          \n",
       "260                                                  0          \n",
       "\n",
       "[5 rows x 21 columns]"
      ]
     },
     "execution_count": 43,
     "metadata": {},
     "output_type": "execute_result"
    }
   ],
   "source": [
    "df_region.head()"
   ]
  },
  {
   "cell_type": "code",
   "execution_count": null,
   "metadata": {},
   "outputs": [],
   "source": [
    "X = df_clean.iloc[:3].values\n",
    "y = df_clean.iloc[:,-1].values\n",
    "y.shape"
   ]
  },
  {
   "cell_type": "code",
   "execution_count": null,
   "metadata": {},
   "outputs": [],
   "source": []
  },
  {
   "cell_type": "code",
   "execution_count": null,
   "metadata": {},
   "outputs": [],
   "source": []
  },
  {
   "cell_type": "code",
   "execution_count": null,
   "metadata": {},
   "outputs": [],
   "source": []
  },
  {
   "cell_type": "code",
   "execution_count": null,
   "metadata": {},
   "outputs": [],
   "source": []
  },
  {
   "cell_type": "code",
   "execution_count": null,
   "metadata": {},
   "outputs": [],
   "source": [
    "from sklearn.linear_model import Ridge\n",
    "from sklearn.model_selection import cross_val_score\n",
    "\n",
    "# Instantiate a ridge regressor: ridge\n",
    "ridge = Ridge(alpha = 0.5 , normalize = True)\n",
    "\n",
    "# Perform 5-fold cross-validation: ridge_cv\n",
    "ridge_cv = cross_val_score(ridge,X,y,cv=5)\n",
    "\n",
    "# Print the cross-validated scores\n",
    "print(ridge_cv)"
   ]
  },
  {
   "cell_type": "code",
   "execution_count": null,
   "metadata": {},
   "outputs": [],
   "source": []
  },
  {
   "cell_type": "code",
   "execution_count": null,
   "metadata": {},
   "outputs": [],
   "source": []
  },
  {
   "cell_type": "code",
   "execution_count": null,
   "metadata": {},
   "outputs": [],
   "source": []
  },
  {
   "cell_type": "code",
   "execution_count": null,
   "metadata": {},
   "outputs": [],
   "source": []
  },
  {
   "cell_type": "code",
   "execution_count": 48,
   "metadata": {},
   "outputs": [
    {
     "data": {
      "text/plain": [
       "(190,)"
      ]
     },
     "execution_count": 48,
     "metadata": {},
     "output_type": "execute_result"
    }
   ],
   "source": [
    "#Declaring independent variable and dependent variable\n",
    "\n",
    "X = df_clean.iloc[:,-1].values\n",
    "y = df_clean.iloc[:,-3].values\n",
    "y.shape"
   ]
  },
  {
   "cell_type": "code",
   "execution_count": 49,
   "metadata": {},
   "outputs": [
    {
     "name": "stdout",
     "output_type": "stream",
     "text": [
      "(190, 1)\n",
      "(190, 1)\n"
     ]
    }
   ],
   "source": [
    "y = y.reshape(-1,1)\n",
    "X = X.reshape(-1,1)\n",
    "print(y.shape)\n",
    "print(X.shape)"
   ]
  },
  {
   "cell_type": "code",
   "execution_count": 50,
   "metadata": {
    "scrolled": true
   },
   "outputs": [
    {
     "data": {
      "text/plain": [
       "array([['Accidents (unintentional injuries)'],\n",
       "       [\"Alzheimer's disease\"],\n",
       "       ['Cerebrovascular diseases'],\n",
       "       ['Chronic lower respiratory diseases'],\n",
       "       ['Diabetes mellitus'],\n",
       "       ['Diseases of heart'],\n",
       "       ['Influenza and pneumonia'],\n",
       "       ['Intentional self-harm (suicide)'],\n",
       "       ['Malignant neoplasms'],\n",
       "       ['Nephritis, nephrotic syndrome and nephrosis'],\n",
       "       ['Accidents (unintentional injuries)'],\n",
       "       [\"Alzheimer's disease\"],\n",
       "       ['Cerebrovascular diseases'],\n",
       "       ['Chronic lower respiratory diseases'],\n",
       "       ['Diabetes mellitus'],\n",
       "       ['Diseases of heart'],\n",
       "       ['Influenza and pneumonia'],\n",
       "       ['Intentional self-harm (suicide)'],\n",
       "       ['Malignant neoplasms'],\n",
       "       ['Nephritis, nephrotic syndrome and nephrosis'],\n",
       "       ['Accidents (unintentional injuries)'],\n",
       "       [\"Alzheimer's disease\"],\n",
       "       ['Cerebrovascular diseases'],\n",
       "       ['Chronic lower respiratory diseases'],\n",
       "       ['Diabetes mellitus'],\n",
       "       ['Diseases of heart'],\n",
       "       ['Influenza and pneumonia'],\n",
       "       ['Intentional self-harm (suicide)'],\n",
       "       ['Malignant neoplasms'],\n",
       "       ['Nephritis, nephrotic syndrome and nephrosis'],\n",
       "       ['Accidents (unintentional injuries)'],\n",
       "       [\"Alzheimer's disease\"],\n",
       "       ['Cerebrovascular diseases'],\n",
       "       ['Chronic lower respiratory diseases'],\n",
       "       ['Diabetes mellitus'],\n",
       "       ['Diseases of heart'],\n",
       "       ['Influenza and pneumonia'],\n",
       "       ['Intentional self-harm (suicide)'],\n",
       "       ['Malignant neoplasms'],\n",
       "       ['Nephritis, nephrotic syndrome and nephrosis'],\n",
       "       ['Accidents (unintentional injuries)'],\n",
       "       [\"Alzheimer's disease\"],\n",
       "       ['Cerebrovascular diseases'],\n",
       "       ['Chronic lower respiratory diseases'],\n",
       "       ['Diabetes mellitus'],\n",
       "       ['Diseases of heart'],\n",
       "       ['Influenza and pneumonia'],\n",
       "       ['Intentional self-harm (suicide)'],\n",
       "       ['Malignant neoplasms'],\n",
       "       ['Nephritis, nephrotic syndrome and nephrosis'],\n",
       "       ['Accidents (unintentional injuries)'],\n",
       "       [\"Alzheimer's disease\"],\n",
       "       ['Cerebrovascular diseases'],\n",
       "       ['Chronic lower respiratory diseases'],\n",
       "       ['Diabetes mellitus'],\n",
       "       ['Diseases of heart'],\n",
       "       ['Influenza and pneumonia'],\n",
       "       ['Intentional self-harm (suicide)'],\n",
       "       ['Malignant neoplasms'],\n",
       "       ['Nephritis, nephrotic syndrome and nephrosis'],\n",
       "       ['Accidents (unintentional injuries)'],\n",
       "       [\"Alzheimer's disease\"],\n",
       "       ['Cerebrovascular diseases'],\n",
       "       ['Chronic lower respiratory diseases'],\n",
       "       ['Diabetes mellitus'],\n",
       "       ['Diseases of heart'],\n",
       "       ['Influenza and pneumonia'],\n",
       "       ['Intentional self-harm (suicide)'],\n",
       "       ['Malignant neoplasms'],\n",
       "       ['Nephritis, nephrotic syndrome and nephrosis'],\n",
       "       ['Accidents (unintentional injuries)'],\n",
       "       [\"Alzheimer's disease\"],\n",
       "       ['Cerebrovascular diseases'],\n",
       "       ['Chronic lower respiratory diseases'],\n",
       "       ['Diabetes mellitus'],\n",
       "       ['Diseases of heart'],\n",
       "       ['Influenza and pneumonia'],\n",
       "       ['Intentional self-harm (suicide)'],\n",
       "       ['Malignant neoplasms'],\n",
       "       ['Nephritis, nephrotic syndrome and nephrosis'],\n",
       "       ['Accidents (unintentional injuries)'],\n",
       "       [\"Alzheimer's disease\"],\n",
       "       ['Cerebrovascular diseases'],\n",
       "       ['Chronic lower respiratory diseases'],\n",
       "       ['Diabetes mellitus'],\n",
       "       ['Diseases of heart'],\n",
       "       ['Influenza and pneumonia'],\n",
       "       ['Intentional self-harm (suicide)'],\n",
       "       ['Malignant neoplasms'],\n",
       "       ['Nephritis, nephrotic syndrome and nephrosis'],\n",
       "       ['Accidents (unintentional injuries)'],\n",
       "       [\"Alzheimer's disease\"],\n",
       "       ['Cerebrovascular diseases'],\n",
       "       ['Chronic lower respiratory diseases'],\n",
       "       ['Diabetes mellitus'],\n",
       "       ['Diseases of heart'],\n",
       "       ['Influenza and pneumonia'],\n",
       "       ['Intentional self-harm (suicide)'],\n",
       "       ['Malignant neoplasms'],\n",
       "       ['Nephritis, nephrotic syndrome and nephrosis'],\n",
       "       ['Accidents (unintentional injuries)'],\n",
       "       [\"Alzheimer's disease\"],\n",
       "       ['Cerebrovascular diseases'],\n",
       "       ['Chronic lower respiratory diseases'],\n",
       "       ['Diabetes mellitus'],\n",
       "       ['Diseases of heart'],\n",
       "       ['Influenza and pneumonia'],\n",
       "       ['Intentional self-harm (suicide)'],\n",
       "       ['Malignant neoplasms'],\n",
       "       ['Nephritis, nephrotic syndrome and nephrosis'],\n",
       "       ['Accidents (unintentional injuries)'],\n",
       "       [\"Alzheimer's disease\"],\n",
       "       ['Cerebrovascular diseases'],\n",
       "       ['Chronic lower respiratory diseases'],\n",
       "       ['Diabetes mellitus'],\n",
       "       ['Diseases of heart'],\n",
       "       ['Influenza and pneumonia'],\n",
       "       ['Intentional self-harm (suicide)'],\n",
       "       ['Malignant neoplasms'],\n",
       "       ['Nephritis, nephrotic syndrome and nephrosis'],\n",
       "       ['Accidents (unintentional injuries)'],\n",
       "       [\"Alzheimer's disease\"],\n",
       "       ['Cerebrovascular diseases'],\n",
       "       ['Chronic lower respiratory diseases'],\n",
       "       ['Diabetes mellitus'],\n",
       "       ['Diseases of heart'],\n",
       "       ['Influenza and pneumonia'],\n",
       "       ['Intentional self-harm (suicide)'],\n",
       "       ['Malignant neoplasms'],\n",
       "       ['Nephritis, nephrotic syndrome and nephrosis'],\n",
       "       ['Accidents (unintentional injuries)'],\n",
       "       [\"Alzheimer's disease\"],\n",
       "       ['Cerebrovascular diseases'],\n",
       "       ['Chronic lower respiratory diseases'],\n",
       "       ['Diabetes mellitus'],\n",
       "       ['Diseases of heart'],\n",
       "       ['Influenza and pneumonia'],\n",
       "       ['Intentional self-harm (suicide)'],\n",
       "       ['Malignant neoplasms'],\n",
       "       ['Nephritis, nephrotic syndrome and nephrosis'],\n",
       "       ['Accidents (unintentional injuries)'],\n",
       "       [\"Alzheimer's disease\"],\n",
       "       ['Cerebrovascular diseases'],\n",
       "       ['Chronic lower respiratory diseases'],\n",
       "       ['Diabetes mellitus'],\n",
       "       ['Diseases of heart'],\n",
       "       ['Influenza and pneumonia'],\n",
       "       ['Intentional self-harm (suicide)'],\n",
       "       ['Malignant neoplasms'],\n",
       "       ['Nephritis, nephrotic syndrome and nephrosis'],\n",
       "       ['Accidents (unintentional injuries)'],\n",
       "       [\"Alzheimer's disease\"],\n",
       "       ['Cerebrovascular diseases'],\n",
       "       ['Chronic lower respiratory diseases'],\n",
       "       ['Diabetes mellitus'],\n",
       "       ['Diseases of heart'],\n",
       "       ['Influenza and pneumonia'],\n",
       "       ['Intentional self-harm (suicide)'],\n",
       "       ['Malignant neoplasms'],\n",
       "       ['Nephritis, nephrotic syndrome and nephrosis'],\n",
       "       ['Accidents (unintentional injuries)'],\n",
       "       [\"Alzheimer's disease\"],\n",
       "       ['Cerebrovascular diseases'],\n",
       "       ['Chronic lower respiratory diseases'],\n",
       "       ['Diabetes mellitus'],\n",
       "       ['Diseases of heart'],\n",
       "       ['Influenza and pneumonia'],\n",
       "       ['Intentional self-harm (suicide)'],\n",
       "       ['Malignant neoplasms'],\n",
       "       ['Nephritis, nephrotic syndrome and nephrosis'],\n",
       "       ['Accidents (unintentional injuries)'],\n",
       "       [\"Alzheimer's disease\"],\n",
       "       ['Cerebrovascular diseases'],\n",
       "       ['Chronic lower respiratory diseases'],\n",
       "       ['Diabetes mellitus'],\n",
       "       ['Diseases of heart'],\n",
       "       ['Influenza and pneumonia'],\n",
       "       ['Intentional self-harm (suicide)'],\n",
       "       ['Malignant neoplasms'],\n",
       "       ['Nephritis, nephrotic syndrome and nephrosis'],\n",
       "       ['Accidents (unintentional injuries)'],\n",
       "       [\"Alzheimer's disease\"],\n",
       "       ['Cerebrovascular diseases'],\n",
       "       ['Chronic lower respiratory diseases'],\n",
       "       ['Diabetes mellitus'],\n",
       "       ['Diseases of heart'],\n",
       "       ['Influenza and pneumonia'],\n",
       "       ['Intentional self-harm (suicide)'],\n",
       "       ['Malignant neoplasms'],\n",
       "       ['Nephritis, nephrotic syndrome and nephrosis']], dtype=object)"
      ]
     },
     "execution_count": 50,
     "metadata": {},
     "output_type": "execute_result"
    }
   ],
   "source": [
    "X"
   ]
  },
  {
   "cell_type": "code",
   "execution_count": 51,
   "metadata": {},
   "outputs": [
    {
     "data": {
      "text/plain": [
       "array([[169936],\n",
       "       [121404],\n",
       "       [146383],\n",
       "       [160201],\n",
       "       [ 83564],\n",
       "       [647457],\n",
       "       [ 55672],\n",
       "       [ 47173],\n",
       "       [599108],\n",
       "       [ 50633],\n",
       "       [161374],\n",
       "       [116103],\n",
       "       [142142],\n",
       "       [154596],\n",
       "       [ 80058],\n",
       "       [635260],\n",
       "       [ 51537],\n",
       "       [ 44965],\n",
       "       [598038],\n",
       "       [ 50046],\n",
       "       [146571],\n",
       "       [110561],\n",
       "       [140323],\n",
       "       [155041],\n",
       "       [ 79535],\n",
       "       [633842],\n",
       "       [ 57062],\n",
       "       [ 44193],\n",
       "       [595930],\n",
       "       [ 49959],\n",
       "       [135928],\n",
       "       [ 93541],\n",
       "       [133103],\n",
       "       [147101],\n",
       "       [ 76488],\n",
       "       [614348],\n",
       "       [ 55227],\n",
       "       [ 42826],\n",
       "       [591700],\n",
       "       [ 48146],\n",
       "       [130557],\n",
       "       [ 84767],\n",
       "       [128978],\n",
       "       [149205],\n",
       "       [ 75578],\n",
       "       [611105],\n",
       "       [ 56979],\n",
       "       [ 41149],\n",
       "       [584881],\n",
       "       [ 47112],\n",
       "       [127792],\n",
       "       [ 83637],\n",
       "       [128546],\n",
       "       [143489],\n",
       "       [ 73932],\n",
       "       [599711],\n",
       "       [ 50636],\n",
       "       [ 40600],\n",
       "       [582623],\n",
       "       [ 45622],\n",
       "       [126438],\n",
       "       [ 84974],\n",
       "       [128932],\n",
       "       [142943],\n",
       "       [ 73831],\n",
       "       [596577],\n",
       "       [ 53826],\n",
       "       [ 39518],\n",
       "       [576691],\n",
       "       [ 45591],\n",
       "       [120859],\n",
       "       [ 83494],\n",
       "       [129476],\n",
       "       [138080],\n",
       "       [ 69071],\n",
       "       [597689],\n",
       "       [ 50097],\n",
       "       [ 38364],\n",
       "       [574743],\n",
       "       [ 50476],\n",
       "       [118021],\n",
       "       [ 79003],\n",
       "       [128842],\n",
       "       [137353],\n",
       "       [ 68705],\n",
       "       [599413],\n",
       "       [ 53692],\n",
       "       [ 36909],\n",
       "       [567628],\n",
       "       [ 48935],\n",
       "       [121902],\n",
       "       [ 82435],\n",
       "       [134148],\n",
       "       [141090],\n",
       "       [ 70553],\n",
       "       [616828],\n",
       "       [ 56284],\n",
       "       [ 36035],\n",
       "       [565469],\n",
       "       [ 48237],\n",
       "       [123706],\n",
       "       [ 74632],\n",
       "       [135952],\n",
       "       [127924],\n",
       "       [ 71382],\n",
       "       [616067],\n",
       "       [ 52717],\n",
       "       [ 34598],\n",
       "       [562875],\n",
       "       [ 46448],\n",
       "       [121599],\n",
       "       [ 72432],\n",
       "       [137119],\n",
       "       [124583],\n",
       "       [ 72449],\n",
       "       [631636],\n",
       "       [ 56326],\n",
       "       [ 33300],\n",
       "       [559888],\n",
       "       [ 45344],\n",
       "       [117809],\n",
       "       [ 71599],\n",
       "       [143579],\n",
       "       [130933],\n",
       "       [ 75119],\n",
       "       [652091],\n",
       "       [ 63001],\n",
       "       [ 32637],\n",
       "       [559312],\n",
       "       [ 43901],\n",
       "       [112012],\n",
       "       [ 65965],\n",
       "       [150074],\n",
       "       [121987],\n",
       "       [ 73138],\n",
       "       [652486],\n",
       "       [ 59664],\n",
       "       [ 32439],\n",
       "       [553888],\n",
       "       [ 42480],\n",
       "       [109277],\n",
       "       [ 63457],\n",
       "       [157689],\n",
       "       [126382],\n",
       "       [ 74219],\n",
       "       [685089],\n",
       "       [ 65163],\n",
       "       [ 31484],\n",
       "       [556902],\n",
       "       [ 42453],\n",
       "       [106742],\n",
       "       [ 58866],\n",
       "       [162672],\n",
       "       [124816],\n",
       "       [ 73249],\n",
       "       [696947],\n",
       "       [ 65681],\n",
       "       [ 31655],\n",
       "       [557271],\n",
       "       [ 40974],\n",
       "       [101537],\n",
       "       [ 53852],\n",
       "       [163538],\n",
       "       [123013],\n",
       "       [ 71372],\n",
       "       [700142],\n",
       "       [ 62034],\n",
       "       [ 30622],\n",
       "       [553768],\n",
       "       [ 39480],\n",
       "       [ 97900],\n",
       "       [ 49558],\n",
       "       [167661],\n",
       "       [122009],\n",
       "       [ 69301],\n",
       "       [710760],\n",
       "       [ 65313],\n",
       "       [ 29350],\n",
       "       [553091],\n",
       "       [ 37251],\n",
       "       [ 97860],\n",
       "       [ 44536],\n",
       "       [167366],\n",
       "       [124181],\n",
       "       [ 68399],\n",
       "       [725192],\n",
       "       [ 63730],\n",
       "       [ 29199],\n",
       "       [549838],\n",
       "       [ 35525]], dtype=int64)"
      ]
     },
     "execution_count": 51,
     "metadata": {},
     "output_type": "execute_result"
    }
   ],
   "source": [
    "y"
   ]
  },
  {
   "cell_type": "code",
   "execution_count": 52,
   "metadata": {},
   "outputs": [
    {
     "data": {
      "text/plain": [
       "array([[0., 0., 0., ..., 0., 0., 0.],\n",
       "       [0., 0., 0., ..., 0., 0., 0.],\n",
       "       [0., 0., 0., ..., 0., 0., 0.],\n",
       "       ...,\n",
       "       [1., 0., 0., ..., 0., 0., 0.],\n",
       "       [0., 0., 0., ..., 0., 0., 0.],\n",
       "       [0., 0., 0., ..., 0., 0., 0.]])"
      ]
     },
     "execution_count": 52,
     "metadata": {},
     "output_type": "execute_result"
    }
   ],
   "source": [
    "from sklearn.preprocessing import OneHotEncoder\n",
    "onehotencoder = OneHotEncoder()\n",
    "X = onehotencoder.fit_transform(y.reshape(-1,1)).toarray()\n",
    "X"
   ]
  },
  {
   "cell_type": "code",
   "execution_count": 53,
   "metadata": {},
   "outputs": [
    {
     "name": "stdout",
     "output_type": "stream",
     "text": [
      "[-7.55498448e-04 -7.99531954e-04 -7.75323721e-03 -1.45203325e-05\n",
      " -8.51153557e-04]\n"
     ]
    }
   ],
   "source": [
    "from sklearn.linear_model import Ridge\n",
    "from sklearn.model_selection import cross_val_score\n",
    "\n",
    "# Instantiate a ridge regressor: ridge\n",
    "ridge = Ridge(alpha = 0.5 , normalize = True)\n",
    "\n",
    "# Perform 5-fold cross-validation: ridge_cv\n",
    "ridge_cv = cross_val_score(ridge,X,y,cv=5)\n",
    "\n",
    "# Print the cross-validated scores\n",
    "print(ridge_cv)"
   ]
  },
  {
   "cell_type": "code",
   "execution_count": null,
   "metadata": {},
   "outputs": [],
   "source": []
  },
  {
   "cell_type": "code",
   "execution_count": null,
   "metadata": {},
   "outputs": [],
   "source": []
  },
  {
   "cell_type": "code",
   "execution_count": null,
   "metadata": {},
   "outputs": [],
   "source": []
  },
  {
   "cell_type": "code",
   "execution_count": null,
   "metadata": {},
   "outputs": [],
   "source": []
  },
  {
   "cell_type": "code",
   "execution_count": null,
   "metadata": {},
   "outputs": [],
   "source": []
  },
  {
   "cell_type": "code",
   "execution_count": null,
   "metadata": {},
   "outputs": [],
   "source": []
  },
  {
   "cell_type": "code",
   "execution_count": null,
   "metadata": {},
   "outputs": [],
   "source": []
  },
  {
   "cell_type": "code",
   "execution_count": null,
   "metadata": {},
   "outputs": [],
   "source": [
    "from sklearn.model_selection import train_test_split \n",
    "from sklearn.neighbors import KNeighborsClassifier\n",
    "X_train, X_test, y_train, y_test = train_test_split( X,y,test_size = 0.3 ,random_state = 0 , stratify = y) \n",
    "knn = KNeighborsClassifier(n_neighbors=6)\n",
    "knn.fit(X_train,y_train)\n",
    "y_pred = knn.predict(X_test)\n",
    "print(y_pred)\n"
   ]
  },
  {
   "cell_type": "code",
   "execution_count": null,
   "metadata": {},
   "outputs": [],
   "source": [
    "knn.score(X_test,y_test)"
   ]
  },
  {
   "cell_type": "code",
   "execution_count": null,
   "metadata": {},
   "outputs": [],
   "source": [
    "# Setup arrays to store train and test accuracies\n",
    "neighbors = np.arange(1, 9)\n",
    "train_accuracy = np.empty(len(neighbors))\n",
    "test_accuracy = np.empty(len(neighbors))\n",
    "\n",
    "# Loop over different values of k\n",
    "for i, k in enumerate(neighbors):\n",
    "    # Setup a k-NN Classifier with k neighbors: knn\n",
    "    knn = KNeighborsClassifier(n_neighbors=8)\n",
    "\n",
    "    # Fit the classifier to the training data\n",
    "    knn.fit(X_train,y_train)\n",
    "    \n",
    "    #Compute accuracy on the training set\n",
    "    train_accuracy[i] = knn.score(X_train,y_train)\n",
    "\n",
    "    #Compute accuracy on the testing set\n",
    "    test_accuracy[i] = knn.score(X_test,y_test)\n",
    "\n",
    "# Generate plot\n",
    "plt.title('k-NN: Varying Number of Neighbors')\n",
    "plt.plot(neighbors, test_accuracy, label = 'Testing Accuracy')\n",
    "plt.plot(neighbors, train_accuracy, label = 'Training Accuracy')\n",
    "plt.legend()\n",
    "plt.xlabel('Number of Neighbors')\n",
    "plt.ylabel('Accuracy')\n",
    "plt.show()"
   ]
  },
  {
   "cell_type": "code",
   "execution_count": null,
   "metadata": {},
   "outputs": [],
   "source": [
    "print(\" X_train shape:\", X_train.shape)\n",
    "print(\" y_train shape:\", y_train.shape)"
   ]
  },
  {
   "cell_type": "code",
   "execution_count": null,
   "metadata": {},
   "outputs": [],
   "source": [
    "print(\" X_test shape:\", X_test.shape) \n",
    "print(\" y_test shape:\", y_test.shape)"
   ]
  },
  {
   "cell_type": "code",
   "execution_count": null,
   "metadata": {},
   "outputs": [],
   "source": [
    "from sklearn.neighbors import KNeighborsClassifier\n",
    "knn = KNeighborsClassifier(n_neighbors=6)\n",
    "knn.fit(X,y)"
   ]
  },
  {
   "cell_type": "code",
   "execution_count": null,
   "metadata": {},
   "outputs": [],
   "source": []
  },
  {
   "cell_type": "code",
   "execution_count": null,
   "metadata": {},
   "outputs": [],
   "source": []
  },
  {
   "cell_type": "code",
   "execution_count": null,
   "metadata": {},
   "outputs": [],
   "source": []
  },
  {
   "cell_type": "code",
   "execution_count": null,
   "metadata": {},
   "outputs": [],
   "source": []
  },
  {
   "cell_type": "code",
   "execution_count": null,
   "metadata": {},
   "outputs": [],
   "source": []
  },
  {
   "cell_type": "code",
   "execution_count": null,
   "metadata": {},
   "outputs": [],
   "source": []
  },
  {
   "cell_type": "code",
   "execution_count": null,
   "metadata": {},
   "outputs": [],
   "source": [
    "def plot_knn_classification(n_neighbors=1):\n",
    "\n",
    "    X, y = make_forge()\n",
    "\n",
    "\n",
    "\n",
    "    X_test = np.array([[8.2, 3.66214339], [9.9, 3.2], [11.2, .5]])\n",
    "\n",
    "    dist = euclidean_distances(X, X_test)\n",
    "\n",
    "    closest = np.argsort(dist, axis=0)\n",
    "\n",
    "\n",
    "\n",
    "    for x, neighbors in zip(X_test, closest.T):\n",
    "\n",
    "        for neighbor in neighbors[:n_neighbors]:\n",
    "\n",
    "            plt.arrow(x[0], x[1], X[neighbor, 0] - x[0],\n",
    "\n",
    "                      X[neighbor, 1] - x[1], head_width=0, fc='k', ec='k')\n",
    "\n",
    "\n",
    "\n",
    "    clf = KNeighborsClassifier(n_neighbors=n_neighbors).fit(X, y)\n",
    "\n",
    "    test_points = discrete_scatter(X_test[:, 0], X_test[:, 1], clf.predict(X_test), markers=\"*\")\n",
    "\n",
    "    training_points = discrete_scatter(X[:, 0], X[:, 1], y)\n",
    "\n",
    "    plt.legend(training_points + test_points, [\"training class 0\", \"training class 1\",\n",
    "\n",
    "                                               \"test pred 0\", \"test pred 1\"])"
   ]
  },
  {
   "cell_type": "code",
   "execution_count": null,
   "metadata": {},
   "outputs": [],
   "source": [
    "X, y = df_clean.make_forge() # plot dataset \n",
    "df_clean.discrete_scatter( X[:, 0], X[:, 1], y) \n",
    "plt.legend([\" Class 0\", \"Class 1\"], loc = 4) \n",
    "plt.xlabel(\" First feature\")\n",
    "plt.ylabel(\" Second feature\") \n",
    "print(\" X.shape:\", X.shape)"
   ]
  },
  {
   "cell_type": "code",
   "execution_count": null,
   "metadata": {},
   "outputs": [],
   "source": []
  },
  {
   "cell_type": "code",
   "execution_count": null,
   "metadata": {},
   "outputs": [],
   "source": [
    "df_clean.loc[df_clean['Year'].idxmax()]"
   ]
  },
  {
   "cell_type": "code",
   "execution_count": null,
   "metadata": {},
   "outputs": [],
   "source": [
    "df_clean.loc[df_clean['Year'].idxmin]"
   ]
  },
  {
   "cell_type": "code",
   "execution_count": null,
   "metadata": {},
   "outputs": [],
   "source": [
    "import seaborn as sns\n",
    "\n",
    "ax = sns.pointplot(x=\"Year\",y=\"Deaths\",hue = \"Disease Cause\",data = df_clean,figsize = (15,30))"
   ]
  },
  {
   "cell_type": "code",
   "execution_count": null,
   "metadata": {},
   "outputs": [],
   "source": [
    "sns.set()\n",
    "n_data = len(df_clean['Deaths'])\n",
    "n_bins = np.sqrt(len(df_clean['Deaths']))\n",
    "n_bins =int(n_bins)\n",
    "_ = plt.hist(df_clean['Deaths'],bins = n_bins)\n",
    "_ = plt.xlabel('No of Deaths')\n",
    "_ = plt.ylabel('Count')"
   ]
  },
  {
   "cell_type": "code",
   "execution_count": null,
   "metadata": {},
   "outputs": [],
   "source": [
    "_= sns.swarmplot(x='Disease Cause',y='Deaths',data = df_clean)\n",
    "_= plt.xlabel('Causes')\n",
    "_= plt.ylabel('No of Deaths')\n",
    "plt.show()"
   ]
  },
  {
   "cell_type": "code",
   "execution_count": null,
   "metadata": {},
   "outputs": [],
   "source": []
  },
  {
   "cell_type": "code",
   "execution_count": null,
   "metadata": {},
   "outputs": [],
   "source": [
    "deaths_year = df.groupby(['Year','Cause Name'])['Deaths']"
   ]
  },
  {
   "cell_type": "code",
   "execution_count": null,
   "metadata": {},
   "outputs": [],
   "source": [
    "print(deaths_year)"
   ]
  },
  {
   "cell_type": "code",
   "execution_count": null,
   "metadata": {},
   "outputs": [],
   "source": [
    "deaths_year.head()"
   ]
  },
  {
   "cell_type": "code",
   "execution_count": null,
   "metadata": {},
   "outputs": [],
   "source": [
    "deaths_year.plot(figsize=(10,7))\n",
    "plt.ylabel('Total Deaths in millions')"
   ]
  },
  {
   "cell_type": "code",
   "execution_count": null,
   "metadata": {},
   "outputs": [],
   "source": [
    "result = 0\n",
    "for i in range(100):\n",
    "    result += i\n",
    "print(result)"
   ]
  },
  {
   "cell_type": "code",
   "execution_count": null,
   "metadata": {},
   "outputs": [],
   "source": [
    "print(range(100))"
   ]
  },
  {
   "cell_type": "code",
   "execution_count": null,
   "metadata": {},
   "outputs": [],
   "source": []
  },
  {
   "cell_type": "code",
   "execution_count": null,
   "metadata": {},
   "outputs": [],
   "source": [
    "df1 = data[data['State'].str.match('United States')]"
   ]
  },
  {
   "cell_type": "code",
   "execution_count": null,
   "metadata": {
    "scrolled": true
   },
   "outputs": [],
   "source": [
    "df1.head()"
   ]
  },
  {
   "cell_type": "code",
   "execution_count": null,
   "metadata": {},
   "outputs": [],
   "source": [
    "df1.shape"
   ]
  },
  {
   "cell_type": "code",
   "execution_count": null,
   "metadata": {},
   "outputs": [],
   "source": [
    "df2 = df1[df1['Cause Name'].str.match('All causes')]"
   ]
  },
  {
   "cell_type": "code",
   "execution_count": null,
   "metadata": {},
   "outputs": [],
   "source": [
    "df2.head()"
   ]
  },
  {
   "cell_type": "code",
   "execution_count": null,
   "metadata": {},
   "outputs": [],
   "source": [
    "df2.shape"
   ]
  },
  {
   "cell_type": "code",
   "execution_count": null,
   "metadata": {},
   "outputs": [],
   "source": []
  },
  {
   "cell_type": "code",
   "execution_count": null,
   "metadata": {},
   "outputs": [],
   "source": []
  },
  {
   "cell_type": "code",
   "execution_count": null,
   "metadata": {},
   "outputs": [],
   "source": []
  },
  {
   "cell_type": "code",
   "execution_count": null,
   "metadata": {},
   "outputs": [],
   "source": []
  },
  {
   "cell_type": "code",
   "execution_count": null,
   "metadata": {},
   "outputs": [],
   "source": []
  },
  {
   "cell_type": "code",
   "execution_count": null,
   "metadata": {},
   "outputs": [],
   "source": []
  },
  {
   "cell_type": "code",
   "execution_count": null,
   "metadata": {},
   "outputs": [],
   "source": []
  },
  {
   "cell_type": "code",
   "execution_count": null,
   "metadata": {},
   "outputs": [],
   "source": [
    "df = data.set_index(\"State\", drop = False)"
   ]
  },
  {
   "cell_type": "code",
   "execution_count": null,
   "metadata": {},
   "outputs": [],
   "source": [
    "df.head()"
   ]
  },
  {
   "cell_type": "code",
   "execution_count": null,
   "metadata": {},
   "outputs": [],
   "source": [
    "df.loc['United States']"
   ]
  },
  {
   "cell_type": "code",
   "execution_count": null,
   "metadata": {},
   "outputs": [],
   "source": [
    "#data = data.drop([0]) # drop first row assigned for USA"
   ]
  },
  {
   "cell_type": "code",
   "execution_count": null,
   "metadata": {},
   "outputs": [],
   "source": [
    "#data.head()"
   ]
  },
  {
   "cell_type": "code",
   "execution_count": null,
   "metadata": {},
   "outputs": [],
   "source": [
    "#data.describe()"
   ]
  },
  {
   "cell_type": "code",
   "execution_count": null,
   "metadata": {},
   "outputs": [],
   "source": [
    "data['Cause Name'].unique()"
   ]
  },
  {
   "cell_type": "code",
   "execution_count": null,
   "metadata": {},
   "outputs": [],
   "source": [
    "data['Disease Cause'].unique()"
   ]
  },
  {
   "cell_type": "code",
   "execution_count": null,
   "metadata": {},
   "outputs": [],
   "source": [
    "data['State'].unique()"
   ]
  },
  {
   "cell_type": "code",
   "execution_count": null,
   "metadata": {},
   "outputs": [],
   "source": [
    "import seaborn as sns\n",
    "import matplotlib.pyplot as plt\n",
    "\n",
    "# settings for the histogram\n",
    "sns.set(font_scale =2)\n",
    "plt.ylim(0,80)\n",
    "plt.xlim(0,1000)\n",
    "\n",
    "data['Deaths'].hist(bins=50,density = True)"
   ]
  },
  {
   "cell_type": "code",
   "execution_count": null,
   "metadata": {
    "scrolled": true
   },
   "outputs": [],
   "source": [
    "data['Cause Name'].value_counts()[:15]"
   ]
  },
  {
   "cell_type": "code",
   "execution_count": null,
   "metadata": {},
   "outputs": [],
   "source": [
    "data['Disease Cause'].value_counts()[:15]"
   ]
  },
  {
   "cell_type": "code",
   "execution_count": null,
   "metadata": {
    "scrolled": true
   },
   "outputs": [],
   "source": [
    "data.head()"
   ]
  },
  {
   "cell_type": "code",
   "execution_count": null,
   "metadata": {},
   "outputs": [],
   "source": [
    "data['Cause Name'].unique()"
   ]
  },
  {
   "cell_type": "code",
   "execution_count": null,
   "metadata": {},
   "outputs": [],
   "source": [
    "data['cause1'].unique()"
   ]
  },
  {
   "cell_type": "code",
   "execution_count": null,
   "metadata": {},
   "outputs": [],
   "source": [
    "data1"
   ]
  },
  {
   "cell_type": "code",
   "execution_count": null,
   "metadata": {},
   "outputs": [],
   "source": [
    "data.head()"
   ]
  },
  {
   "cell_type": "code",
   "execution_count": null,
   "metadata": {},
   "outputs": [],
   "source": [
    "data2 = data.pop('cause2')"
   ]
  },
  {
   "cell_type": "code",
   "execution_count": null,
   "metadata": {},
   "outputs": [],
   "source": [
    "data.head()"
   ]
  },
  {
   "cell_type": "code",
   "execution_count": null,
   "metadata": {},
   "outputs": [],
   "source": [
    "data = data.rename(columns = {'cause1':'Disease Cause'})"
   ]
  },
  {
   "cell_type": "code",
   "execution_count": null,
   "metadata": {
    "scrolled": true
   },
   "outputs": [],
   "source": [
    "data.head()"
   ]
  },
  {
   "cell_type": "code",
   "execution_count": null,
   "metadata": {},
   "outputs": [],
   "source": [
    "data.head()"
   ]
  },
  {
   "cell_type": "code",
   "execution_count": null,
   "metadata": {},
   "outputs": [],
   "source": [
    "#data.loc['Year'] = pd.to_datetime(data.Year,infer_datetime_format=True)\n",
    "#data.dtypes\n",
    "\n",
    "#pd.Series(['Year'] * 1000)\n",
    "#data.loc[:,'Year'] = pd.to_datetime(data.Year)\n",
    "\n",
    "data['Year'] = pd.to_datetime(data['Year']/1000, unit = 's')"
   ]
  },
  {
   "cell_type": "code",
   "execution_count": null,
   "metadata": {},
   "outputs": [],
   "source": [
    "data.head(50)"
   ]
  },
  {
   "cell_type": "code",
   "execution_count": null,
   "metadata": {},
   "outputs": [],
   "source": [
    "data['Cause Name'] = data['Cause Name'].astype('str')\n",
    "data['State'] = data['State'].astype('str')\n",
    "data['Disease Cause'] = data['Disease Cause'].astype('str')\n",
    "\n",
    "#df['column'].astype('|S80')\n",
    "#df['column'] = df['column'].astype('|S')"
   ]
  },
  {
   "cell_type": "code",
   "execution_count": null,
   "metadata": {},
   "outputs": [],
   "source": [
    "for c in data.columns:\n",
    "    if data[c].dtype == object:\n",
    "        print (\"convert \", data[c].name, \" to string\")\n",
    "        data[c] = data[c].astype(str)"
   ]
  },
  {
   "cell_type": "code",
   "execution_count": null,
   "metadata": {},
   "outputs": [],
   "source": [
    "data.info()"
   ]
  },
  {
   "cell_type": "code",
   "execution_count": null,
   "metadata": {},
   "outputs": [],
   "source": [
    "data.head()"
   ]
  },
  {
   "cell_type": "code",
   "execution_count": null,
   "metadata": {},
   "outputs": [],
   "source": [
    "data.describe()"
   ]
  },
  {
   "cell_type": "code",
   "execution_count": null,
   "metadata": {},
   "outputs": [],
   "source": [
    "data.info()"
   ]
  },
  {
   "cell_type": "code",
   "execution_count": null,
   "metadata": {},
   "outputs": [],
   "source": []
  },
  {
   "cell_type": "code",
   "execution_count": null,
   "metadata": {},
   "outputs": [],
   "source": [
    "# Splitting 113 cause name column into two seperate column\n",
    "new = data[\"113 Cause Name\"].str.strip(\"\")"
   ]
  },
  {
   "cell_type": "code",
   "execution_count": null,
   "metadata": {},
   "outputs": [],
   "source": [
    "data['extract_1']= data['State'].str.extract('State==United States') # extract string after ()"
   ]
  },
  {
   "cell_type": "code",
   "execution_count": null,
   "metadata": {},
   "outputs": [],
   "source": []
  },
  {
   "cell_type": "code",
   "execution_count": null,
   "metadata": {},
   "outputs": [],
   "source": [
    "new.head()"
   ]
  },
  {
   "cell_type": "code",
   "execution_count": null,
   "metadata": {},
   "outputs": [],
   "source": [
    "# Splitting 113 cause name column into two seperate column\n",
    "new = data[\"113 Cause Name\"].str.split(\" \", n = 2, expand = True) "
   ]
  },
  {
   "cell_type": "code",
   "execution_count": null,
   "metadata": {
    "scrolled": true
   },
   "outputs": [],
   "source": [
    "new.head()"
   ]
  },
  {
   "cell_type": "code",
   "execution_count": null,
   "metadata": {},
   "outputs": [],
   "source": [
    "data[\"Causes\"]= new[0] \n",
    "data[\"Causes_name\"]= new[1] \n",
    "data[\"causes_2\"] = new[2]\n",
    "data['causes_3']=new[3]"
   ]
  },
  {
   "cell_type": "code",
   "execution_count": null,
   "metadata": {},
   "outputs": [],
   "source": [
    "data.tail(100)"
   ]
  },
  {
   "cell_type": "code",
   "execution_count": null,
   "metadata": {},
   "outputs": [],
   "source": [
    "cause_count = {}\n",
    "for entry in cause_extraction:\n",
    "    if entry in cause_count.keys():\n",
    "        cause_count[entry]+=1\n",
    "    else:\n",
    "        cause_count[entry]=1\n",
    "        \n",
    "print(cause_count)"
   ]
  },
  {
   "cell_type": "code",
   "execution_count": null,
   "metadata": {},
   "outputs": [],
   "source": [
    "data['extract_1']= data['113 Cause Name'].str.extract('.*\\((.*)\\).*',expand=True)"
   ]
  },
  {
   "cell_type": "code",
   "execution_count": null,
   "metadata": {},
   "outputs": [],
   "source": [
    "data.head()"
   ]
  },
  {
   "cell_type": "code",
   "execution_count": null,
   "metadata": {},
   "outputs": [],
   "source": [
    "dogs = ['Joker', 'Simon', 'Ellie', 'Lishka', 'Fido'] \n",
    "for g in dogs:\n",
    "    print (g) "
   ]
  },
  {
   "cell_type": "code",
   "execution_count": null,
   "metadata": {},
   "outputs": [],
   "source": [
    "# for disease\n",
    "df_group = df_clean.groupby('Year')[['Disease Cause','Deaths']]"
   ]
  },
  {
   "cell_type": "code",
   "execution_count": null,
   "metadata": {},
   "outputs": [],
   "source": [
    "df_group.head()"
   ]
  },
  {
   "cell_type": "code",
   "execution_count": null,
   "metadata": {},
   "outputs": [],
   "source": []
  },
  {
   "cell_type": "code",
   "execution_count": null,
   "metadata": {},
   "outputs": [],
   "source": []
  },
  {
   "cell_type": "code",
   "execution_count": null,
   "metadata": {},
   "outputs": [],
   "source": []
  },
  {
   "cell_type": "code",
   "execution_count": null,
   "metadata": {},
   "outputs": [],
   "source": []
  },
  {
   "cell_type": "code",
   "execution_count": null,
   "metadata": {},
   "outputs": [],
   "source": []
  },
  {
   "cell_type": "code",
   "execution_count": null,
   "metadata": {},
   "outputs": [],
   "source": []
  },
  {
   "cell_type": "code",
   "execution_count": null,
   "metadata": {},
   "outputs": [],
   "source": []
  }
 ],
 "metadata": {
  "kernelspec": {
   "display_name": "Python 3",
   "language": "python",
   "name": "python3"
  },
  "language_info": {
   "codemirror_mode": {
    "name": "ipython",
    "version": 3
   },
   "file_extension": ".py",
   "mimetype": "text/x-python",
   "name": "python",
   "nbconvert_exporter": "python",
   "pygments_lexer": "ipython3",
   "version": "3.7.3"
  }
 },
 "nbformat": 4,
 "nbformat_minor": 2
}
