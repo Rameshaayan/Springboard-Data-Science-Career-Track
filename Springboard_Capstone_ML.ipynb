{
 "cells": [
  {
   "cell_type": "code",
   "execution_count": 1,
   "metadata": {},
   "outputs": [],
   "source": [
    "# Loading the required packages\n",
    "import numpy as np\n",
    "import pandas as pd\n",
    "import seaborn as sns\n",
    "import statsmodels.api as sm\n",
    "import matplotlib.pyplot as plt\n",
    "%matplotlib inline\n",
    "from sklearn.linear_model import LinearRegression\n",
    "from sklearn.ensemble import RandomForestRegressor\n",
    "import xgboost as xgb\n",
    "from sklearn.preprocessing import LabelEncoder\n",
    "from sklearn.metrics import mean_squared_error\n",
    "from sklearn.model_selection import train_test_split\n",
    "from sklearn.metrics import roc_auc_score\n",
    "import warnings\n",
    "warnings.filterwarnings('ignore')"
   ]
  },
  {
   "cell_type": "code",
   "execution_count": 2,
   "metadata": {},
   "outputs": [],
   "source": [
    "# Loading the dataset\n",
    "data = pd.read_csv(\"NCHS_-_Leading_Causes_of_Death__United_States.csv\")"
   ]
  },
  {
   "cell_type": "code",
   "execution_count": 3,
   "metadata": {},
   "outputs": [
    {
     "data": {
      "text/html": [
       "<div>\n",
       "<style scoped>\n",
       "    .dataframe tbody tr th:only-of-type {\n",
       "        vertical-align: middle;\n",
       "    }\n",
       "\n",
       "    .dataframe tbody tr th {\n",
       "        vertical-align: top;\n",
       "    }\n",
       "\n",
       "    .dataframe thead th {\n",
       "        text-align: right;\n",
       "    }\n",
       "</style>\n",
       "<table border=\"1\" class=\"dataframe\">\n",
       "  <thead>\n",
       "    <tr style=\"text-align: right;\">\n",
       "      <th></th>\n",
       "      <th>Year</th>\n",
       "      <th>113 Cause Name</th>\n",
       "      <th>Cause Name</th>\n",
       "      <th>State</th>\n",
       "      <th>Deaths</th>\n",
       "      <th>Age-adjusted Death Rate</th>\n",
       "    </tr>\n",
       "  </thead>\n",
       "  <tbody>\n",
       "    <tr>\n",
       "      <th>0</th>\n",
       "      <td>2017</td>\n",
       "      <td>Accidents (unintentional injuries) (V01-X59,Y8...</td>\n",
       "      <td>Unintentional injuries</td>\n",
       "      <td>United States</td>\n",
       "      <td>169936</td>\n",
       "      <td>49.4</td>\n",
       "    </tr>\n",
       "    <tr>\n",
       "      <th>1</th>\n",
       "      <td>2017</td>\n",
       "      <td>Accidents (unintentional injuries) (V01-X59,Y8...</td>\n",
       "      <td>Unintentional injuries</td>\n",
       "      <td>Alabama</td>\n",
       "      <td>2703</td>\n",
       "      <td>53.8</td>\n",
       "    </tr>\n",
       "    <tr>\n",
       "      <th>2</th>\n",
       "      <td>2017</td>\n",
       "      <td>Accidents (unintentional injuries) (V01-X59,Y8...</td>\n",
       "      <td>Unintentional injuries</td>\n",
       "      <td>Alaska</td>\n",
       "      <td>436</td>\n",
       "      <td>63.7</td>\n",
       "    </tr>\n",
       "    <tr>\n",
       "      <th>3</th>\n",
       "      <td>2017</td>\n",
       "      <td>Accidents (unintentional injuries) (V01-X59,Y8...</td>\n",
       "      <td>Unintentional injuries</td>\n",
       "      <td>Arizona</td>\n",
       "      <td>4184</td>\n",
       "      <td>56.2</td>\n",
       "    </tr>\n",
       "    <tr>\n",
       "      <th>4</th>\n",
       "      <td>2017</td>\n",
       "      <td>Accidents (unintentional injuries) (V01-X59,Y8...</td>\n",
       "      <td>Unintentional injuries</td>\n",
       "      <td>Arkansas</td>\n",
       "      <td>1625</td>\n",
       "      <td>51.8</td>\n",
       "    </tr>\n",
       "  </tbody>\n",
       "</table>\n",
       "</div>"
      ],
      "text/plain": [
       "   Year                                     113 Cause Name  \\\n",
       "0  2017  Accidents (unintentional injuries) (V01-X59,Y8...   \n",
       "1  2017  Accidents (unintentional injuries) (V01-X59,Y8...   \n",
       "2  2017  Accidents (unintentional injuries) (V01-X59,Y8...   \n",
       "3  2017  Accidents (unintentional injuries) (V01-X59,Y8...   \n",
       "4  2017  Accidents (unintentional injuries) (V01-X59,Y8...   \n",
       "\n",
       "               Cause Name          State  Deaths  Age-adjusted Death Rate  \n",
       "0  Unintentional injuries  United States  169936                     49.4  \n",
       "1  Unintentional injuries        Alabama    2703                     53.8  \n",
       "2  Unintentional injuries         Alaska     436                     63.7  \n",
       "3  Unintentional injuries        Arizona    4184                     56.2  \n",
       "4  Unintentional injuries       Arkansas    1625                     51.8  "
      ]
     },
     "execution_count": 3,
     "metadata": {},
     "output_type": "execute_result"
    }
   ],
   "source": [
    "# Glimpse of the dataset\n",
    "data.head()"
   ]
  },
  {
   "cell_type": "code",
   "execution_count": 4,
   "metadata": {},
   "outputs": [
    {
     "data": {
      "text/plain": [
       "Year                       0\n",
       "113 Cause Name             0\n",
       "Cause Name                 0\n",
       "State                      0\n",
       "Deaths                     0\n",
       "Age-adjusted Death Rate    0\n",
       "dtype: int64"
      ]
     },
     "execution_count": 4,
     "metadata": {},
     "output_type": "execute_result"
    }
   ],
   "source": [
    "# Checking for any missing values\n",
    "data.isnull().sum()"
   ]
  },
  {
   "cell_type": "code",
   "execution_count": 5,
   "metadata": {},
   "outputs": [
    {
     "name": "stdout",
     "output_type": "stream",
     "text": [
      "<class 'pandas.core.frame.DataFrame'>\n",
      "RangeIndex: 10868 entries, 0 to 10867\n",
      "Data columns (total 6 columns):\n",
      "Year                       10868 non-null int64\n",
      "113 Cause Name             10868 non-null object\n",
      "Cause Name                 10868 non-null object\n",
      "State                      10868 non-null object\n",
      "Deaths                     10868 non-null int64\n",
      "Age-adjusted Death Rate    10868 non-null float64\n",
      "dtypes: float64(1), int64(2), object(3)\n",
      "memory usage: 509.6+ KB\n"
     ]
    }
   ],
   "source": [
    "#Information about the variables and its types\n",
    "data.info()"
   ]
  },
  {
   "cell_type": "markdown",
   "metadata": {},
   "source": [
    "Univariate Analysis of Categorical Features"
   ]
  },
  {
   "cell_type": "code",
   "execution_count": 6,
   "metadata": {},
   "outputs": [
    {
     "data": {
      "text/plain": [
       "19"
      ]
     },
     "execution_count": 6,
     "metadata": {},
     "output_type": "execute_result"
    }
   ],
   "source": [
    "data['Year'].nunique()"
   ]
  },
  {
   "cell_type": "code",
   "execution_count": 7,
   "metadata": {},
   "outputs": [
    {
     "data": {
      "text/plain": [
       "2015    572\n",
       "2003    572\n",
       "2008    572\n",
       "2016    572\n",
       "2001    572\n",
       "2009    572\n",
       "2017    572\n",
       "2002    572\n",
       "2010    572\n",
       "2011    572\n",
       "2007    572\n",
       "2004    572\n",
       "2012    572\n",
       "2005    572\n",
       "2013    572\n",
       "2006    572\n",
       "2014    572\n",
       "1999    572\n",
       "2000    572\n",
       "Name: Year, dtype: int64"
      ]
     },
     "execution_count": 7,
     "metadata": {},
     "output_type": "execute_result"
    }
   ],
   "source": [
    "data['Year'].value_counts()"
   ]
  },
  {
   "cell_type": "markdown",
   "metadata": {},
   "source": [
    "The dataset contains information for 19 years from 1999 to 2017 and each year has 572 data points"
   ]
  },
  {
   "cell_type": "code",
   "execution_count": 8,
   "metadata": {},
   "outputs": [
    {
     "data": {
      "text/plain": [
       "11"
      ]
     },
     "execution_count": 8,
     "metadata": {},
     "output_type": "execute_result"
    }
   ],
   "source": [
    "data['113 Cause Name'].nunique()"
   ]
  },
  {
   "cell_type": "code",
   "execution_count": 9,
   "metadata": {},
   "outputs": [
    {
     "data": {
      "text/plain": [
       "Intentional self-harm (suicide) (*U03,X60-X84,Y87.0)                     988\n",
       "Cerebrovascular diseases (I60-I69)                                       988\n",
       "Chronic lower respiratory diseases (J40-J47)                             988\n",
       "Diabetes mellitus (E10-E14)                                              988\n",
       "Nephritis, nephrotic syndrome and nephrosis (N00-N07,N17-N19,N25-N27)    988\n",
       "Alzheimer's disease (G30)                                                988\n",
       "Malignant neoplasms (C00-C97)                                            988\n",
       "All Causes                                                               988\n",
       "Diseases of heart (I00-I09,I11,I13,I20-I51)                              988\n",
       "Influenza and pneumonia (J09-J18)                                        988\n",
       "Accidents (unintentional injuries) (V01-X59,Y85-Y86)                     988\n",
       "Name: 113 Cause Name, dtype: int64"
      ]
     },
     "execution_count": 9,
     "metadata": {},
     "output_type": "execute_result"
    }
   ],
   "source": [
    "data['113 Cause Name'].value_counts()"
   ]
  },
  {
   "cell_type": "markdown",
   "metadata": {},
   "source": [
    "The dataset contains 11 Cause names and each cause name has 988 data points"
   ]
  },
  {
   "cell_type": "code",
   "execution_count": 10,
   "metadata": {},
   "outputs": [
    {
     "data": {
      "text/plain": [
       "11"
      ]
     },
     "execution_count": 10,
     "metadata": {},
     "output_type": "execute_result"
    }
   ],
   "source": [
    "data['Cause Name'].nunique()"
   ]
  },
  {
   "cell_type": "code",
   "execution_count": 11,
   "metadata": {},
   "outputs": [
    {
     "data": {
      "text/plain": [
       "Alzheimer's disease        988\n",
       "Cancer                     988\n",
       "Kidney disease             988\n",
       "Influenza and pneumonia    988\n",
       "CLRD                       988\n",
       "All causes                 988\n",
       "Heart disease              988\n",
       "Unintentional injuries     988\n",
       "Stroke                     988\n",
       "Diabetes                   988\n",
       "Suicide                    988\n",
       "Name: Cause Name, dtype: int64"
      ]
     },
     "execution_count": 11,
     "metadata": {},
     "output_type": "execute_result"
    }
   ],
   "source": [
    "data['Cause Name'].value_counts()"
   ]
  },
  {
   "cell_type": "markdown",
   "metadata": {},
   "source": [
    "We can see that the column \"113 Cause Name\" and \"Cause Name\" are nearly the same"
   ]
  },
  {
   "cell_type": "code",
   "execution_count": 12,
   "metadata": {},
   "outputs": [
    {
     "data": {
      "text/plain": [
       "52"
      ]
     },
     "execution_count": 12,
     "metadata": {},
     "output_type": "execute_result"
    }
   ],
   "source": [
    "data['State'].nunique()"
   ]
  },
  {
   "cell_type": "code",
   "execution_count": 13,
   "metadata": {},
   "outputs": [
    {
     "data": {
      "text/plain": [
       "Oregon                  209\n",
       "Indiana                 209\n",
       "Pennsylvania            209\n",
       "Alabama                 209\n",
       "Tennessee               209\n",
       "Arkansas                209\n",
       "Delaware                209\n",
       "Nebraska                209\n",
       "Mississippi             209\n",
       "Montana                 209\n",
       "United States           209\n",
       "Washington              209\n",
       "Nevada                  209\n",
       "Missouri                209\n",
       "Alaska                  209\n",
       "North Dakota            209\n",
       "Maryland                209\n",
       "Michigan                209\n",
       "Georgia                 209\n",
       "South Dakota            209\n",
       "Illinois                209\n",
       "Idaho                   209\n",
       "Wisconsin               209\n",
       "West Virginia           209\n",
       "Utah                    209\n",
       "Iowa                    209\n",
       "South Carolina          209\n",
       "Rhode Island            209\n",
       "Texas                   209\n",
       "Florida                 209\n",
       "Minnesota               209\n",
       "Kansas                  209\n",
       "Louisiana               209\n",
       "North Carolina          209\n",
       "New York                209\n",
       "Oklahoma                209\n",
       "Ohio                    209\n",
       "Arizona                 209\n",
       "Massachusetts           209\n",
       "District of Columbia    209\n",
       "California              209\n",
       "Hawaii                  209\n",
       "Maine                   209\n",
       "Virginia                209\n",
       "Colorado                209\n",
       "New Jersey              209\n",
       "Wyoming                 209\n",
       "Connecticut             209\n",
       "New Hampshire           209\n",
       "New Mexico              209\n",
       "Vermont                 209\n",
       "Kentucky                209\n",
       "Name: State, dtype: int64"
      ]
     },
     "execution_count": 13,
     "metadata": {},
     "output_type": "execute_result"
    }
   ],
   "source": [
    "data['State'].value_counts()"
   ]
  },
  {
   "cell_type": "markdown",
   "metadata": {},
   "source": [
    "The dataset contains information of a total of 52 states ad each state has 209 datapoints\n",
    "\n",
    "Univariate analysis of Numerical features"
   ]
  },
  {
   "cell_type": "code",
   "execution_count": 14,
   "metadata": {},
   "outputs": [
    {
     "data": {
      "text/html": [
       "<div>\n",
       "<style scoped>\n",
       "    .dataframe tbody tr th:only-of-type {\n",
       "        vertical-align: middle;\n",
       "    }\n",
       "\n",
       "    .dataframe tbody tr th {\n",
       "        vertical-align: top;\n",
       "    }\n",
       "\n",
       "    .dataframe thead th {\n",
       "        text-align: right;\n",
       "    }\n",
       "</style>\n",
       "<table border=\"1\" class=\"dataframe\">\n",
       "  <thead>\n",
       "    <tr style=\"text-align: right;\">\n",
       "      <th></th>\n",
       "      <th>Year</th>\n",
       "      <th>Deaths</th>\n",
       "      <th>Age-adjusted Death Rate</th>\n",
       "    </tr>\n",
       "  </thead>\n",
       "  <tbody>\n",
       "    <tr>\n",
       "      <th>count</th>\n",
       "      <td>10868.000000</td>\n",
       "      <td>1.086800e+04</td>\n",
       "      <td>10868.000000</td>\n",
       "    </tr>\n",
       "    <tr>\n",
       "      <th>mean</th>\n",
       "      <td>2008.000000</td>\n",
       "      <td>1.545991e+04</td>\n",
       "      <td>127.563894</td>\n",
       "    </tr>\n",
       "    <tr>\n",
       "      <th>std</th>\n",
       "      <td>5.477478</td>\n",
       "      <td>1.128760e+05</td>\n",
       "      <td>223.639771</td>\n",
       "    </tr>\n",
       "    <tr>\n",
       "      <th>min</th>\n",
       "      <td>1999.000000</td>\n",
       "      <td>2.100000e+01</td>\n",
       "      <td>2.600000</td>\n",
       "    </tr>\n",
       "    <tr>\n",
       "      <th>25%</th>\n",
       "      <td>2003.000000</td>\n",
       "      <td>6.120000e+02</td>\n",
       "      <td>19.200000</td>\n",
       "    </tr>\n",
       "    <tr>\n",
       "      <th>50%</th>\n",
       "      <td>2008.000000</td>\n",
       "      <td>1.718500e+03</td>\n",
       "      <td>35.900000</td>\n",
       "    </tr>\n",
       "    <tr>\n",
       "      <th>75%</th>\n",
       "      <td>2013.000000</td>\n",
       "      <td>5.756500e+03</td>\n",
       "      <td>151.725000</td>\n",
       "    </tr>\n",
       "    <tr>\n",
       "      <th>max</th>\n",
       "      <td>2017.000000</td>\n",
       "      <td>2.813503e+06</td>\n",
       "      <td>1087.300000</td>\n",
       "    </tr>\n",
       "  </tbody>\n",
       "</table>\n",
       "</div>"
      ],
      "text/plain": [
       "               Year        Deaths  Age-adjusted Death Rate\n",
       "count  10868.000000  1.086800e+04             10868.000000\n",
       "mean    2008.000000  1.545991e+04               127.563894\n",
       "std        5.477478  1.128760e+05               223.639771\n",
       "min     1999.000000  2.100000e+01                 2.600000\n",
       "25%     2003.000000  6.120000e+02                19.200000\n",
       "50%     2008.000000  1.718500e+03                35.900000\n",
       "75%     2013.000000  5.756500e+03               151.725000\n",
       "max     2017.000000  2.813503e+06              1087.300000"
      ]
     },
     "execution_count": 14,
     "metadata": {},
     "output_type": "execute_result"
    }
   ],
   "source": [
    "data.describe()"
   ]
  },
  {
   "cell_type": "markdown",
   "metadata": {},
   "source": [
    "Bi-Variate Analysis"
   ]
  },
  {
   "cell_type": "code",
   "execution_count": 15,
   "metadata": {},
   "outputs": [
    {
     "name": "stdout",
     "output_type": "stream",
     "text": [
      "Identified outliers: 57\n",
      "Non-outlier observations: 10811\n"
     ]
    }
   ],
   "source": [
    "data_mean = np.mean(data['Deaths'])\n",
    "data_std = np.std(data['Deaths'])\n",
    "# identify outliers\n",
    "cut_off = data_std * 3\n",
    "lower, upper = data_mean - cut_off, data_mean + cut_off\n",
    "# identify outliers\n",
    "outliers = [x for x in data['Deaths'] if x < lower or x > upper]\n",
    "print('Identified outliers: %d' % len(outliers))\n",
    "# remove outliers\n",
    "outliers_removed = [x for x in data['Deaths'] if x >= lower and x <= upper]\n",
    "print('Non-outlier observations: %d' % len(outliers_removed))"
   ]
  },
  {
   "cell_type": "code",
   "execution_count": 16,
   "metadata": {},
   "outputs": [
    {
     "data": {
      "text/plain": [
       "<matplotlib.axes._subplots.AxesSubplot at 0x22d9bf8e0b8>"
      ]
     },
     "execution_count": 16,
     "metadata": {},
     "output_type": "execute_result"
    },
    {
     "data": {
      "image/png": "[encoded data removed]",
      "text/plain": [
       "<Figure size 1152x648 with 1 Axes>"
      ]
     },
     "metadata": {
      "needs_background": "light"
     },
     "output_type": "display_data"
    }
   ],
   "source": [
    "# Analyzing the 'year' vs 'Age-adjusted Death Rate'\n",
    "plt.figure(figsize=(16, 9))\n",
    "sns.boxplot(data['Year'], data['Age-adjusted Death Rate'])"
   ]
  },
  {
   "cell_type": "code",
   "execution_count": 17,
   "metadata": {},
   "outputs": [
    {
     "data": {
      "text/plain": [
       "<matplotlib.axes._subplots.AxesSubplot at 0x22d9c432780>"
      ]
     },
     "execution_count": 17,
     "metadata": {},
     "output_type": "execute_result"
    },
    {
     "data": {
      "image/png": "[encoded data removed]",
      "text/plain": [
       "<Figure size 1440x648 with 1 Axes>"
      ]
     },
     "metadata": {
      "needs_background": "light"
     },
     "output_type": "display_data"
    }
   ],
   "source": [
    "# Analyzing the 'Cause Name' vs 'Age-adjusted Death Rate'\n",
    "plt.figure(figsize=(20, 9))\n",
    "sns.boxplot(data['Cause Name'], data['Age-adjusted Death Rate'])"
   ]
  },
  {
   "cell_type": "code",
   "execution_count": 18,
   "metadata": {},
   "outputs": [
    {
     "data": {
      "text/plain": [
       "<matplotlib.axes._subplots.AxesSubplot at 0x22d9bf8ee48>"
      ]
     },
     "execution_count": 18,
     "metadata": {},
     "output_type": "execute_result"
    },
    {
     "data": {
      "image/png": "[encoded data removed]",
      "text/plain": [
       "<Figure size 720x720 with 1 Axes>"
      ]
     },
     "metadata": {
      "needs_background": "light"
     },
     "output_type": "display_data"
    }
   ],
   "source": [
    "# Analyzing the 'State' vs 'Age-adjusted Death Rate'\n",
    "plt.figure(figsize=(10, 10))\n",
    "sns.boxplot(data['Age-adjusted Death Rate'],data['State'])"
   ]
  },
  {
   "cell_type": "code",
   "execution_count": 19,
   "metadata": {},
   "outputs": [
    {
     "data": {
      "text/plain": [
       "<matplotlib.axes._subplots.AxesSubplot at 0x22d9ccf0cc0>"
      ]
     },
     "execution_count": 19,
     "metadata": {},
     "output_type": "execute_result"
    },
    {
     "data": {
      "image/png": "[encoded data removed]",
      "text/plain": [
       "<Figure size 1440x648 with 1 Axes>"
      ]
     },
     "metadata": {
      "needs_background": "light"
     },
     "output_type": "display_data"
    }
   ],
   "source": [
    "# Analyzing the 'Deaths' vs 'Age-adjusted Death Rate'\n",
    "plt.figure(figsize=(20, 9))\n",
    "sns.scatterplot(data['Deaths'], data['Age-adjusted Death Rate'])"
   ]
  },
  {
   "cell_type": "code",
   "execution_count": 20,
   "metadata": {},
   "outputs": [
    {
     "data": {
      "text/html": [
       "<div>\n",
       "<style scoped>\n",
       "    .dataframe tbody tr th:only-of-type {\n",
       "        vertical-align: middle;\n",
       "    }\n",
       "\n",
       "    .dataframe tbody tr th {\n",
       "        vertical-align: top;\n",
       "    }\n",
       "\n",
       "    .dataframe thead th {\n",
       "        text-align: right;\n",
       "    }\n",
       "</style>\n",
       "<table border=\"1\" class=\"dataframe\">\n",
       "  <thead>\n",
       "    <tr style=\"text-align: right;\">\n",
       "      <th></th>\n",
       "      <th>Deaths</th>\n",
       "      <th>Age-adjusted Death Rate</th>\n",
       "    </tr>\n",
       "    <tr>\n",
       "      <th>Year</th>\n",
       "      <th></th>\n",
       "      <th></th>\n",
       "    </tr>\n",
       "  </thead>\n",
       "  <tbody>\n",
       "    <tr>\n",
       "      <th>1999</th>\n",
       "      <td>15025.262238</td>\n",
       "      <td>143.517657</td>\n",
       "    </tr>\n",
       "    <tr>\n",
       "      <th>2000</th>\n",
       "      <td>15054.353147</td>\n",
       "      <td>142.217133</td>\n",
       "    </tr>\n",
       "    <tr>\n",
       "      <th>2001</th>\n",
       "      <td>15090.150350</td>\n",
       "      <td>140.362762</td>\n",
       "    </tr>\n",
       "    <tr>\n",
       "      <th>2002</th>\n",
       "      <td>15252.657343</td>\n",
       "      <td>139.978497</td>\n",
       "    </tr>\n",
       "    <tr>\n",
       "      <th>2003</th>\n",
       "      <td>15246.164336</td>\n",
       "      <td>138.022203</td>\n",
       "    </tr>\n",
       "    <tr>\n",
       "      <th>2004</th>\n",
       "      <td>14901.216783</td>\n",
       "      <td>132.391958</td>\n",
       "    </tr>\n",
       "    <tr>\n",
       "      <th>2005</th>\n",
       "      <td>15167.825175</td>\n",
       "      <td>132.766434</td>\n",
       "    </tr>\n",
       "    <tr>\n",
       "      <th>2006</th>\n",
       "      <td>14968.321678</td>\n",
       "      <td>128.669231</td>\n",
       "    </tr>\n",
       "    <tr>\n",
       "      <th>2007</th>\n",
       "      <td>14930.115385</td>\n",
       "      <td>126.036713</td>\n",
       "    </tr>\n",
       "    <tr>\n",
       "      <th>2008</th>\n",
       "      <td>15192.185315</td>\n",
       "      <td>125.900874</td>\n",
       "    </tr>\n",
       "    <tr>\n",
       "      <th>2009</th>\n",
       "      <td>14949.874126</td>\n",
       "      <td>121.587063</td>\n",
       "    </tr>\n",
       "    <tr>\n",
       "      <th>2010</th>\n",
       "      <td>15107.636364</td>\n",
       "      <td>121.234965</td>\n",
       "    </tr>\n",
       "    <tr>\n",
       "      <th>2011</th>\n",
       "      <td>15331.395105</td>\n",
       "      <td>120.057517</td>\n",
       "    </tr>\n",
       "    <tr>\n",
       "      <th>2012</th>\n",
       "      <td>15454.080420</td>\n",
       "      <td>118.287413</td>\n",
       "    </tr>\n",
       "    <tr>\n",
       "      <th>2013</th>\n",
       "      <td>15759.804196</td>\n",
       "      <td>118.104895</td>\n",
       "    </tr>\n",
       "    <tr>\n",
       "      <th>2014</th>\n",
       "      <td>15960.930070</td>\n",
       "      <td>117.617308</td>\n",
       "    </tr>\n",
       "    <tr>\n",
       "      <th>2015</th>\n",
       "      <td>16523.241259</td>\n",
       "      <td>119.385315</td>\n",
       "    </tr>\n",
       "    <tr>\n",
       "      <th>2016</th>\n",
       "      <td>16707.576923</td>\n",
       "      <td>118.534965</td>\n",
       "    </tr>\n",
       "    <tr>\n",
       "      <th>2017</th>\n",
       "      <td>17115.503497</td>\n",
       "      <td>119.041084</td>\n",
       "    </tr>\n",
       "  </tbody>\n",
       "</table>\n",
       "</div>"
      ],
      "text/plain": [
       "            Deaths  Age-adjusted Death Rate\n",
       "Year                                       \n",
       "1999  15025.262238               143.517657\n",
       "2000  15054.353147               142.217133\n",
       "2001  15090.150350               140.362762\n",
       "2002  15252.657343               139.978497\n",
       "2003  15246.164336               138.022203\n",
       "2004  14901.216783               132.391958\n",
       "2005  15167.825175               132.766434\n",
       "2006  14968.321678               128.669231\n",
       "2007  14930.115385               126.036713\n",
       "2008  15192.185315               125.900874\n",
       "2009  14949.874126               121.587063\n",
       "2010  15107.636364               121.234965\n",
       "2011  15331.395105               120.057517\n",
       "2012  15454.080420               118.287413\n",
       "2013  15759.804196               118.104895\n",
       "2014  15960.930070               117.617308\n",
       "2015  16523.241259               119.385315\n",
       "2016  16707.576923               118.534965\n",
       "2017  17115.503497               119.041084"
      ]
     },
     "execution_count": 20,
     "metadata": {},
     "output_type": "execute_result"
    }
   ],
   "source": [
    "# Mean 'Deaths' and 'Age-adjusted Death Rate' per year\n",
    "df = data.groupby('Year').mean()\n",
    "df[['Deaths', 'Age-adjusted Death Rate']]"
   ]
  },
  {
   "cell_type": "code",
   "execution_count": 21,
   "metadata": {},
   "outputs": [
    {
     "data": {
      "text/html": [
       "<div>\n",
       "<style scoped>\n",
       "    .dataframe tbody tr th:only-of-type {\n",
       "        vertical-align: middle;\n",
       "    }\n",
       "\n",
       "    .dataframe tbody tr th {\n",
       "        vertical-align: top;\n",
       "    }\n",
       "\n",
       "    .dataframe thead th {\n",
       "        text-align: right;\n",
       "    }\n",
       "</style>\n",
       "<table border=\"1\" class=\"dataframe\">\n",
       "  <thead>\n",
       "    <tr style=\"text-align: right;\">\n",
       "      <th></th>\n",
       "      <th>Deaths</th>\n",
       "      <th>Age-adjusted Death Rate</th>\n",
       "    </tr>\n",
       "    <tr>\n",
       "      <th>Cause Name</th>\n",
       "      <th></th>\n",
       "      <th></th>\n",
       "    </tr>\n",
       "  </thead>\n",
       "  <tbody>\n",
       "    <tr>\n",
       "      <th>All causes</th>\n",
       "      <td>96616.536437</td>\n",
       "      <td>798.633907</td>\n",
       "    </tr>\n",
       "    <tr>\n",
       "      <th>Alzheimer's disease</th>\n",
       "      <td>3025.943320</td>\n",
       "      <td>25.010223</td>\n",
       "    </tr>\n",
       "    <tr>\n",
       "      <th>CLRD</th>\n",
       "      <td>5252.888664</td>\n",
       "      <td>44.596862</td>\n",
       "    </tr>\n",
       "    <tr>\n",
       "      <th>Cancer</th>\n",
       "      <td>21950.696356</td>\n",
       "      <td>178.586134</td>\n",
       "    </tr>\n",
       "    <tr>\n",
       "      <th>Diabetes</th>\n",
       "      <td>2833.892713</td>\n",
       "      <td>23.393522</td>\n",
       "    </tr>\n",
       "    <tr>\n",
       "      <th>Heart disease</th>\n",
       "      <td>24742.186235</td>\n",
       "      <td>198.002935</td>\n",
       "    </tr>\n",
       "    <tr>\n",
       "      <th>Influenza and pneumonia</th>\n",
       "      <td>2215.872470</td>\n",
       "      <td>18.204757</td>\n",
       "    </tr>\n",
       "    <tr>\n",
       "      <th>Kidney disease</th>\n",
       "      <td>1738.082996</td>\n",
       "      <td>14.068927</td>\n",
       "    </tr>\n",
       "    <tr>\n",
       "      <th>Stroke</th>\n",
       "      <td>5519.277328</td>\n",
       "      <td>45.888563</td>\n",
       "    </tr>\n",
       "    <tr>\n",
       "      <th>Suicide</th>\n",
       "      <td>1410.963563</td>\n",
       "      <td>13.405162</td>\n",
       "    </tr>\n",
       "    <tr>\n",
       "      <th>Unintentional injuries</th>\n",
       "      <td>4752.672065</td>\n",
       "      <td>43.411842</td>\n",
       "    </tr>\n",
       "  </tbody>\n",
       "</table>\n",
       "</div>"
      ],
      "text/plain": [
       "                               Deaths  Age-adjusted Death Rate\n",
       "Cause Name                                                    \n",
       "All causes               96616.536437               798.633907\n",
       "Alzheimer's disease       3025.943320                25.010223\n",
       "CLRD                      5252.888664                44.596862\n",
       "Cancer                   21950.696356               178.586134\n",
       "Diabetes                  2833.892713                23.393522\n",
       "Heart disease            24742.186235               198.002935\n",
       "Influenza and pneumonia   2215.872470                18.204757\n",
       "Kidney disease            1738.082996                14.068927\n",
       "Stroke                    5519.277328                45.888563\n",
       "Suicide                   1410.963563                13.405162\n",
       "Unintentional injuries    4752.672065                43.411842"
      ]
     },
     "execution_count": 21,
     "metadata": {},
     "output_type": "execute_result"
    }
   ],
   "source": [
    "# Mean 'Deaths' and 'Age-adjusted Death Rate' per Cause Name\n",
    "df = data.groupby('Cause Name').mean()\n",
    "df[['Deaths', 'Age-adjusted Death Rate']]"
   ]
  },
  {
   "cell_type": "code",
   "execution_count": 22,
   "metadata": {},
   "outputs": [
    {
     "data": {
      "text/html": [
       "<div>\n",
       "<style scoped>\n",
       "    .dataframe tbody tr th:only-of-type {\n",
       "        vertical-align: middle;\n",
       "    }\n",
       "\n",
       "    .dataframe tbody tr th {\n",
       "        vertical-align: top;\n",
       "    }\n",
       "\n",
       "    .dataframe thead th {\n",
       "        text-align: right;\n",
       "    }\n",
       "</style>\n",
       "<table border=\"1\" class=\"dataframe\">\n",
       "  <thead>\n",
       "    <tr style=\"text-align: right;\">\n",
       "      <th></th>\n",
       "      <th>Deaths</th>\n",
       "      <th>Age-adjusted Death Rate</th>\n",
       "    </tr>\n",
       "    <tr>\n",
       "      <th>State</th>\n",
       "      <th></th>\n",
       "      <th></th>\n",
       "    </tr>\n",
       "  </thead>\n",
       "  <tbody>\n",
       "    <tr>\n",
       "      <th>Alabama</th>\n",
       "      <td>7672.416268</td>\n",
       "      <td>153.289474</td>\n",
       "    </tr>\n",
       "    <tr>\n",
       "      <th>Alaska</th>\n",
       "      <td>564.066986</td>\n",
       "      <td>122.824402</td>\n",
       "    </tr>\n",
       "    <tr>\n",
       "      <th>Arizona</th>\n",
       "      <td>7523.650718</td>\n",
       "      <td>117.020096</td>\n",
       "    </tr>\n",
       "    <tr>\n",
       "      <th>Arkansas</th>\n",
       "      <td>4724.665072</td>\n",
       "      <td>148.490909</td>\n",
       "    </tr>\n",
       "    <tr>\n",
       "      <th>California</th>\n",
       "      <td>39088.578947</td>\n",
       "      <td>112.487081</td>\n",
       "    </tr>\n",
       "    <tr>\n",
       "      <th>Colorado</th>\n",
       "      <td>4973.373206</td>\n",
       "      <td>113.485646</td>\n",
       "    </tr>\n",
       "    <tr>\n",
       "      <th>Connecticut</th>\n",
       "      <td>4693.909091</td>\n",
       "      <td>110.500957</td>\n",
       "    </tr>\n",
       "    <tr>\n",
       "      <th>Delaware</th>\n",
       "      <td>1220.167464</td>\n",
       "      <td>127.641148</td>\n",
       "    </tr>\n",
       "    <tr>\n",
       "      <th>District of Columbia</th>\n",
       "      <td>808.167464</td>\n",
       "      <td>137.261244</td>\n",
       "    </tr>\n",
       "    <tr>\n",
       "      <th>Florida</th>\n",
       "      <td>28077.660287</td>\n",
       "      <td>115.979426</td>\n",
       "    </tr>\n",
       "    <tr>\n",
       "      <th>Georgia</th>\n",
       "      <td>11130.454545</td>\n",
       "      <td>137.992344</td>\n",
       "    </tr>\n",
       "    <tr>\n",
       "      <th>Hawaii</th>\n",
       "      <td>1534.220096</td>\n",
       "      <td>99.152632</td>\n",
       "    </tr>\n",
       "    <tr>\n",
       "      <th>Idaho</th>\n",
       "      <td>1797.105263</td>\n",
       "      <td>121.215789</td>\n",
       "    </tr>\n",
       "    <tr>\n",
       "      <th>Illinois</th>\n",
       "      <td>16698.339713</td>\n",
       "      <td>125.834928</td>\n",
       "    </tr>\n",
       "    <tr>\n",
       "      <th>Indiana</th>\n",
       "      <td>9256.655502</td>\n",
       "      <td>137.670813</td>\n",
       "    </tr>\n",
       "    <tr>\n",
       "      <th>Iowa</th>\n",
       "      <td>4566.918660</td>\n",
       "      <td>120.427751</td>\n",
       "    </tr>\n",
       "    <tr>\n",
       "      <th>Kansas</th>\n",
       "      <td>3980.095694</td>\n",
       "      <td>126.438756</td>\n",
       "    </tr>\n",
       "    <tr>\n",
       "      <th>Kentucky</th>\n",
       "      <td>6812.846890</td>\n",
       "      <td>152.374641</td>\n",
       "    </tr>\n",
       "    <tr>\n",
       "      <th>Louisiana</th>\n",
       "      <td>6744.339713</td>\n",
       "      <td>150.830144</td>\n",
       "    </tr>\n",
       "    <tr>\n",
       "      <th>Maine</th>\n",
       "      <td>2073.741627</td>\n",
       "      <td>126.217703</td>\n",
       "    </tr>\n",
       "    <tr>\n",
       "      <th>Maryland</th>\n",
       "      <td>7031.947368</td>\n",
       "      <td>123.244976</td>\n",
       "    </tr>\n",
       "    <tr>\n",
       "      <th>Massachusetts</th>\n",
       "      <td>8670.760766</td>\n",
       "      <td>113.964593</td>\n",
       "    </tr>\n",
       "    <tr>\n",
       "      <th>Michigan</th>\n",
       "      <td>14408.464115</td>\n",
       "      <td>132.384211</td>\n",
       "    </tr>\n",
       "    <tr>\n",
       "      <th>Minnesota</th>\n",
       "      <td>6162.799043</td>\n",
       "      <td>108.055981</td>\n",
       "    </tr>\n",
       "    <tr>\n",
       "      <th>Mississippi</th>\n",
       "      <td>4746.875598</td>\n",
       "      <td>159.457416</td>\n",
       "    </tr>\n",
       "    <tr>\n",
       "      <th>Missouri</th>\n",
       "      <td>9117.459330</td>\n",
       "      <td>138.155502</td>\n",
       "    </tr>\n",
       "    <tr>\n",
       "      <th>Montana</th>\n",
       "      <td>1410.449761</td>\n",
       "      <td>124.954067</td>\n",
       "    </tr>\n",
       "    <tr>\n",
       "      <th>Nebraska</th>\n",
       "      <td>2454.698565</td>\n",
       "      <td>118.997608</td>\n",
       "    </tr>\n",
       "    <tr>\n",
       "      <th>Nevada</th>\n",
       "      <td>3122.507177</td>\n",
       "      <td>133.824402</td>\n",
       "    </tr>\n",
       "    <tr>\n",
       "      <th>New Hampshire</th>\n",
       "      <td>1693.224880</td>\n",
       "      <td>118.907177</td>\n",
       "    </tr>\n",
       "    <tr>\n",
       "      <th>New Jersey</th>\n",
       "      <td>11469.110048</td>\n",
       "      <td>117.609091</td>\n",
       "    </tr>\n",
       "    <tr>\n",
       "      <th>New Mexico</th>\n",
       "      <td>2494.157895</td>\n",
       "      <td>123.066029</td>\n",
       "    </tr>\n",
       "    <tr>\n",
       "      <th>New York</th>\n",
       "      <td>24694.047847</td>\n",
       "      <td>114.734928</td>\n",
       "    </tr>\n",
       "    <tr>\n",
       "      <th>North Carolina</th>\n",
       "      <td>12479.057416</td>\n",
       "      <td>133.838756</td>\n",
       "    </tr>\n",
       "    <tr>\n",
       "      <th>North Dakota</th>\n",
       "      <td>966.942584</td>\n",
       "      <td>116.434928</td>\n",
       "    </tr>\n",
       "    <tr>\n",
       "      <th>Ohio</th>\n",
       "      <td>17780.894737</td>\n",
       "      <td>136.896651</td>\n",
       "    </tr>\n",
       "    <tr>\n",
       "      <th>Oklahoma</th>\n",
       "      <td>5948.119617</td>\n",
       "      <td>151.800478</td>\n",
       "    </tr>\n",
       "    <tr>\n",
       "      <th>Oregon</th>\n",
       "      <td>5090.971292</td>\n",
       "      <td>120.391388</td>\n",
       "    </tr>\n",
       "    <tr>\n",
       "      <th>Pennsylvania</th>\n",
       "      <td>20595.655502</td>\n",
       "      <td>129.354545</td>\n",
       "    </tr>\n",
       "    <tr>\n",
       "      <th>Rhode Island</th>\n",
       "      <td>1567.655502</td>\n",
       "      <td>119.559809</td>\n",
       "    </tr>\n",
       "    <tr>\n",
       "      <th>South Carolina</th>\n",
       "      <td>6530.449761</td>\n",
       "      <td>140.352153</td>\n",
       "    </tr>\n",
       "    <tr>\n",
       "      <th>South Dakota</th>\n",
       "      <td>1168.315789</td>\n",
       "      <td>120.623923</td>\n",
       "    </tr>\n",
       "    <tr>\n",
       "      <th>Tennessee</th>\n",
       "      <td>9627.995215</td>\n",
       "      <td>148.650239</td>\n",
       "    </tr>\n",
       "    <tr>\n",
       "      <th>Texas</th>\n",
       "      <td>26483.387560</td>\n",
       "      <td>128.070335</td>\n",
       "    </tr>\n",
       "    <tr>\n",
       "      <th>United States</th>\n",
       "      <td>401957.665072</td>\n",
       "      <td>125.522010</td>\n",
       "    </tr>\n",
       "    <tr>\n",
       "      <th>Utah</th>\n",
       "      <td>2261.086124</td>\n",
       "      <td>113.762201</td>\n",
       "    </tr>\n",
       "    <tr>\n",
       "      <th>Vermont</th>\n",
       "      <td>858.124402</td>\n",
       "      <td>118.968900</td>\n",
       "    </tr>\n",
       "    <tr>\n",
       "      <th>Virginia</th>\n",
       "      <td>9518.401914</td>\n",
       "      <td>124.835407</td>\n",
       "    </tr>\n",
       "    <tr>\n",
       "      <th>Washington</th>\n",
       "      <td>7823.339713</td>\n",
       "      <td>117.964593</td>\n",
       "    </tr>\n",
       "    <tr>\n",
       "      <th>West Virginia</th>\n",
       "      <td>3454.488038</td>\n",
       "      <td>154.106220</td>\n",
       "    </tr>\n",
       "    <tr>\n",
       "      <th>Wisconsin</th>\n",
       "      <td>7690.387560</td>\n",
       "      <td>120.296172</td>\n",
       "    </tr>\n",
       "    <tr>\n",
       "      <th>Wyoming</th>\n",
       "      <td>694.516746</td>\n",
       "      <td>127.401914</td>\n",
       "    </tr>\n",
       "  </tbody>\n",
       "</table>\n",
       "</div>"
      ],
      "text/plain": [
       "                             Deaths  Age-adjusted Death Rate\n",
       "State                                                       \n",
       "Alabama                 7672.416268               153.289474\n",
       "Alaska                   564.066986               122.824402\n",
       "Arizona                 7523.650718               117.020096\n",
       "Arkansas                4724.665072               148.490909\n",
       "California             39088.578947               112.487081\n",
       "Colorado                4973.373206               113.485646\n",
       "Connecticut             4693.909091               110.500957\n",
       "Delaware                1220.167464               127.641148\n",
       "District of Columbia     808.167464               137.261244\n",
       "Florida                28077.660287               115.979426\n",
       "Georgia                11130.454545               137.992344\n",
       "Hawaii                  1534.220096                99.152632\n",
       "Idaho                   1797.105263               121.215789\n",
       "Illinois               16698.339713               125.834928\n",
       "Indiana                 9256.655502               137.670813\n",
       "Iowa                    4566.918660               120.427751\n",
       "Kansas                  3980.095694               126.438756\n",
       "Kentucky                6812.846890               152.374641\n",
       "Louisiana               6744.339713               150.830144\n",
       "Maine                   2073.741627               126.217703\n",
       "Maryland                7031.947368               123.244976\n",
       "Massachusetts           8670.760766               113.964593\n",
       "Michigan               14408.464115               132.384211\n",
       "Minnesota               6162.799043               108.055981\n",
       "Mississippi             4746.875598               159.457416\n",
       "Missouri                9117.459330               138.155502\n",
       "Montana                 1410.449761               124.954067\n",
       "Nebraska                2454.698565               118.997608\n",
       "Nevada                  3122.507177               133.824402\n",
       "New Hampshire           1693.224880               118.907177\n",
       "New Jersey             11469.110048               117.609091\n",
       "New Mexico              2494.157895               123.066029\n",
       "New York               24694.047847               114.734928\n",
       "North Carolina         12479.057416               133.838756\n",
       "North Dakota             966.942584               116.434928\n",
       "Ohio                   17780.894737               136.896651\n",
       "Oklahoma                5948.119617               151.800478\n",
       "Oregon                  5090.971292               120.391388\n",
       "Pennsylvania           20595.655502               129.354545\n",
       "Rhode Island            1567.655502               119.559809\n",
       "South Carolina          6530.449761               140.352153\n",
       "South Dakota            1168.315789               120.623923\n",
       "Tennessee               9627.995215               148.650239\n",
       "Texas                  26483.387560               128.070335\n",
       "United States         401957.665072               125.522010\n",
       "Utah                    2261.086124               113.762201\n",
       "Vermont                  858.124402               118.968900\n",
       "Virginia                9518.401914               124.835407\n",
       "Washington              7823.339713               117.964593\n",
       "West Virginia           3454.488038               154.106220\n",
       "Wisconsin               7690.387560               120.296172\n",
       "Wyoming                  694.516746               127.401914"
      ]
     },
     "execution_count": 22,
     "metadata": {},
     "output_type": "execute_result"
    }
   ],
   "source": [
    "# Mean 'Deaths' and 'Age-adjusted Death Rate' per State\n",
    "df = data.groupby('State').mean()\n",
    "df[['Deaths', 'Age-adjusted Death Rate']]"
   ]
  },
  {
   "cell_type": "code",
   "execution_count": 23,
   "metadata": {},
   "outputs": [],
   "source": [
    "#data with united states only excluding all causes\n",
    "df_US = data.loc[(data['State'] == 'United States') & (data['Cause Name'] != 'All causes')]"
   ]
  },
  {
   "cell_type": "code",
   "execution_count": 24,
   "metadata": {},
   "outputs": [],
   "source": [
    "df_US= df_US.drop('Cause Name',axis = 1)"
   ]
  },
  {
   "cell_type": "code",
   "execution_count": 25,
   "metadata": {},
   "outputs": [
    {
     "data": {
      "text/html": [
       "<div>\n",
       "<style scoped>\n",
       "    .dataframe tbody tr th:only-of-type {\n",
       "        vertical-align: middle;\n",
       "    }\n",
       "\n",
       "    .dataframe tbody tr th {\n",
       "        vertical-align: top;\n",
       "    }\n",
       "\n",
       "    .dataframe thead th {\n",
       "        text-align: right;\n",
       "    }\n",
       "</style>\n",
       "<table border=\"1\" class=\"dataframe\">\n",
       "  <thead>\n",
       "    <tr style=\"text-align: right;\">\n",
       "      <th></th>\n",
       "      <th>Year</th>\n",
       "      <th>113 Cause Name</th>\n",
       "      <th>State</th>\n",
       "      <th>Deaths</th>\n",
       "      <th>Age-adjusted Death Rate</th>\n",
       "    </tr>\n",
       "  </thead>\n",
       "  <tbody>\n",
       "    <tr>\n",
       "      <th>0</th>\n",
       "      <td>2017</td>\n",
       "      <td>Accidents (unintentional injuries) (V01-X59,Y8...</td>\n",
       "      <td>United States</td>\n",
       "      <td>169936</td>\n",
       "      <td>49.4</td>\n",
       "    </tr>\n",
       "    <tr>\n",
       "      <th>104</th>\n",
       "      <td>2017</td>\n",
       "      <td>Alzheimer's disease (G30)</td>\n",
       "      <td>United States</td>\n",
       "      <td>121404</td>\n",
       "      <td>31.0</td>\n",
       "    </tr>\n",
       "    <tr>\n",
       "      <th>156</th>\n",
       "      <td>2017</td>\n",
       "      <td>Cerebrovascular diseases (I60-I69)</td>\n",
       "      <td>United States</td>\n",
       "      <td>146383</td>\n",
       "      <td>37.6</td>\n",
       "    </tr>\n",
       "    <tr>\n",
       "      <th>208</th>\n",
       "      <td>2017</td>\n",
       "      <td>Chronic lower respiratory diseases (J40-J47)</td>\n",
       "      <td>United States</td>\n",
       "      <td>160201</td>\n",
       "      <td>40.9</td>\n",
       "    </tr>\n",
       "    <tr>\n",
       "      <th>260</th>\n",
       "      <td>2017</td>\n",
       "      <td>Diabetes mellitus (E10-E14)</td>\n",
       "      <td>United States</td>\n",
       "      <td>83564</td>\n",
       "      <td>21.5</td>\n",
       "    </tr>\n",
       "  </tbody>\n",
       "</table>\n",
       "</div>"
      ],
      "text/plain": [
       "     Year                                     113 Cause Name          State  \\\n",
       "0    2017  Accidents (unintentional injuries) (V01-X59,Y8...  United States   \n",
       "104  2017                          Alzheimer's disease (G30)  United States   \n",
       "156  2017                 Cerebrovascular diseases (I60-I69)  United States   \n",
       "208  2017       Chronic lower respiratory diseases (J40-J47)  United States   \n",
       "260  2017                        Diabetes mellitus (E10-E14)  United States   \n",
       "\n",
       "     Deaths  Age-adjusted Death Rate  \n",
       "0    169936                     49.4  \n",
       "104  121404                     31.0  \n",
       "156  146383                     37.6  \n",
       "208  160201                     40.9  \n",
       "260   83564                     21.5  "
      ]
     },
     "execution_count": 25,
     "metadata": {},
     "output_type": "execute_result"
    }
   ],
   "source": [
    "df_US.head()"
   ]
  },
  {
   "cell_type": "code",
   "execution_count": 26,
   "metadata": {},
   "outputs": [
    {
     "data": {
      "text/html": [
       "<div>\n",
       "<style scoped>\n",
       "    .dataframe tbody tr th:only-of-type {\n",
       "        vertical-align: middle;\n",
       "    }\n",
       "\n",
       "    .dataframe tbody tr th {\n",
       "        vertical-align: top;\n",
       "    }\n",
       "\n",
       "    .dataframe thead th {\n",
       "        text-align: right;\n",
       "    }\n",
       "</style>\n",
       "<table border=\"1\" class=\"dataframe\">\n",
       "  <thead>\n",
       "    <tr style=\"text-align: right;\">\n",
       "      <th></th>\n",
       "      <th>Deaths</th>\n",
       "      <th>Age-adjusted Death Rate</th>\n",
       "    </tr>\n",
       "    <tr>\n",
       "      <th>Year</th>\n",
       "      <th></th>\n",
       "      <th></th>\n",
       "    </tr>\n",
       "  </thead>\n",
       "  <tbody>\n",
       "    <tr>\n",
       "      <th>1999</th>\n",
       "      <td>1905826</td>\n",
       "      <td>698.1</td>\n",
       "    </tr>\n",
       "    <tr>\n",
       "      <th>2000</th>\n",
       "      <td>1902194</td>\n",
       "      <td>688.0</td>\n",
       "    </tr>\n",
       "    <tr>\n",
       "      <th>2001</th>\n",
       "      <td>1899358</td>\n",
       "      <td>675.7</td>\n",
       "    </tr>\n",
       "    <tr>\n",
       "      <th>2002</th>\n",
       "      <td>1918873</td>\n",
       "      <td>672.1</td>\n",
       "    </tr>\n",
       "    <tr>\n",
       "      <th>2003</th>\n",
       "      <td>1912115</td>\n",
       "      <td>658.8</td>\n",
       "    </tr>\n",
       "    <tr>\n",
       "      <th>2004</th>\n",
       "      <td>1864133</td>\n",
       "      <td>632.6</td>\n",
       "    </tr>\n",
       "    <tr>\n",
       "      <th>2005</th>\n",
       "      <td>1889981</td>\n",
       "      <td>628.8</td>\n",
       "    </tr>\n",
       "    <tr>\n",
       "      <th>2006</th>\n",
       "      <td>1854676</td>\n",
       "      <td>604.8</td>\n",
       "    </tr>\n",
       "    <tr>\n",
       "      <th>2007</th>\n",
       "      <td>1846301</td>\n",
       "      <td>590.3</td>\n",
       "    </tr>\n",
       "    <tr>\n",
       "      <th>2008</th>\n",
       "      <td>1872981</td>\n",
       "      <td>586.7</td>\n",
       "    </tr>\n",
       "    <tr>\n",
       "      <th>2009</th>\n",
       "      <td>1838501</td>\n",
       "      <td>564.8</td>\n",
       "    </tr>\n",
       "    <tr>\n",
       "      <th>2010</th>\n",
       "      <td>1852349</td>\n",
       "      <td>559.6</td>\n",
       "    </tr>\n",
       "    <tr>\n",
       "      <th>2011</th>\n",
       "      <td>1869321</td>\n",
       "      <td>550.0</td>\n",
       "    </tr>\n",
       "    <tr>\n",
       "      <th>2012</th>\n",
       "      <td>1876588</td>\n",
       "      <td>539.7</td>\n",
       "    </tr>\n",
       "    <tr>\n",
       "      <th>2013</th>\n",
       "      <td>1910311</td>\n",
       "      <td>537.1</td>\n",
       "    </tr>\n",
       "    <tr>\n",
       "      <th>2014</th>\n",
       "      <td>1938408</td>\n",
       "      <td>533.3</td>\n",
       "    </tr>\n",
       "    <tr>\n",
       "      <th>2015</th>\n",
       "      <td>2013017</td>\n",
       "      <td>542.0</td>\n",
       "    </tr>\n",
       "    <tr>\n",
       "      <th>2016</th>\n",
       "      <td>2034119</td>\n",
       "      <td>538.0</td>\n",
       "    </tr>\n",
       "    <tr>\n",
       "      <th>2017</th>\n",
       "      <td>2081531</td>\n",
       "      <td>539.2</td>\n",
       "    </tr>\n",
       "  </tbody>\n",
       "</table>\n",
       "</div>"
      ],
      "text/plain": [
       "       Deaths  Age-adjusted Death Rate\n",
       "Year                                  \n",
       "1999  1905826                    698.1\n",
       "2000  1902194                    688.0\n",
       "2001  1899358                    675.7\n",
       "2002  1918873                    672.1\n",
       "2003  1912115                    658.8\n",
       "2004  1864133                    632.6\n",
       "2005  1889981                    628.8\n",
       "2006  1854676                    604.8\n",
       "2007  1846301                    590.3\n",
       "2008  1872981                    586.7\n",
       "2009  1838501                    564.8\n",
       "2010  1852349                    559.6\n",
       "2011  1869321                    550.0\n",
       "2012  1876588                    539.7\n",
       "2013  1910311                    537.1\n",
       "2014  1938408                    533.3\n",
       "2015  2013017                    542.0\n",
       "2016  2034119                    538.0\n",
       "2017  2081531                    539.2"
      ]
     },
     "execution_count": 26,
     "metadata": {},
     "output_type": "execute_result"
    }
   ],
   "source": [
    "death_year = df_US.groupby(['Year']).sum()\n",
    "death_year"
   ]
  },
  {
   "cell_type": "code",
   "execution_count": 27,
   "metadata": {},
   "outputs": [
    {
     "data": {
      "image/png": "[encoded data removed]",
      "text/plain": [
       "<Figure size 1440x720 with 1 Axes>"
      ]
     },
     "metadata": {
      "needs_background": "light"
     },
     "output_type": "display_data"
    }
   ],
   "source": [
    "death_year['Deaths'].plot(figsize=(20,10), linewidth=2, marker='.', colormap='brg', fontsize=20, logy=True)\n",
    "plt.xlabel('Date', fontsize=20);\n",
    "plt.ylabel('Cases Logarithmic count', fontsize=20);\n",
    "plt.title('Death per year\\n 1999-2017 Logarithmic Time Series in US', fontsize=20);"
   ]
  },
  {
   "cell_type": "code",
   "execution_count": 28,
   "metadata": {},
   "outputs": [
    {
     "data": {
      "image/png": "[encoded data removed]",
      "text/plain": [
       "<Figure size 1080x720 with 1 Axes>"
      ]
     },
     "metadata": {
      "needs_background": "light"
     },
     "output_type": "display_data"
    }
   ],
   "source": [
    "plt.figure(figsize=(15,10))\n",
    "sns.barplot(x=\"Deaths\", y=\"113 Cause Name\", label='small', data=df_US.sort_values(by=\"Deaths\",ascending=False))\n",
    "plt.title('Cause of Death', fontsize=20)\n",
    "plt.tight_layout()\n",
    "plt.tick_params(labelsize=20)\n",
    "plt.show()"
   ]
  },
  {
   "cell_type": "code",
   "execution_count": 29,
   "metadata": {},
   "outputs": [
    {
     "data": {
      "text/plain": [
       "<matplotlib.axes._subplots.AxesSubplot at 0x22d9e15f9b0>"
      ]
     },
     "execution_count": 29,
     "metadata": {},
     "output_type": "execute_result"
    },
    {
     "data": {
      "image/png": "[encoded data removed]",
      "text/plain": [
       "<Figure size 432x288 with 1 Axes>"
      ]
     },
     "metadata": {
      "needs_background": "light"
     },
     "output_type": "display_data"
    }
   ],
   "source": [
    "sns.distplot(data['Deaths'])"
   ]
  },
  {
   "cell_type": "code",
   "execution_count": 30,
   "metadata": {},
   "outputs": [
    {
     "data": {
      "text/plain": [
       "<matplotlib.axes._subplots.AxesSubplot at 0x22d9ee2f2e8>"
      ]
     },
     "execution_count": 30,
     "metadata": {},
     "output_type": "execute_result"
    },
    {
     "data": {
      "image/png": "[encoded data removed]",
      "text/plain": [
       "<Figure size 432x288 with 1 Axes>"
      ]
     },
     "metadata": {
      "needs_background": "light"
     },
     "output_type": "display_data"
    }
   ],
   "source": [
    "sns.distplot(data['Age-adjusted Death Rate'])"
   ]
  },
  {
   "cell_type": "code",
   "execution_count": 31,
   "metadata": {},
   "outputs": [],
   "source": [
    "q = data['Deaths'].quantile(0.99)\n",
    "data_1 = data[data['Deaths']<q]"
   ]
  },
  {
   "cell_type": "code",
   "execution_count": 32,
   "metadata": {},
   "outputs": [
    {
     "data": {
      "text/plain": [
       "<matplotlib.axes._subplots.AxesSubplot at 0x22d9eef8cf8>"
      ]
     },
     "execution_count": 32,
     "metadata": {},
     "output_type": "execute_result"
    },
    {
     "data": {
      "image/png": "[encoded data removed]",
      "text/plain": [
       "<Figure size 432x288 with 1 Axes>"
      ]
     },
     "metadata": {
      "needs_background": "light"
     },
     "output_type": "display_data"
    }
   ],
   "source": [
    "sns.distplot(data_1['Deaths'])"
   ]
  },
  {
   "cell_type": "code",
   "execution_count": 33,
   "metadata": {},
   "outputs": [
    {
     "data": {
      "text/plain": [
       "<matplotlib.axes._subplots.AxesSubplot at 0x22d9efed748>"
      ]
     },
     "execution_count": 33,
     "metadata": {},
     "output_type": "execute_result"
    },
    {
     "data": {
      "image/png": "[encoded data removed]",
      "text/plain": [
       "<Figure size 432x288 with 1 Axes>"
      ]
     },
     "metadata": {
      "needs_background": "light"
     },
     "output_type": "display_data"
    }
   ],
   "source": [
    "q = data_1['Age-adjusted Death Rate'].quantile(0.99)\n",
    "data_2 = data[data['Age-adjusted Death Rate']<q]\n",
    "sns.distplot(data_2['Age-adjusted Death Rate'])"
   ]
  },
  {
   "cell_type": "code",
   "execution_count": 34,
   "metadata": {},
   "outputs": [],
   "source": [
    "log_death = np.log(data['Deaths'])"
   ]
  },
  {
   "cell_type": "code",
   "execution_count": 35,
   "metadata": {},
   "outputs": [],
   "source": [
    "data['log_death'] = log_death"
   ]
  },
  {
   "cell_type": "code",
   "execution_count": 36,
   "metadata": {},
   "outputs": [
    {
     "data": {
      "text/html": [
       "<div>\n",
       "<style scoped>\n",
       "    .dataframe tbody tr th:only-of-type {\n",
       "        vertical-align: middle;\n",
       "    }\n",
       "\n",
       "    .dataframe tbody tr th {\n",
       "        vertical-align: top;\n",
       "    }\n",
       "\n",
       "    .dataframe thead th {\n",
       "        text-align: right;\n",
       "    }\n",
       "</style>\n",
       "<table border=\"1\" class=\"dataframe\">\n",
       "  <thead>\n",
       "    <tr style=\"text-align: right;\">\n",
       "      <th></th>\n",
       "      <th>Year</th>\n",
       "      <th>113 Cause Name</th>\n",
       "      <th>Cause Name</th>\n",
       "      <th>State</th>\n",
       "      <th>Deaths</th>\n",
       "      <th>Age-adjusted Death Rate</th>\n",
       "      <th>log_death</th>\n",
       "    </tr>\n",
       "  </thead>\n",
       "  <tbody>\n",
       "    <tr>\n",
       "      <th>0</th>\n",
       "      <td>2017</td>\n",
       "      <td>Accidents (unintentional injuries) (V01-X59,Y8...</td>\n",
       "      <td>Unintentional injuries</td>\n",
       "      <td>United States</td>\n",
       "      <td>169936</td>\n",
       "      <td>49.4</td>\n",
       "      <td>12.043177</td>\n",
       "    </tr>\n",
       "    <tr>\n",
       "      <th>1</th>\n",
       "      <td>2017</td>\n",
       "      <td>Accidents (unintentional injuries) (V01-X59,Y8...</td>\n",
       "      <td>Unintentional injuries</td>\n",
       "      <td>Alabama</td>\n",
       "      <td>2703</td>\n",
       "      <td>53.8</td>\n",
       "      <td>7.902118</td>\n",
       "    </tr>\n",
       "    <tr>\n",
       "      <th>2</th>\n",
       "      <td>2017</td>\n",
       "      <td>Accidents (unintentional injuries) (V01-X59,Y8...</td>\n",
       "      <td>Unintentional injuries</td>\n",
       "      <td>Alaska</td>\n",
       "      <td>436</td>\n",
       "      <td>63.7</td>\n",
       "      <td>6.077642</td>\n",
       "    </tr>\n",
       "    <tr>\n",
       "      <th>3</th>\n",
       "      <td>2017</td>\n",
       "      <td>Accidents (unintentional injuries) (V01-X59,Y8...</td>\n",
       "      <td>Unintentional injuries</td>\n",
       "      <td>Arizona</td>\n",
       "      <td>4184</td>\n",
       "      <td>56.2</td>\n",
       "      <td>8.339023</td>\n",
       "    </tr>\n",
       "    <tr>\n",
       "      <th>4</th>\n",
       "      <td>2017</td>\n",
       "      <td>Accidents (unintentional injuries) (V01-X59,Y8...</td>\n",
       "      <td>Unintentional injuries</td>\n",
       "      <td>Arkansas</td>\n",
       "      <td>1625</td>\n",
       "      <td>51.8</td>\n",
       "      <td>7.393263</td>\n",
       "    </tr>\n",
       "  </tbody>\n",
       "</table>\n",
       "</div>"
      ],
      "text/plain": [
       "   Year                                     113 Cause Name  \\\n",
       "0  2017  Accidents (unintentional injuries) (V01-X59,Y8...   \n",
       "1  2017  Accidents (unintentional injuries) (V01-X59,Y8...   \n",
       "2  2017  Accidents (unintentional injuries) (V01-X59,Y8...   \n",
       "3  2017  Accidents (unintentional injuries) (V01-X59,Y8...   \n",
       "4  2017  Accidents (unintentional injuries) (V01-X59,Y8...   \n",
       "\n",
       "               Cause Name          State  Deaths  Age-adjusted Death Rate  \\\n",
       "0  Unintentional injuries  United States  169936                     49.4   \n",
       "1  Unintentional injuries        Alabama    2703                     53.8   \n",
       "2  Unintentional injuries         Alaska     436                     63.7   \n",
       "3  Unintentional injuries        Arizona    4184                     56.2   \n",
       "4  Unintentional injuries       Arkansas    1625                     51.8   \n",
       "\n",
       "   log_death  \n",
       "0  12.043177  \n",
       "1   7.902118  \n",
       "2   6.077642  \n",
       "3   8.339023  \n",
       "4   7.393263  "
      ]
     },
     "execution_count": 36,
     "metadata": {},
     "output_type": "execute_result"
    }
   ],
   "source": [
    "data.head()"
   ]
  },
  {
   "cell_type": "code",
   "execution_count": 37,
   "metadata": {},
   "outputs": [],
   "source": [
    "from statsmodels.stats.outliers_influence import variance_inflation_factor\n",
    "variables = data[['Year','Deaths','Age-adjusted Death Rate']]\n",
    "vif = pd.DataFrame()\n",
    "vif[\"VIF\"] = [variance_inflation_factor(variables.values , i) for i in range (variables.shape[1])]\n",
    "vif[\"Features\"] = variables.columns"
   ]
  },
  {
   "cell_type": "code",
   "execution_count": 38,
   "metadata": {},
   "outputs": [
    {
     "data": {
      "text/html": [
       "<div>\n",
       "<style scoped>\n",
       "    .dataframe tbody tr th:only-of-type {\n",
       "        vertical-align: middle;\n",
       "    }\n",
       "\n",
       "    .dataframe tbody tr th {\n",
       "        vertical-align: top;\n",
       "    }\n",
       "\n",
       "    .dataframe thead th {\n",
       "        text-align: right;\n",
       "    }\n",
       "</style>\n",
       "<table border=\"1\" class=\"dataframe\">\n",
       "  <thead>\n",
       "    <tr style=\"text-align: right;\">\n",
       "      <th></th>\n",
       "      <th>VIF</th>\n",
       "      <th>Features</th>\n",
       "    </tr>\n",
       "  </thead>\n",
       "  <tbody>\n",
       "    <tr>\n",
       "      <th>0</th>\n",
       "      <td>1.325250</td>\n",
       "      <td>Year</td>\n",
       "    </tr>\n",
       "    <tr>\n",
       "      <th>1</th>\n",
       "      <td>1.076213</td>\n",
       "      <td>Deaths</td>\n",
       "    </tr>\n",
       "    <tr>\n",
       "      <th>2</th>\n",
       "      <td>1.399952</td>\n",
       "      <td>Age-adjusted Death Rate</td>\n",
       "    </tr>\n",
       "  </tbody>\n",
       "</table>\n",
       "</div>"
      ],
      "text/plain": [
       "        VIF                 Features\n",
       "0  1.325250                     Year\n",
       "1  1.076213                   Deaths\n",
       "2  1.399952  Age-adjusted Death Rate"
      ]
     },
     "execution_count": 38,
     "metadata": {},
     "output_type": "execute_result"
    }
   ],
   "source": [
    "vif"
   ]
  },
  {
   "cell_type": "code",
   "execution_count": null,
   "metadata": {},
   "outputs": [],
   "source": []
  },
  {
   "cell_type": "markdown",
   "metadata": {},
   "source": [
    "Hypothesis Testing"
   ]
  },
  {
   "cell_type": "code",
   "execution_count": 39,
   "metadata": {},
   "outputs": [],
   "source": [
    "# Converting categorical values to labels using Label Encoder\n",
    "\n",
    "le = LabelEncoder()\n",
    "data['Year'] = le.fit_transform(data['Year'])\n",
    "data['Cause Name'] = le.fit_transform(data['Cause Name'])\n",
    "data['State'] = le.fit_transform(data['State'])"
   ]
  },
  {
   "cell_type": "code",
   "execution_count": 40,
   "metadata": {},
   "outputs": [],
   "source": [
    "# Normalizing the numerical values\n",
    "from sklearn.preprocessing import LabelEncoder, StandardScaler\n",
    "sc = StandardScaler()\n",
    "data['Deaths'] = sc.fit_transform(np.array(data['Deaths']).reshape(-1,1))"
   ]
  },
  {
   "cell_type": "code",
   "execution_count": 41,
   "metadata": {},
   "outputs": [],
   "source": [
    "# Dropping '113 Cause Name' because we already have 'Cause Name'\n",
    "data.drop('113 Cause Name', axis = 1, inplace=True)"
   ]
  },
  {
   "cell_type": "code",
   "execution_count": 42,
   "metadata": {},
   "outputs": [
    {
     "data": {
      "text/plain": [
       "Index(['Year', 'Cause Name', 'State', 'Deaths', 'Age-adjusted Death Rate',\n",
       "       'log_death'],\n",
       "      dtype='object')"
      ]
     },
     "execution_count": 42,
     "metadata": {},
     "output_type": "execute_result"
    }
   ],
   "source": [
    "data.columns"
   ]
  },
  {
   "cell_type": "code",
   "execution_count": 43,
   "metadata": {},
   "outputs": [],
   "source": [
    "# Using all the other fields as independent fields\n",
    "X = data.drop('Age-adjusted Death Rate', axis=1)\n",
    "y = data['Age-adjusted Death Rate']\n",
    "\n",
    "X = sm.add_constant(X) # adding a constant"
   ]
  },
  {
   "cell_type": "markdown",
   "metadata": {},
   "source": [
    "Since this is a Multiple Linear Regression, We need to know the importance of variables(significance) with respect to the hypothesis. To do this, we need to calculate the p value for each variable and if it is less than the desired cutoff (0.05 is the general cut off for 95% significance) then we can say with confidence that a variable is significant. "
   ]
  },
  {
   "cell_type": "code",
   "execution_count": 44,
   "metadata": {},
   "outputs": [],
   "source": [
    "# Fitting the ordinary least square model\n",
    "model = sm.OLS(y, X).fit()\n",
    "predictions = model.predict(X) "
   ]
  },
  {
   "cell_type": "code",
   "execution_count": 45,
   "metadata": {},
   "outputs": [
    {
     "name": "stdout",
     "output_type": "stream",
     "text": [
      "                               OLS Regression Results                              \n",
      "===================================================================================\n",
      "Dep. Variable:     Age-adjusted Death Rate   R-squared:                       0.495\n",
      "Model:                                 OLS   Adj. R-squared:                  0.495\n",
      "Method:                      Least Squares   F-statistic:                     2129.\n",
      "Date:                     Sat, 16 May 2020   Prob (F-statistic):               0.00\n",
      "Time:                             14:51:43   Log-Likelihood:                -70504.\n",
      "No. Observations:                    10868   AIC:                         1.410e+05\n",
      "Df Residuals:                        10862   BIC:                         1.411e+05\n",
      "Df Model:                                5                                         \n",
      "Covariance Type:                 nonrobust                                         \n",
      "==============================================================================\n",
      "                 coef    std err          t      P>|t|      [0.025      0.975]\n",
      "------------------------------------------------------------------------------\n",
      "const       -197.6607      9.582    -20.629      0.000    -216.443    -178.879\n",
      "Year          -2.2865      0.279     -8.207      0.000      -2.833      -1.740\n",
      "Cause Name   -24.5465      0.521    -47.111      0.000     -25.568     -23.525\n",
      "State         -0.3098      0.102     -3.039      0.002      -0.510      -0.110\n",
      "Deaths         3.7313      1.633      2.286      0.022       0.531       6.931\n",
      "log_death     62.6171      1.002     62.485      0.000      60.653      64.581\n",
      "==============================================================================\n",
      "Omnibus:                     2043.139   Durbin-Watson:                   0.575\n",
      "Prob(Omnibus):                  0.000   Jarque-Bera (JB):             4261.822\n",
      "Skew:                           1.112   Prob(JB):                         0.00\n",
      "Kurtosis:                       5.113   Cond. No.                         200.\n",
      "==============================================================================\n",
      "\n",
      "Warnings:\n",
      "[1] Standard Errors assume that the covariance matrix of the errors is correctly specified.\n"
     ]
    }
   ],
   "source": [
    "# Model summary\n",
    "print_model = model.summary()\n",
    "print(print_model)"
   ]
  },
  {
   "cell_type": "markdown",
   "metadata": {},
   "source": [
    "Here we can see that all variables are significant as the p value is less than 0.05"
   ]
  },
  {
   "cell_type": "code",
   "execution_count": 46,
   "metadata": {
    "scrolled": true
   },
   "outputs": [
    {
     "data": {
      "image/png": "[encoded data removed]",
      "text/plain": [
       "<Figure size 432x288 with 1 Axes>"
      ]
     },
     "metadata": {
      "needs_background": "light"
     },
     "output_type": "display_data"
    }
   ],
   "source": [
    "plt.scatter(model.fittedvalues, model.resid)\n",
    "plt.xlabel('model values')\n",
    "plt.ylabel('residuals')\n",
    "plt.title('Fitted values vs residuals plot');"
   ]
  },
  {
   "cell_type": "code",
   "execution_count": 47,
   "metadata": {},
   "outputs": [
    {
     "data": {
      "image/png": "[encoded data removed]",
      "text/plain": [
       "<Figure size 432x288 with 1 Axes>"
      ]
     },
     "metadata": {
      "needs_background": "light"
     },
     "output_type": "display_data"
    }
   ],
   "source": [
    "sm.qqplot(model.resid)\n",
    "plt.title('QQ plot of the residuals');"
   ]
  },
  {
   "cell_type": "code",
   "execution_count": null,
   "metadata": {},
   "outputs": [],
   "source": []
  },
  {
   "cell_type": "markdown",
   "metadata": {},
   "source": [
    "Creating a Machine Learning Model"
   ]
  },
  {
   "cell_type": "code",
   "execution_count": 48,
   "metadata": {},
   "outputs": [],
   "source": [
    "# Creating target variable y and Independent variables X\n",
    "\n",
    "X = data.drop('Age-adjusted Death Rate', axis=1)\n",
    "y = data['Age-adjusted Death Rate']"
   ]
  },
  {
   "cell_type": "code",
   "execution_count": 49,
   "metadata": {},
   "outputs": [],
   "source": [
    "# train test splitting the data\n",
    "\n",
    "X_train, X_test, y_train, y_test = train_test_split(X, y, test_size=0.33, random_state=42)"
   ]
  },
  {
   "cell_type": "markdown",
   "metadata": {},
   "source": [
    "Linear Regression Model"
   ]
  },
  {
   "cell_type": "code",
   "execution_count": 50,
   "metadata": {},
   "outputs": [
    {
     "data": {
      "text/plain": [
       "LinearRegression(copy_X=True, fit_intercept=True, n_jobs=None, normalize=False)"
      ]
     },
     "execution_count": 50,
     "metadata": {},
     "output_type": "execute_result"
    }
   ],
   "source": [
    "# Fitting the Linear Regression Model\n",
    "\n",
    "lr = LinearRegression()\n",
    "lr.fit(X_train, y_train)"
   ]
  },
  {
   "cell_type": "code",
   "execution_count": 51,
   "metadata": {},
   "outputs": [
    {
     "data": {
      "text/plain": [
       "array([438.53493804,  27.7718581 , 280.60019229, ..., 106.56656405,\n",
       "       236.48543354, 422.94936063])"
      ]
     },
     "execution_count": 51,
     "metadata": {},
     "output_type": "execute_result"
    }
   ],
   "source": [
    "# Making predictions on the test set\n",
    "\n",
    "preds_lr = lr.predict(X_test)\n",
    "preds_lr"
   ]
  },
  {
   "cell_type": "code",
   "execution_count": 52,
   "metadata": {},
   "outputs": [
    {
     "data": {
      "text/plain": [
       "(3587,)"
      ]
     },
     "execution_count": 52,
     "metadata": {},
     "output_type": "execute_result"
    }
   ],
   "source": [
    "y_test.shape"
   ]
  },
  {
   "cell_type": "markdown",
   "metadata": {},
   "source": [
    " A typical performance measure for regression problems is the Root Mean Square Error (RMSE). It gives an idea of how much error the system typically makes in its predictions, with a higher weight for large errors."
   ]
  },
  {
   "cell_type": "code",
   "execution_count": null,
   "metadata": {},
   "outputs": [],
   "source": []
  },
  {
   "cell_type": "code",
   "execution_count": 53,
   "metadata": {},
   "outputs": [
    {
     "name": "stdout",
     "output_type": "stream",
     "text": [
      "Root mean squared error score of Logistic Regression is :  161.0946518520185\n"
     ]
    }
   ],
   "source": [
    "# Calculating root mean squared error as this is a Regression problem\n",
    "\n",
    "print(\"Root mean squared error score of Logistic Regression is : \", np.sqrt(mean_squared_error(y_test, preds_lr)))"
   ]
  },
  {
   "cell_type": "code",
   "execution_count": 54,
   "metadata": {},
   "outputs": [
    {
     "data": {
      "text/plain": [
       "<matplotlib.axes._subplots.AxesSubplot at 0x22d9efe0be0>"
      ]
     },
     "execution_count": 54,
     "metadata": {},
     "output_type": "execute_result"
    },
    {
     "data": {
      "image/png": "[encoded data removed]",
      "text/plain": [
       "<Figure size 432x288 with 1 Axes>"
      ]
     },
     "metadata": {
      "needs_background": "light"
     },
     "output_type": "display_data"
    }
   ],
   "source": [
    "feat_importances = pd.Series(lr.coef_, index=X.columns)\n",
    "feat_importances.plot(kind='barh')"
   ]
  },
  {
   "cell_type": "code",
   "execution_count": 55,
   "metadata": {},
   "outputs": [
    {
     "data": {
      "text/plain": [
       "0.4912968200551197"
      ]
     },
     "execution_count": 55,
     "metadata": {},
     "output_type": "execute_result"
    }
   ],
   "source": [
    "lr.score(X_train,y_train)"
   ]
  },
  {
   "cell_type": "markdown",
   "metadata": {},
   "source": [
    "Random Forest Regression Model"
   ]
  },
  {
   "cell_type": "code",
   "execution_count": 56,
   "metadata": {},
   "outputs": [
    {
     "data": {
      "text/plain": [
       "RandomForestRegressor(bootstrap=True, ccp_alpha=0.0, criterion='mse',\n",
       "                      max_depth=None, max_features='auto', max_leaf_nodes=None,\n",
       "                      max_samples=None, min_impurity_decrease=0.0,\n",
       "                      min_impurity_split=None, min_samples_leaf=1,\n",
       "                      min_samples_split=2, min_weight_fraction_leaf=0.0,\n",
       "                      n_estimators=100, n_jobs=None, oob_score=False,\n",
       "                      random_state=None, verbose=0, warm_start=False)"
      ]
     },
     "execution_count": 56,
     "metadata": {},
     "output_type": "execute_result"
    }
   ],
   "source": [
    "# Fitting the Random Forest Regression Model\n",
    "\n",
    "rf = RandomForestRegressor()\n",
    "rf.fit(X_train, y_train)"
   ]
  },
  {
   "cell_type": "code",
   "execution_count": 57,
   "metadata": {},
   "outputs": [],
   "source": [
    "# Making predictions on the test set\n",
    "\n",
    "preds_rf = rf.predict(X_test)"
   ]
  },
  {
   "cell_type": "code",
   "execution_count": 58,
   "metadata": {},
   "outputs": [
    {
     "name": "stdout",
     "output_type": "stream",
     "text": [
      "Root mean squared error score of Random Forest Regression is :  11.662016827783113\n"
     ]
    }
   ],
   "source": [
    "# Calculating root mean squared error as this is a Regression problem\n",
    "\n",
    "print(\"Root mean squared error score of Random Forest Regression is : \", np.sqrt(mean_squared_error(y_test, preds_rf)))"
   ]
  },
  {
   "cell_type": "code",
   "execution_count": 59,
   "metadata": {},
   "outputs": [
    {
     "data": {
      "text/plain": [
       "<matplotlib.axes._subplots.AxesSubplot at 0x22d9e01a7b8>"
      ]
     },
     "execution_count": 59,
     "metadata": {},
     "output_type": "execute_result"
    },
    {
     "data": {
      "image/png": "[encoded data removed]",
      "text/plain": [
       "<Figure size 432x288 with 1 Axes>"
      ]
     },
     "metadata": {
      "needs_background": "light"
     },
     "output_type": "display_data"
    }
   ],
   "source": [
    "feat_importances = pd.Series(rf.feature_importances_, index=X.columns)\n",
    "feat_importances.plot(kind='barh')"
   ]
  },
  {
   "cell_type": "code",
   "execution_count": 60,
   "metadata": {},
   "outputs": [
    {
     "data": {
      "text/plain": [
       "0.9996697824361709"
      ]
     },
     "execution_count": 60,
     "metadata": {},
     "output_type": "execute_result"
    }
   ],
   "source": [
    "rf.score(X_train,y_train)"
   ]
  },
  {
   "cell_type": "code",
   "execution_count": 61,
   "metadata": {},
   "outputs": [
    {
     "data": {
      "text/plain": [
       "<matplotlib.collections.PathCollection at 0x22d9e595b38>"
      ]
     },
     "execution_count": 61,
     "metadata": {},
     "output_type": "execute_result"
    },
    {
     "data": {
      "image/png": "[encoded data removed]",
      "text/plain": [
       "<Figure size 432x288 with 1 Axes>"
      ]
     },
     "metadata": {
      "needs_background": "light"
     },
     "output_type": "display_data"
    }
   ],
   "source": [
    "plt.scatter(y_test,preds_rf)"
   ]
  },
  {
   "cell_type": "markdown",
   "metadata": {},
   "source": [
    "Xgboost Regression Model"
   ]
  },
  {
   "cell_type": "code",
   "execution_count": 62,
   "metadata": {},
   "outputs": [
    {
     "data": {
      "text/plain": [
       "XGBRegressor(base_score=0.5, booster=None, colsample_bylevel=1,\n",
       "             colsample_bynode=1, colsample_bytree=1, gamma=0, gpu_id=-1,\n",
       "             importance_type='gain', interaction_constraints=None,\n",
       "             learning_rate=0.300000012, max_delta_step=0, max_depth=6,\n",
       "             min_child_weight=1, missing=nan, monotone_constraints=None,\n",
       "             n_estimators=100, n_jobs=0, num_parallel_tree=1,\n",
       "             objective='reg:squarederror', random_state=0, reg_alpha=0,\n",
       "             reg_lambda=1, scale_pos_weight=1, subsample=1, tree_method=None,\n",
       "             validate_parameters=False, verbosity=None)"
      ]
     },
     "execution_count": 62,
     "metadata": {},
     "output_type": "execute_result"
    }
   ],
   "source": [
    "# Fitting the Xgboost Regression Model\n",
    "\n",
    "xg = xgb.XGBRegressor()\n",
    "xg.fit(X_train, y_train)"
   ]
  },
  {
   "cell_type": "code",
   "execution_count": 68,
   "metadata": {},
   "outputs": [],
   "source": [
    "# Making predictions on the test set\n",
    "\n",
    "preds_xgb = xg.predict(X_test)"
   ]
  },
  {
   "cell_type": "code",
   "execution_count": 69,
   "metadata": {},
   "outputs": [
    {
     "name": "stdout",
     "output_type": "stream",
     "text": [
      "Root mean squared error score of Xgboost Regression is :  7.606230953932435\n"
     ]
    }
   ],
   "source": [
    "# Calculating root mean squared error as this is a Regression problem\n",
    "\n",
    "print(\"Root mean squared error score of Xgboost Regression is : \", np.sqrt(mean_squared_error(y_test, preds_xgb)))"
   ]
  },
  {
   "cell_type": "code",
   "execution_count": 70,
   "metadata": {},
   "outputs": [
    {
     "data": {
      "text/plain": [
       "<matplotlib.axes._subplots.AxesSubplot at 0x22d9cc56710>"
      ]
     },
     "execution_count": 70,
     "metadata": {},
     "output_type": "execute_result"
    },
    {
     "data": {
      "image/png": "[encoded data removed]",
      "text/plain": [
       "<Figure size 432x288 with 1 Axes>"
      ]
     },
     "metadata": {
      "needs_background": "light"
     },
     "output_type": "display_data"
    }
   ],
   "source": [
    "feat_importances = pd.Series(xg.feature_importances_, index=X.columns)\n",
    "feat_importances.plot(kind='barh')"
   ]
  },
  {
   "cell_type": "code",
   "execution_count": 71,
   "metadata": {},
   "outputs": [
    {
     "data": {
      "text/plain": [
       "0.9997968062542385"
      ]
     },
     "execution_count": 71,
     "metadata": {},
     "output_type": "execute_result"
    }
   ],
   "source": [
    "xg.score(X_train,y_train)"
   ]
  },
  {
   "cell_type": "code",
   "execution_count": 72,
   "metadata": {},
   "outputs": [
    {
     "data": {
      "text/plain": [
       "<matplotlib.collections.PathCollection at 0x22d9ea732b0>"
      ]
     },
     "execution_count": 72,
     "metadata": {},
     "output_type": "execute_result"
    },
    {
     "data": {
      "image/png": "[encoded data removed]",
      "text/plain": [
       "<Figure size 432x288 with 1 Axes>"
      ]
     },
     "metadata": {
      "needs_background": "light"
     },
     "output_type": "display_data"
    }
   ],
   "source": [
    "plt.scatter(y_test,preds_xgb)"
   ]
  },
  {
   "cell_type": "markdown",
   "metadata": {},
   "source": [
    "HyperParameter Tuning"
   ]
  },
  {
   "cell_type": "code",
   "execution_count": 73,
   "metadata": {},
   "outputs": [],
   "source": [
    "from sklearn.model_selection import GridSearchCV\n",
    "# Create the parameter grid based on the results of Xgboost \n",
    "param_grid = {\n",
    "    'gamma': [0, 0.1, 0.01],\n",
    "    'max_depth': [3, 5, 7, 9],\n",
    "    'min_child_weight': [1, 2, 3],\n",
    "    'n_estimators': [100, 200, 300, 500, 1000]\n",
    "}\n",
    "# Create a Regressor based model\n",
    "xg = xgb.XGBRegressor()\n",
    "# Instantiate the grid search model\n",
    "grid_search = GridSearchCV(estimator = xg, param_grid = param_grid, \n",
    "                          cv = 3, n_jobs = -1, verbose = 2)"
   ]
  },
  {
   "cell_type": "code",
   "execution_count": 74,
   "metadata": {},
   "outputs": [
    {
     "name": "stdout",
     "output_type": "stream",
     "text": [
      "Fitting 3 folds for each of 180 candidates, totalling 540 fits\n"
     ]
    },
    {
     "name": "stderr",
     "output_type": "stream",
     "text": [
      "[Parallel(n_jobs=-1)]: Using backend LokyBackend with 4 concurrent workers.\n",
      "[Parallel(n_jobs=-1)]: Done  33 tasks      | elapsed:   18.9s\n",
      "[Parallel(n_jobs=-1)]: Done 154 tasks      | elapsed:  1.9min\n",
      "[Parallel(n_jobs=-1)]: Done 540 out of 540 | elapsed:  7.6min finished\n"
     ]
    },
    {
     "name": "stdout",
     "output_type": "stream",
     "text": [
      "{'gamma': 0.01, 'max_depth': 5, 'min_child_weight': 3, 'n_estimators': 1000}\n"
     ]
    },
    {
     "data": {
      "text/plain": [
       "XGBRegressor(base_score=0.5, booster=None, colsample_bylevel=1,\n",
       "             colsample_bynode=1, colsample_bytree=1, gamma=0.01, gpu_id=-1,\n",
       "             importance_type='gain', interaction_constraints=None,\n",
       "             learning_rate=0.300000012, max_delta_step=0, max_depth=5,\n",
       "             min_child_weight=3, missing=nan, monotone_constraints=None,\n",
       "             n_estimators=1000, n_jobs=0, num_parallel_tree=1,\n",
       "             objective='reg:squarederror', random_state=0, reg_alpha=0,\n",
       "             reg_lambda=1, scale_pos_weight=1, subsample=1, tree_method=None,\n",
       "             validate_parameters=False, verbosity=None)"
      ]
     },
     "execution_count": 74,
     "metadata": {},
     "output_type": "execute_result"
    }
   ],
   "source": [
    "# Fit the grid search to the data\n",
    "grid_search.fit(X_train, y_train)\n",
    "print(grid_search.best_params_)\n",
    "\n",
    "best_grid = grid_search.best_estimator_\n",
    "best_grid.fit(X_train, y_train)"
   ]
  },
  {
   "cell_type": "code",
   "execution_count": 75,
   "metadata": {},
   "outputs": [
    {
     "name": "stdout",
     "output_type": "stream",
     "text": [
      "Root mean squared error score of Xgboost Forest tuned Regression is :  6.128916033765895\n"
     ]
    }
   ],
   "source": [
    "# Performing predictions using the best fit estimator params\n",
    "clf = grid_search.best_estimator_\n",
    "clf.fit(X_train, y_train)\n",
    "print(\"Root mean squared error score of Xgboost Forest tuned Regression is : \", np.sqrt(mean_squared_error(y_test, clf.predict(X_test))))"
   ]
  },
  {
   "cell_type": "markdown",
   "metadata": {},
   "source": [
    "Hence using hyperparameter tuning, we reduced the error from 7.606 to 6.13"
   ]
  },
  {
   "cell_type": "code",
   "execution_count": null,
   "metadata": {},
   "outputs": [],
   "source": []
  }
 ],
 "metadata": {
  "kernelspec": {
   "display_name": "Python 3",
   "language": "python",
   "name": "python3"
  },
  "language_info": {
   "codemirror_mode": {
    "name": "ipython",
    "version": 3
   },
   "file_extension": ".py",
   "mimetype": "text/x-python",
   "name": "python",
   "nbconvert_exporter": "python",
   "pygments_lexer": "ipython3",
   "version": "3.7.3"
  }
 },
 "nbformat": 4,
 "nbformat_minor": 2
}
